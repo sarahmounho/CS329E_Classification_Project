{
 "cells": [
  {
   "cell_type": "markdown",
   "metadata": {},
   "source": [
    "Ensemble Classifiers:\n",
    "Random Forests\n",
    "AdaBoost\n",
    "\n",
    "Created: 4/13/2020\n",
    "Last Modified: 4/13/2020\n",
    "Author: Sarah Mounho"
   ]
  },
  {
   "cell_type": "code",
   "execution_count": 1,
   "metadata": {},
   "outputs": [
    {
     "name": "stderr",
     "output_type": "stream",
     "text": [
      "\n",
      "Bad key \"text.kerning_factor\" on line 4 in\n",
      "C:\\Users\\sarah\\Anaconda3\\envs\\CS329E_Project\\lib\\site-packages\\matplotlib\\mpl-data\\stylelib\\_classic_test_patch.mplstyle.\n",
      "You probably need to get an updated matplotlibrc file from\n",
      "https://github.com/matplotlib/matplotlib/blob/v3.1.2/matplotlibrc.template\n",
      "or from the matplotlib source distribution\n"
     ]
    }
   ],
   "source": [
    "#Library Imports\n",
    "import warnings\n",
    "warnings.simplefilter(\"ignore\")\n",
    "import pandas as pd\n",
    "import numpy as np\n",
    "import sklearn as sk\n",
    "import matplotlib.pyplot as plt\n",
    "import time\n",
    "from sklearn.model_selection import GridSearchCV\n",
    "from sklearn.model_selection import cross_val_predict\n",
    "from sklearn.metrics import classification_report\n",
    "from sklearn.metrics import accuracy_score\n",
    "%matplotlib inline"
   ]
  },
  {
   "cell_type": "code",
   "execution_count": 2,
   "metadata": {},
   "outputs": [
    {
     "name": "stdout",
     "output_type": "stream",
     "text": [
      "TEST\n"
     ]
    }
   ],
   "source": [
    "#import clean data\n",
    "from utils import intake_data\n",
    "data_X, data_Y = intake_data()"
   ]
  },
  {
   "cell_type": "code",
   "execution_count": 8,
   "metadata": {},
   "outputs": [],
   "source": [
    "#Confusion Matrix Function\n",
    "#Create a confusion matrix\n",
    "#Inputs:\n",
    "#Y_Actual = Actual (true) labels\n",
    "#Y_Predicted = Predicted labels from a classifier\n",
    "#classifier = Name of classifier as a string for plt title\n",
    "def create_cm (Y_Actual, Y_Predicted, classifier=None):\n",
    "    try: \n",
    "        import seaborn as sn\n",
    "    except:\n",
    "        print('create_cm(Y_Actual, Y_Predicted, classifier) has a dependency on the library seaborn.')\n",
    "        print('This library was not found, please install and try again.')\n",
    "        return()\n",
    "    if type(classifier) != str:\n",
    "        print('Please input the name of the classifier for plt title as a str')\n",
    "        return()\n",
    "\n",
    "            \n",
    "    data = {'Actual': Y_Actual, 'Predicted':Y_Predicted}\n",
    "    df = pd.DataFrame(data, columns=['Actual', 'Predicted'])\n",
    "    df['Predicted'].replace(0, 'Alive', inplace=True)\n",
    "    df['Predicted'].replace(1, 'Dead', inplace=True)\n",
    "    df['Actual'].replace(0, 'Alive', inplace=True)\n",
    "    df['Actual'].replace(1, 'Dead', inplace=True)\n",
    "    cm = pd.crosstab(df['Actual'], df['Predicted'],\n",
    "                     rownames=['Actual'], colnames=['Predicted'])                                    \n",
    "    #Print a formatted confusion matrix using a heatmap\n",
    "    sn.heatmap(cm, annot=True)\n",
    "    plt_title = 'Confusion Matrix for ' + classifier\n",
    "    plt.title(plt_title)\n",
    "    plt.show()"
   ]
  },
  {
   "cell_type": "markdown",
   "metadata": {},
   "source": [
    "###### Random Forest Classifier \n",
    "Random Forests are an extension of bagged decision trees. They randomly select a subset of the input features for candidate splits to test. The feature with the best gain is selected from the subset. This process is repeated many times. The class label is then decided based on the most frequent classification from the trees. The samples are drawn with replacement.   \n",
    "\n",
    "***Hyperparameters:***  \n",
    "  \n",
    "*max_depth*- The maximumm depth of the tree. The range of values tested for max_depth are: [1, 10, 20, 30, 40, 50]  \n",
    "  \n",
    "*min_samples_leaf*- The minimum number of samples required to be a leaf node. The tree will not be split if less than min_samples_leaf is left in either the left or right branch. The range of values tested for min_samples_leafe are: [1, 2,  3, 4, 5, 6, 7, 8, 9, 10, 11, 12, 13, 14, 15].  \n",
    "  \n",
    "*max_features*- The number of features to consider when looking for the best split. Consider sqrt(n_features) and log2(n_features).  \n",
    "  \n"
   ]
  },
  {
   "cell_type": "code",
   "execution_count": 9,
   "metadata": {},
   "outputs": [
    {
     "name": "stdout",
     "output_type": "stream",
     "text": [
      "Best values for RandomForestClassifier are:\n",
      "max_depth: 10 \n",
      "min_samples_leaf: 1 \n",
      "max_features: log2\n",
      "              precision    recall  f1-score   support\n",
      "\n",
      "           0       0.73      0.68      0.70       127\n",
      "           1       0.70      0.75      0.72       127\n",
      "\n",
      "    accuracy                           0.71       254\n",
      "   macro avg       0.71      0.71      0.71       254\n",
      "weighted avg       0.71      0.71      0.71       254\n",
      "\n"
     ]
    },
    {
     "data": {
      "image/png": "[encoded data removed]",
      "text/plain": [
       "<Figure size 432x288 with 2 Axes>"
      ]
     },
     "metadata": {
      "needs_background": "light"
     },
     "output_type": "display_data"
    }
   ],
   "source": [
    "from sklearn.ensemble import RandomForestClassifier as RFC\n",
    "\n",
    "#Create a random forest classifier\n",
    "rfc = RFC()\n",
    "#params \n",
    "max_depth_lst = list(range(1, 51, 9))\n",
    "min_leaf_lst = list(range(1, 15))\n",
    "param_grid = {'max_depth': max_depth_lst,\n",
    "              'min_samples_leaf': min_leaf_lst,\n",
    "              'max_features': ['sqrt', 'log2']    \n",
    "}\n",
    "#grid search for best max depth, min samples per leaf and max features\n",
    "clf = GridSearchCV(rfc, param_grid, cv=5)\n",
    "#fit model to output best hyperparameters\n",
    "clf.fit(data_X, data_Y)\n",
    "print('Best values for RandomForestClassifier are:\\n'+\n",
    "      'max_depth:', clf.best_params_['max_depth'], '\\n'+\n",
    "      'min_samples_leaf:', clf.best_params_['min_samples_leaf'], '\\n'+\n",
    "      'max_features:', clf.best_params_['max_features'])\n",
    "#cross validation\n",
    "Y_pred = cross_val_predict(clf, data_X, data_Y, cv=5)\n",
    "\n",
    "#Report\n",
    "print(classification_report(data_Y, Y_pred, labels=[0, 1]))\n",
    "\n",
    "#Create a confusion matrix\n",
    "create_cm (data_Y, Y_pred, classifier='Random Forest Classifier')\n"
   ]
  },
  {
   "cell_type": "markdown",
   "metadata": {},
   "source": [
    "###### Boosting\n",
    "  \n",
    "AdaBoostClassifier is an ensemble classifier that iteratively changes the distribution of the training data. The base classifiers focus on hard to classify examples by assigning a weight to each example and updating that weight at the end of each boosting rund. The weight is then used as a sampling dsitribution to draw a set of bootstrap samples. The base estimator is a DecisionTreeClassifier(max_depth=1).  \n",
    "  \n",
    "***Hyperparameters:***  \n",
    "  \n",
    "*number of estimators*- The maximum number of estimators before the boosting is terminated."
   ]
  },
  {
   "cell_type": "code",
   "execution_count": 10,
   "metadata": {},
   "outputs": [
    {
     "name": "stdout",
     "output_type": "stream",
     "text": [
      "Best value for AdaBoostClassifier is:\n",
      "n_estimators: 5\n",
      "              precision    recall  f1-score   support\n",
      "\n",
      "           0       0.68      0.64      0.66       127\n",
      "           1       0.66      0.69      0.67       127\n",
      "\n",
      "    accuracy                           0.67       254\n",
      "   macro avg       0.67      0.67      0.67       254\n",
      "weighted avg       0.67      0.67      0.67       254\n",
      "\n"
     ]
    },
    {
     "data": {
      "image/png": "[encoded data removed]",
      "text/plain": [
       "<Figure size 432x288 with 2 Axes>"
      ]
     },
     "metadata": {
      "needs_background": "light"
     },
     "output_type": "display_data"
    }
   ],
   "source": [
    "from sklearn.ensemble import AdaBoostClassifier as ABC\n",
    "#create an AdaBoostClassifier\n",
    "abc = ABC()\n",
    "#params\n",
    "est_lst = list(range(5, 200, 5))\n",
    "param_grid = {'n_estimators': est_lst}\n",
    "#grid search for best n_estimators\n",
    "clf = GridSearchCV(abc, param_grid, cv=5)\n",
    "#cross validation\n",
    "Y_pred = cross_val_predict(clf, data_X, data_Y, cv=5)\n",
    "#fit model to output best hyperparameters\n",
    "clf.fit(data_X, data_Y)\n",
    "print('Best value for AdaBoostClassifier is:\\n'+\n",
    "      'n_estimators:', clf.best_params_['n_estimators'])\n",
    "#Report\n",
    "print(classification_report(data_Y, Y_pred, labels=[0, 1]))\n",
    "\n",
    "#Create a confusion matrix\n",
    "create_cm (data_Y, Y_pred, classifier='Boosting Classifier')\n"
   ]
  },
  {
   "cell_type": "code",
   "execution_count": null,
   "metadata": {},
   "outputs": [],
   "source": []
  }
 ],
 "metadata": {
  "kernelspec": {
   "display_name": "Python 3",
   "language": "python",
   "name": "python3"
  },
  "language_info": {
   "codemirror_mode": {
    "name": "ipython",
    "version": 3
   },
   "file_extension": ".py",
   "mimetype": "text/x-python",
   "name": "python",
   "nbconvert_exporter": "python",
   "pygments_lexer": "ipython3",
   "version": "3.7.4"
  }
 },
 "nbformat": 4,
 "nbformat_minor": 4
}
