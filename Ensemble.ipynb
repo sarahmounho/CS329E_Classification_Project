{
 "cells": [
  {
   "cell_type": "markdown",
   "metadata": {},
   "source": [
    "Ensemble Classifiers:\n",
    "Random Forests\n",
    "AdaBoost\n",
    "\n",
    "Created: 4/13/2020\n",
    "Last Modified: 4/13/2020\n",
    "Author: Sarah Mounho"
   ]
  },
  {
   "cell_type": "code",
   "execution_count": 6,
   "metadata": {},
   "outputs": [],
   "source": [
    "#Library Imports\n",
    "import warnings\n",
    "warnings.simplefilter(\"ignore\")\n",
    "import pandas as pd\n",
    "import numpy as np\n",
    "import sklearn as sk\n",
    "import matplotlib.pyplot as plt\n",
    "import time\n",
    "from sklearn.model_selection import GridSearchCV\n",
    "from sklearn.model_selection import cross_val_predict\n",
    "from sklearn.metrics import classification_report\n",
    "from sklearn.metrics import accuracy_score\n",
    "%matplotlib inline"
   ]
  },
  {
   "cell_type": "code",
   "execution_count": 4,
   "metadata": {},
   "outputs": [
    {
     "data": {
      "text/plain": [
       "0    1.0\n",
       "1    1.0\n",
       "2    1.0\n",
       "3    1.0\n",
       "4    1.0\n",
       "5    1.0\n",
       "6    1.0\n",
       "7    1.0\n",
       "8    0.0\n",
       "9    1.0\n",
       "Name: death, dtype: float64"
      ]
     },
     "execution_count": 4,
     "metadata": {},
     "output_type": "execute_result"
    }
   ],
   "source": [
    "#import clean data\n",
    "from utils import intake_data\n",
    "data = intake_data()\n",
    "data.isnull().sum(axis = 0)\n",
    "data_X = data.iloc[:, :16]\n",
    "data_Y = data.iloc[:, 17] #df with class labels\n",
    "#"
   ]
  },
  {
   "cell_type": "markdown",
   "metadata": {},
   "source": [
    "**Random Forest Classifier**  \n",
    "Optimize hyperparameters: Max depth, min samples per leaf and max features"
   ]
  },
  {
   "cell_type": "code",
   "execution_count": 16,
   "metadata": {},
   "outputs": [
    {
     "name": "stdout",
     "output_type": "stream",
     "text": [
      "              precision    recall  f1-score   support\n",
      "\n",
      "           0       0.65      0.88      0.75       128\n",
      "           1       0.38      0.13      0.19        69\n",
      "\n",
      "    accuracy                           0.62       197\n",
      "   macro avg       0.51      0.51      0.47       197\n",
      "weighted avg       0.56      0.62      0.56       197\n",
      "\n"
     ]
    }
   ],
   "source": [
    "from sklearn.ensemble import RandomForestClassifier as RFC\n",
    "\n",
    "#Create a random forest classifier\n",
    "rfc = RFC()\n",
    "#params \n",
    "max_depth_lst = list(range(1, 111, 9))\n",
    "min_leaf_lst = list(range(1, 15))\n",
    "param_grid = {'max_depth': max_depth_lst,\n",
    "              'min_samples_leaf': min_leaf_lst,\n",
    "              'max_features': ['sqrt', 'log2']    \n",
    "}\n",
    "#grid search for best max depth, min samples per leaf and max features\n",
    "clf = GridSearchCV(rfc, param_grid, cv=5)\n",
    "#cross validation\n",
    "Y_pred = cross_val_predict(clf, data_X, data_Y, cv=5)\n",
    "#Report\n",
    "print(classification_report(data_Y, Y_pred, labels=[0, 1]))\n"
   ]
  },
  {
   "cell_type": "markdown",
   "metadata": {},
   "source": [
    "**AdaBoost**  \n",
    "Optimize hyperparameter: number of estimators"
   ]
  },
  {
   "cell_type": "code",
   "execution_count": 17,
   "metadata": {},
   "outputs": [
    {
     "name": "stdout",
     "output_type": "stream",
     "text": [
      "              precision    recall  f1-score   support\n",
      "\n",
      "           0       0.71      0.72      0.72       128\n",
      "           1       0.47      0.46      0.47        69\n",
      "\n",
      "    accuracy                           0.63       197\n",
      "   macro avg       0.59      0.59      0.59       197\n",
      "weighted avg       0.63      0.63      0.63       197\n",
      "\n"
     ]
    }
   ],
   "source": [
    "from sklearn.ensemble import AdaBoostClassifier as ABC\n",
    "#create an AdaBoostClassifier\n",
    "abc = ABC()\n",
    "#params\n",
    "est_lst = list(range(5, 200, 5))\n",
    "param_grid = {'n_estimators': est_lst}\n",
    "#grid search for best n_estimators\n",
    "clf = GridSearchCV(abc, param_grid, cv=5)\n",
    "#cross validation\n",
    "Y_pred = cross_val_predict(clf, data_X, data_Y, cv=5)\n",
    "#Report\n",
    "print(classification_report(data_Y, Y_pred, labels=[0, 1]))\n"
   ]
  },
  {
   "cell_type": "code",
   "execution_count": null,
   "metadata": {},
   "outputs": [],
   "source": []
  }
 ],
 "metadata": {
  "kernelspec": {
   "display_name": "Python 3",
   "language": "python",
   "name": "python3"
  },
  "language_info": {
   "codemirror_mode": {
    "name": "ipython",
    "version": 3
   },
   "file_extension": ".py",
   "mimetype": "text/x-python",
   "name": "python",
   "nbconvert_exporter": "python",
   "pygments_lexer": "ipython3",
   "version": "3.7.7"
  }
 },
 "nbformat": 4,
 "nbformat_minor": 4
}
