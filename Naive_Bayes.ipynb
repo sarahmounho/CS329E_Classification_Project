{
 "cells": [
  {
   "cell_type": "markdown",
   "metadata": {},
   "source": [
    "## Importing Data"
   ]
  },
  {
   "cell_type": "code",
   "execution_count": 1,
   "metadata": {},
   "outputs": [],
   "source": [
    "from utils import intake_data\n",
    "\n",
    "data_pre = intake_data()\n",
    "data_x = data_pre.drop([\"death\",\"days.1\",\"ventilator weaning = 1\", \"VFD \",\"days\"], axis=1)\n",
    "data_y = data_pre[\"death\"]"
   ]
  },
  {
   "cell_type": "markdown",
   "metadata": {},
   "source": [
    "## Create Naive Bayes Classifier"
   ]
  },
  {
   "cell_type": "code",
   "execution_count": 3,
   "metadata": {},
   "outputs": [
    {
     "data": {
      "text/plain": [
       "0.5888324873096447"
      ]
     },
     "execution_count": 3,
     "metadata": {},
     "output_type": "execute_result"
    }
   ],
   "source": [
    "from sklearn.naive_bayes import GaussianNB\n",
    "from sklearn.model_selection import cross_val_score\n",
    "\n",
    "clf = GaussianNB()\n",
    "\n",
    "clf.fit(data_x, data_y)\n",
    "\n",
    "cross_val_score(clf, data_x, data_y, cv = 10)\n",
    "\n",
    "clf.score(data_x, data_y)"
   ]
  },
  {
   "cell_type": "markdown",
   "metadata": {},
   "source": [
    "## Confusion matrix, precision, recall, and F1 score of classifier"
   ]
  },
  {
   "cell_type": "code",
   "execution_count": 4,
   "metadata": {},
   "outputs": [
    {
     "name": "stdout",
     "output_type": "stream",
     "text": [
      "[[58 70]\n",
      " [22 47]]\n",
      "              precision    recall  f1-score   support\n",
      "\n",
      "         0.0       0.72      0.45      0.56       128\n",
      "         1.0       0.40      0.68      0.51        69\n",
      "\n",
      "    accuracy                           0.53       197\n",
      "   macro avg       0.56      0.57      0.53       197\n",
      "weighted avg       0.61      0.53      0.54       197\n",
      "\n"
     ]
    }
   ],
   "source": [
    "from sklearn.metrics import confusion_matrix \n",
    "from sklearn.metrics import classification_report\n",
    "from sklearn.model_selection import cross_val_predict\n",
    "\n",
    "y_predict = cross_val_predict(clf, data_x, data_y, cv = 10)\n",
    "print(confusion_matrix(data_y, y_predict))\n",
    "print(classification_report(data_y, y_predict))"
   ]
  }
 ],
 "metadata": {
  "kernelspec": {
   "display_name": "Python 3",
   "language": "python",
   "name": "python3"
  },
  "language_info": {
   "codemirror_mode": {
    "name": "ipython",
    "version": 3
   },
   "file_extension": ".py",
   "mimetype": "text/x-python",
   "name": "python",
   "nbconvert_exporter": "python",
   "pygments_lexer": "ipython3",
   "version": "3.8.2"
  }
 },
 "nbformat": 4,
 "nbformat_minor": 4
}
