{
 "cells": [
  {
   "cell_type": "markdown",
   "metadata": {},
   "source": [
    "## K Nearest Neigbors Classifiers\n",
    "Created: 4/13/2020 Last Modified: 4/13/2020\n",
    "Author: Francisco Cid"
   ]
  },
  {
   "cell_type": "code",
   "execution_count": 3,
   "metadata": {},
   "outputs": [],
   "source": [
    "#Library Imports\n",
    "from utils import intake_data\n",
    "from imblearn import over_sampling\n",
    "from sklearn.preprocessing import StandardScaler\n",
    "from sklearn.model_selection import GridSearchCV\n",
    "from sklearn.neighbors import KNeighborsClassifier\n",
    "from sklearn.metrics import confusion_matrix \n",
    "from sklearn.metrics import classification_report\n",
    "from sklearn.model_selection import cross_val_predict\n",
    "from sklearn.model_selection import cross_val_score\n",
    "from sklearn.decomposition import PCA\n",
    "from sklearn.pipeline import Pipeline\n",
    "import warnings\n",
    "from sklearn.preprocessing import StandardScaler \n",
    "from sklearn.discriminant_analysis import LinearDiscriminantAnalysis as LDA\n",
    "from sklearn.metrics import accuracy_score"
   ]
  },
  {
   "cell_type": "markdown",
   "metadata": {},
   "source": [
    "### Importing clean and upsampled data "
   ]
  },
  {
   "cell_type": "code",
   "execution_count": 4,
   "metadata": {},
   "outputs": [
    {
     "name": "stdout",
     "output_type": "stream",
     "text": [
      "TEST\n"
     ]
    }
   ],
   "source": [
    "data_x, data_y = intake_data()"
   ]
  },
  {
   "cell_type": "markdown",
   "metadata": {},
   "source": [
    "### Feature Reduction\n",
    "\n",
    "Several feature reduction methods were tested. Sequential Forward Selection \n",
    "was chosen since it gave the highest accuracy. \n",
    "\n",
    "From http://rasbt.github.io/mlxtend/user_guide/feature_selection/SequentialFeatureSelector/ : \n",
    "\"In a nutshell, SFAs remove or add one feature at the time based on the classifier performance until a feature subset of the desired size k is reached.\""
   ]
  },
  {
   "cell_type": "code",
   "execution_count": 5,
   "metadata": {},
   "outputs": [
    {
     "name": "stderr",
     "output_type": "stream",
     "text": [
      "[Parallel(n_jobs=1)]: Using backend SequentialBackend with 1 concurrent workers.\n",
      "[Parallel(n_jobs=1)]: Done   1 out of   1 | elapsed:    0.0s remaining:    0.0s\n",
      "[Parallel(n_jobs=1)]: Done  16 out of  16 | elapsed:    0.3s finished\n",
      "\n",
      "[2020-04-17 22:02:49] Features: 1/14 -- score: 0.6102745098039215[Parallel(n_jobs=1)]: Using backend SequentialBackend with 1 concurrent workers.\n",
      "[Parallel(n_jobs=1)]: Done   1 out of   1 | elapsed:    0.0s remaining:    0.0s\n",
      "[Parallel(n_jobs=1)]: Done  15 out of  15 | elapsed:    0.2s finished\n",
      "\n",
      "[2020-04-17 22:02:50] Features: 2/14 -- score: 0.6141960784313725[Parallel(n_jobs=1)]: Using backend SequentialBackend with 1 concurrent workers.\n",
      "[Parallel(n_jobs=1)]: Done   1 out of   1 | elapsed:    0.0s remaining:    0.0s\n",
      "[Parallel(n_jobs=1)]: Done  14 out of  14 | elapsed:    0.2s finished\n",
      "\n",
      "[2020-04-17 22:02:50] Features: 3/14 -- score: 0.6141960784313725[Parallel(n_jobs=1)]: Using backend SequentialBackend with 1 concurrent workers.\n",
      "[Parallel(n_jobs=1)]: Done   1 out of   1 | elapsed:    0.0s remaining:    0.0s\n",
      "[Parallel(n_jobs=1)]: Done  13 out of  13 | elapsed:    0.2s finished\n",
      "\n",
      "[2020-04-17 22:02:50] Features: 4/14 -- score: 0.6141960784313725[Parallel(n_jobs=1)]: Using backend SequentialBackend with 1 concurrent workers.\n",
      "[Parallel(n_jobs=1)]: Done   1 out of   1 | elapsed:    0.0s remaining:    0.0s\n",
      "[Parallel(n_jobs=1)]: Done  12 out of  12 | elapsed:    0.2s finished\n",
      "\n",
      "[2020-04-17 22:02:50] Features: 5/14 -- score: 0.6062745098039215[Parallel(n_jobs=1)]: Using backend SequentialBackend with 1 concurrent workers.\n",
      "[Parallel(n_jobs=1)]: Done   1 out of   1 | elapsed:    0.0s remaining:    0.0s\n",
      "[Parallel(n_jobs=1)]: Done  11 out of  11 | elapsed:    0.2s finished\n",
      "\n",
      "[2020-04-17 22:02:50] Features: 6/14 -- score: 0.6023529411764705[Parallel(n_jobs=1)]: Using backend SequentialBackend with 1 concurrent workers.\n",
      "[Parallel(n_jobs=1)]: Done   1 out of   1 | elapsed:    0.0s remaining:    0.0s\n",
      "[Parallel(n_jobs=1)]: Done  10 out of  10 | elapsed:    0.2s finished\n",
      "\n",
      "[2020-04-17 22:02:51] Features: 7/14 -- score: 0.6100392156862745[Parallel(n_jobs=1)]: Using backend SequentialBackend with 1 concurrent workers.\n",
      "[Parallel(n_jobs=1)]: Done   1 out of   1 | elapsed:    0.0s remaining:    0.0s\n",
      "[Parallel(n_jobs=1)]: Done   9 out of   9 | elapsed:    0.1s finished\n",
      "\n",
      "[2020-04-17 22:02:51] Features: 8/14 -- score: 0.5982745098039216[Parallel(n_jobs=1)]: Using backend SequentialBackend with 1 concurrent workers.\n",
      "[Parallel(n_jobs=1)]: Done   1 out of   1 | elapsed:    0.0s remaining:    0.0s\n",
      "[Parallel(n_jobs=1)]: Done   8 out of   8 | elapsed:    0.2s finished\n",
      "\n",
      "[2020-04-17 22:02:51] Features: 9/14 -- score: 0.6139607843137255[Parallel(n_jobs=1)]: Using backend SequentialBackend with 1 concurrent workers.\n",
      "[Parallel(n_jobs=1)]: Done   1 out of   1 | elapsed:    0.0s remaining:    0.0s\n",
      "[Parallel(n_jobs=1)]: Done   7 out of   7 | elapsed:    0.1s finished\n",
      "\n",
      "[2020-04-17 22:02:51] Features: 10/14 -- score: 0.6299607843137255[Parallel(n_jobs=1)]: Using backend SequentialBackend with 1 concurrent workers.\n",
      "[Parallel(n_jobs=1)]: Done   1 out of   1 | elapsed:    0.0s remaining:    0.0s\n",
      "[Parallel(n_jobs=1)]: Done   6 out of   6 | elapsed:    0.1s finished\n",
      "\n",
      "[2020-04-17 22:02:51] Features: 11/14 -- score: 0.6418039215686274[Parallel(n_jobs=1)]: Using backend SequentialBackend with 1 concurrent workers.\n",
      "[Parallel(n_jobs=1)]: Done   1 out of   1 | elapsed:    0.0s remaining:    0.0s\n",
      "[Parallel(n_jobs=1)]: Done   5 out of   5 | elapsed:    0.1s finished\n",
      "\n",
      "[2020-04-17 22:02:51] Features: 12/14 -- score: 0.6456470588235295[Parallel(n_jobs=1)]: Using backend SequentialBackend with 1 concurrent workers.\n",
      "[Parallel(n_jobs=1)]: Done   1 out of   1 | elapsed:    0.0s remaining:    0.0s\n",
      "[Parallel(n_jobs=1)]: Done   4 out of   4 | elapsed:    0.1s finished\n",
      "\n",
      "[2020-04-17 22:02:51] Features: 13/14 -- score: 0.6455686274509804[Parallel(n_jobs=1)]: Using backend SequentialBackend with 1 concurrent workers.\n",
      "[Parallel(n_jobs=1)]: Done   1 out of   1 | elapsed:    0.0s remaining:    0.0s\n",
      "[Parallel(n_jobs=1)]: Done   3 out of   3 | elapsed:    0.1s finished\n",
      "\n",
      "[2020-04-17 22:02:51] Features: 14/14 -- score: 0.6534901960784314"
     ]
    }
   ],
   "source": [
    "from mlxtend.feature_selection import SequentialFeatureSelector as sfs\n",
    "warnings.simplefilter('ignore')\n",
    "knn = KNeighborsClassifier()\n",
    "sfs = sfs(knn, k_features=14, forward=True, floating=False,\n",
    "          verbose=2, scoring='accuracy', cv=5)\n",
    "sfs.fit(data_x, data_y)\n",
    "feat_cols = list(sfs.k_feature_idx_)"
   ]
  },
  {
   "cell_type": "markdown",
   "metadata": {},
   "source": [
    "Feature reduction through sequential forward selection found that the following columns should be kept: "
   ]
  },
  {
   "cell_type": "code",
   "execution_count": 6,
   "metadata": {},
   "outputs": [],
   "source": [
    "data_x = data_x.iloc[:, feat_cols]"
   ]
  },
  {
   "cell_type": "markdown",
   "metadata": {},
   "source": [
    "###### K Nearest Neighbors\n",
    "K nearest neighbors is a supervised learning algorithm that stores all available cases and classifies new cases based on a similarity measure (e.g. distance functions) \n",
    "\n",
    "###### Hyperparameters\n",
    "\n",
    "The following is straight from scikit-learn documentation:\n",
    "\n",
    "***n_neighbors*** int, optional (default = 5)\n",
    "Number of neighbors to use by default for kneighbors queries.\n",
    "\n",
    "***weightsstr*** optional (default = ‘uniform’)\n",
    "weight function used in prediction.\n",
    "For uniform weights, all points in each neighborhood are weighted equally.\n",
    "\n",
    "***metricstring***  default ‘minkowski’\n",
    "The distance metric to use for the tree. The default metric is minkowski, and with p=2 is equivalent to the standard Euclidean metric."
   ]
  },
  {
   "cell_type": "code",
   "execution_count": 7,
   "metadata": {},
   "outputs": [
    {
     "name": "stdout",
     "output_type": "stream",
     "text": [
      "Data Shape: (254, 14)\n",
      "Best Score: 0.764\n",
      "Chosen parameters: {'knn__n_neighbors': 1}\n",
      "Average Accuracy: 0.7440944881889764\n"
     ]
    }
   ],
   "source": [
    "print('Data Shape:',data_x.shape)\n",
    "#crate a scaler\n",
    "scaler = StandardScaler()\n",
    "\n",
    "#create a KNN classifier\n",
    "knn = KNeighborsClassifier()\n",
    "\n",
    "#create a pipeline that does scaling, then KNN\n",
    "pipe = Pipeline(steps=[('scaler', scaler),('knn', knn)])\n",
    "\n",
    "#Set up the parameters you want to tune for each of your pipeline steps\n",
    "#Parameters of pipelines can be set using ‘__’ separated parameter names:\n",
    "param_grid = {\n",
    "    'knn__n_neighbors': list(range(1, 30)),  #find the best value of k\n",
    "}\n",
    "\n",
    "# pass the pipeline and the parameters into a GridSearchCV with a 5-fold cross validation\n",
    "gs = GridSearchCV(pipe, param_grid, cv=5)\n",
    "# call fit() on the GridSearchCV and pass in the unscaled data (X_values, Y_values)\n",
    "gs.fit(data_x, data_y)\n",
    "# print out the best_score_ and best_params_ from the GridSearchCV\n",
    "print(\"Best Score:\",gs.best_score_)\n",
    "print(\"Chosen parameters:\", gs.best_params_)\n",
    "\n",
    "#Printing final accuracy\n",
    "cross_val_score(gs, data_x, data_y, cv=5)\n",
    "y_predict = cross_val_predict(gs, data_x, data_y, cv=5)\n",
    "avg_acc = accuracy_score(data_y, y_predict)\n",
    "print('Average Accuracy:', avg_acc)"
   ]
  },
  {
   "cell_type": "markdown",
   "metadata": {},
   "source": [
    "### Printing classification report and confusion matrix"
   ]
  },
  {
   "cell_type": "code",
   "execution_count": 13,
   "metadata": {},
   "outputs": [],
   "source": [
    "#Confusion Matrix Function\n",
    "#Create a confusion matrix\n",
    "#Inputs:\n",
    "#Y_Actual = Actual (true) labels\n",
    "#Y_Predicted = Predicted labels from a classifier\n",
    "#classifier = Name of classifier as a string for plt title\n",
    "def create_cm (Y_Actual, Y_Predicted, classifier=None):\n",
    "    try: \n",
    "        import seaborn as sn\n",
    "    except:\n",
    "        print('create_cm(Y_Actual, Y_Predicted, classifier) has a dependency on the library seaborn.')\n",
    "        print('This library was not found, please install and try again.')\n",
    "        return()\n",
    "    if type(classifier) != str:\n",
    "        print('Please input the name of the classifier for plt title as a str')\n",
    "        return()\n",
    "\n",
    "            \n",
    "    data = {'Actual': Y_Actual, 'Predicted':Y_Predicted}\n",
    "    df = pd.DataFrame(data, columns=['Actual', 'Predicted'])\n",
    "    df['Predicted'].replace(0, 'Alive', inplace=True)\n",
    "    df['Predicted'].replace(1, 'Dead', inplace=True)\n",
    "    df['Actual'].replace(0, 'Alive', inplace=True)\n",
    "    df['Actual'].replace(1, 'Dead', inplace=True)\n",
    "    cm = pd.crosstab(df['Actual'], df['Predicted'],\n",
    "                     rownames=['Actual'], colnames=['Predicted'])                                    \n",
    "    #Print a formatted confusion matrix using a heatmap\n",
    "    sn.heatmap(cm, annot=True)\n",
    "    plt_title = 'Confusion Matrix for ' + classifier\n",
    "    plt.title('Confusion Matrix for K Nearest Neighbors')\n",
    "    plt.show()"
   ]
  },
  {
   "cell_type": "code",
   "execution_count": 17,
   "metadata": {},
   "outputs": [
    {
     "name": "stdout",
     "output_type": "stream",
     "text": [
      "              precision    recall  f1-score   support\n",
      "\n",
      "         0.0       0.79      0.66      0.72       127\n",
      "         1.0       0.71      0.83      0.76       127\n",
      "\n",
      "    accuracy                           0.74       254\n",
      "   macro avg       0.75      0.74      0.74       254\n",
      "weighted avg       0.75      0.74      0.74       254\n",
      "\n",
      "Please input the name of the classifier for plt title as a str\n"
     ]
    },
    {
     "data": {
      "text/plain": [
       "()"
      ]
     },
     "execution_count": 17,
     "metadata": {},
     "output_type": "execute_result"
    }
   ],
   "source": [
    "print(classification_report(data_y, y_predict))\n",
    "create_cm(data_y, y_predict)"
   ]
  },
  {
   "cell_type": "code",
   "execution_count": null,
   "metadata": {},
   "outputs": [],
   "source": []
  }
 ],
 "metadata": {
  "kernelspec": {
   "display_name": "Python 3",
   "language": "python",
   "name": "python3"
  },
  "language_info": {
   "codemirror_mode": {
    "name": "ipython",
    "version": 3
   },
   "file_extension": ".py",
   "mimetype": "text/x-python",
   "name": "python",
   "nbconvert_exporter": "python",
   "pygments_lexer": "ipython3",
   "version": "3.8.2"
  }
 },
 "nbformat": 4,
 "nbformat_minor": 4
}
