{
 "cells": [
  {
   "cell_type": "markdown",
   "metadata": {},
   "source": [
    "### Data Exploration"
   ]
  },
  {
   "cell_type": "markdown",
   "metadata": {},
   "source": [
    "Last edited: 4/15/2020, 2pm\n",
    "Notes: Add markdown with explanations of data. Add titles to boxplots. Look at spread of pre-imputed data (use drop NaN function) - help to decide if median or mean. "
   ]
  },
  {
   "cell_type": "code",
   "execution_count": 13,
   "metadata": {},
   "outputs": [],
   "source": [
    "import pandas as pd\n",
    "from pandas import Series, DataFrame\n",
    "import numpy as np\n",
    "from numpy import cov\n",
    "\n",
    "import sklearn as sk\n",
    "from sklearn import neighbors\n",
    "from sklearn import ensemble\n",
    "from sklearn import svm\n",
    "from scipy.stats import pearsonr\n",
    "\n",
    "import matplotlib.pyplot as plt\n",
    "\n",
    "import math"
   ]
  },
  {
   "cell_type": "code",
   "execution_count": 23,
   "metadata": {
    "scrolled": true
   },
   "outputs": [
    {
     "name": "stdout",
     "output_type": "stream",
     "text": [
      "    age  sex  Alb   PLT      WBC   CRP  APACHE II  SOFA  McCabe  PaO2/FiO2  \\\n",
      "0  79.0    0  2.3  10.8   4000.0  17.8       24.0   8.0     1.0      108.0   \n",
      "1  83.0    0  4.4  13.5  10200.0   8.9       16.0   6.0     1.0       78.0   \n",
      "2  70.0    0  2.7  10.8   5300.0  25.3       22.0   7.0     1.0       70.9   \n",
      "3  61.0    0  3.3   8.8   1800.0  22.2       26.0   7.0     1.0       59.2   \n",
      "4  81.0    0  3.1  26.2  10600.0  17.0       19.0   4.0     1.0       83.6   \n",
      "\n",
      "   ...  CT score  PEEP        PIP         TV  DARDS = 1  days  death  days.1  \\\n",
      "0  ...     191.6  24.0  25.948052  428.05036        0.0  21.0    1.0    28.0   \n",
      "1  ...     213.3   5.0  10.000000  360.00000        0.0  21.0    1.0    28.0   \n",
      "2  ...     221.7  18.0  24.000000  525.00000        0.0   8.0    1.0    28.0   \n",
      "3  ...     211.6  10.0  24.000000  480.00000        0.0  11.0    1.0    28.0   \n",
      "4  ...     234.9   5.0  10.000000  625.00000        0.0   6.0    1.0    28.0   \n",
      "\n",
      "   ventilator weaning = 1  VFD   \n",
      "0                     0.0   0.0  \n",
      "1                     0.0   0.0  \n",
      "2                     0.0   0.0  \n",
      "3                     0.0   0.0  \n",
      "4                     0.0   0.0  \n",
      "\n",
      "[5 rows x 21 columns]\n",
      "0    1.0\n",
      "1    1.0\n",
      "2    1.0\n",
      "3    1.0\n",
      "4    1.0\n",
      "Name: death, dtype: float64\n"
     ]
    },
    {
     "data": {
      "text/html": [
       "<div>\n",
       "<style scoped>\n",
       "    .dataframe tbody tr th:only-of-type {\n",
       "        vertical-align: middle;\n",
       "    }\n",
       "\n",
       "    .dataframe tbody tr th {\n",
       "        vertical-align: top;\n",
       "    }\n",
       "\n",
       "    .dataframe thead th {\n",
       "        text-align: right;\n",
       "    }\n",
       "</style>\n",
       "<table border=\"1\" class=\"dataframe\">\n",
       "  <thead>\n",
       "    <tr style=\"text-align: right;\">\n",
       "      <th></th>\n",
       "      <th>age</th>\n",
       "      <th>sex</th>\n",
       "      <th>Alb</th>\n",
       "      <th>PLT</th>\n",
       "      <th>WBC</th>\n",
       "      <th>CRP</th>\n",
       "      <th>APACHE II</th>\n",
       "      <th>SOFA</th>\n",
       "      <th>McCabe</th>\n",
       "      <th>PaO2/FiO2</th>\n",
       "      <th>LDH</th>\n",
       "      <th>CT score</th>\n",
       "      <th>PEEP</th>\n",
       "      <th>PIP</th>\n",
       "      <th>TV</th>\n",
       "      <th>DARDS = 1</th>\n",
       "      <th>days</th>\n",
       "      <th>days.1</th>\n",
       "      <th>ventilator weaning = 1</th>\n",
       "      <th>VFD</th>\n",
       "    </tr>\n",
       "  </thead>\n",
       "  <tbody>\n",
       "    <tr>\n",
       "      <td>0</td>\n",
       "      <td>79.0</td>\n",
       "      <td>0</td>\n",
       "      <td>2.3</td>\n",
       "      <td>10.8</td>\n",
       "      <td>4000.0</td>\n",
       "      <td>17.8</td>\n",
       "      <td>24.0</td>\n",
       "      <td>8.0</td>\n",
       "      <td>1.0</td>\n",
       "      <td>108.0</td>\n",
       "      <td>339.0</td>\n",
       "      <td>191.6</td>\n",
       "      <td>24.0</td>\n",
       "      <td>25.948052</td>\n",
       "      <td>428.05036</td>\n",
       "      <td>0.0</td>\n",
       "      <td>21.0</td>\n",
       "      <td>28.0</td>\n",
       "      <td>0.0</td>\n",
       "      <td>0.0</td>\n",
       "    </tr>\n",
       "    <tr>\n",
       "      <td>1</td>\n",
       "      <td>83.0</td>\n",
       "      <td>0</td>\n",
       "      <td>4.4</td>\n",
       "      <td>13.5</td>\n",
       "      <td>10200.0</td>\n",
       "      <td>8.9</td>\n",
       "      <td>16.0</td>\n",
       "      <td>6.0</td>\n",
       "      <td>1.0</td>\n",
       "      <td>78.0</td>\n",
       "      <td>385.0</td>\n",
       "      <td>213.3</td>\n",
       "      <td>5.0</td>\n",
       "      <td>10.000000</td>\n",
       "      <td>360.00000</td>\n",
       "      <td>0.0</td>\n",
       "      <td>21.0</td>\n",
       "      <td>28.0</td>\n",
       "      <td>0.0</td>\n",
       "      <td>0.0</td>\n",
       "    </tr>\n",
       "    <tr>\n",
       "      <td>2</td>\n",
       "      <td>70.0</td>\n",
       "      <td>0</td>\n",
       "      <td>2.7</td>\n",
       "      <td>10.8</td>\n",
       "      <td>5300.0</td>\n",
       "      <td>25.3</td>\n",
       "      <td>22.0</td>\n",
       "      <td>7.0</td>\n",
       "      <td>1.0</td>\n",
       "      <td>70.9</td>\n",
       "      <td>461.0</td>\n",
       "      <td>221.7</td>\n",
       "      <td>18.0</td>\n",
       "      <td>24.000000</td>\n",
       "      <td>525.00000</td>\n",
       "      <td>0.0</td>\n",
       "      <td>8.0</td>\n",
       "      <td>28.0</td>\n",
       "      <td>0.0</td>\n",
       "      <td>0.0</td>\n",
       "    </tr>\n",
       "    <tr>\n",
       "      <td>3</td>\n",
       "      <td>61.0</td>\n",
       "      <td>0</td>\n",
       "      <td>3.3</td>\n",
       "      <td>8.8</td>\n",
       "      <td>1800.0</td>\n",
       "      <td>22.2</td>\n",
       "      <td>26.0</td>\n",
       "      <td>7.0</td>\n",
       "      <td>1.0</td>\n",
       "      <td>59.2</td>\n",
       "      <td>227.0</td>\n",
       "      <td>211.6</td>\n",
       "      <td>10.0</td>\n",
       "      <td>24.000000</td>\n",
       "      <td>480.00000</td>\n",
       "      <td>0.0</td>\n",
       "      <td>11.0</td>\n",
       "      <td>28.0</td>\n",
       "      <td>0.0</td>\n",
       "      <td>0.0</td>\n",
       "    </tr>\n",
       "    <tr>\n",
       "      <td>4</td>\n",
       "      <td>81.0</td>\n",
       "      <td>0</td>\n",
       "      <td>3.1</td>\n",
       "      <td>26.2</td>\n",
       "      <td>10600.0</td>\n",
       "      <td>17.0</td>\n",
       "      <td>19.0</td>\n",
       "      <td>4.0</td>\n",
       "      <td>1.0</td>\n",
       "      <td>83.6</td>\n",
       "      <td>680.0</td>\n",
       "      <td>234.9</td>\n",
       "      <td>5.0</td>\n",
       "      <td>10.000000</td>\n",
       "      <td>625.00000</td>\n",
       "      <td>0.0</td>\n",
       "      <td>6.0</td>\n",
       "      <td>28.0</td>\n",
       "      <td>0.0</td>\n",
       "      <td>0.0</td>\n",
       "    </tr>\n",
       "  </tbody>\n",
       "</table>\n",
       "</div>"
      ],
      "text/plain": [
       "    age  sex  Alb   PLT      WBC   CRP  APACHE II  SOFA  McCabe  PaO2/FiO2  \\\n",
       "0  79.0    0  2.3  10.8   4000.0  17.8       24.0   8.0     1.0      108.0   \n",
       "1  83.0    0  4.4  13.5  10200.0   8.9       16.0   6.0     1.0       78.0   \n",
       "2  70.0    0  2.7  10.8   5300.0  25.3       22.0   7.0     1.0       70.9   \n",
       "3  61.0    0  3.3   8.8   1800.0  22.2       26.0   7.0     1.0       59.2   \n",
       "4  81.0    0  3.1  26.2  10600.0  17.0       19.0   4.0     1.0       83.6   \n",
       "\n",
       "     LDH  CT score  PEEP        PIP         TV  DARDS = 1  days  days.1  \\\n",
       "0  339.0     191.6  24.0  25.948052  428.05036        0.0  21.0    28.0   \n",
       "1  385.0     213.3   5.0  10.000000  360.00000        0.0  21.0    28.0   \n",
       "2  461.0     221.7  18.0  24.000000  525.00000        0.0   8.0    28.0   \n",
       "3  227.0     211.6  10.0  24.000000  480.00000        0.0  11.0    28.0   \n",
       "4  680.0     234.9   5.0  10.000000  625.00000        0.0   6.0    28.0   \n",
       "\n",
       "   ventilator weaning = 1  VFD  \n",
       "0                     0.0  0.0  \n",
       "1                     0.0  0.0  \n",
       "2                     0.0  0.0  \n",
       "3                     0.0  0.0  \n",
       "4                     0.0  0.0  "
      ]
     },
     "execution_count": 23,
     "metadata": {},
     "output_type": "execute_result"
    }
   ],
   "source": [
    "#Load cleaned data set (this cell taken from Feature_Engineering)\n",
    "from utils import intake_data\n",
    "data = intake_data()\n",
    "#adjust variables\n",
    "data.rename(columns = {'death = 1 ': 'death'}, inplace=True)\n",
    "#create X and Y dataframes\n",
    "print(data.head())\n",
    "data_X = data.iloc[:, :16]\n",
    "data_X['days'] = data['days']\n",
    "data_X['days.1'] = data['days.1']\n",
    "data_X['ventilator weaning = 1'] = data['ventilator weaning = 1']\n",
    "data_X['VFD'] = data['VFD ']\n",
    "data_Y = data.iloc[:, 17] #df with class labels\n",
    "print(data_Y.head())\n",
    "data_X.head()"
   ]
  },
  {
   "cell_type": "markdown",
   "metadata": {},
   "source": [
    "### Class Label Distribution"
   ]
  },
  {
   "cell_type": "code",
   "execution_count": 15,
   "metadata": {},
   "outputs": [
    {
     "name": "stdout",
     "output_type": "stream",
     "text": [
      "Death = 1: 69\n",
      "Death = 0: 128\n"
     ]
    }
   ],
   "source": [
    "print(\"Death = 1:\", sum(data_Y == 1.0))\n",
    "print(\"Death = 0:\", sum(data_Y == 0.0))"
   ]
  },
  {
   "cell_type": "markdown",
   "metadata": {},
   "source": [
    "### Pearson Correlation Coefficients Between Each Feature and Class Labels"
   ]
  },
  {
   "cell_type": "code",
   "execution_count": 24,
   "metadata": {},
   "outputs": [
    {
     "name": "stdout",
     "output_type": "stream",
     "text": [
      "197\n",
      "age     0.15\n",
      "sex     -0.09\n",
      "Alb     -0.19\n",
      "PLT     -0.14\n",
      "WBC     0.02\n",
      "CRP     0.09\n",
      "APACHE II     0.08\n",
      "SOFA     0.09\n",
      "McCabe     0.12\n",
      "PaO2/FiO2     -0.04\n",
      "LDH     0.16\n",
      "CT score     0.24\n",
      "PEEP     0.08\n",
      "PIP     -0.07\n",
      "TV     0.04\n",
      "DARDS = 1     -0.14\n",
      "days     -0.9\n",
      "days.1     0.65\n",
      "ventilator weaning = 1     -0.68\n",
      "VFD     -0.63\n"
     ]
    }
   ],
   "source": [
    "print(len(data_Y))\n",
    "\n",
    "for col in data_X: \n",
    "    corr, corr2 = pearsonr(data_X[col], data_Y)\n",
    "    print(col, '   ', round(corr,2))\n",
    "    "
   ]
  },
  {
   "cell_type": "markdown",
   "metadata": {},
   "source": [
    "### Pearson Correlation Coefficients Between Features That Are Above 0.5"
   ]
  },
  {
   "cell_type": "code",
   "execution_count": 26,
   "metadata": {},
   "outputs": [
    {
     "name": "stdout",
     "output_type": "stream",
     "text": [
      "APACHE II  &  SOFA  :  0.6005432947471825\n",
      "days  &  ventilator weaning = 1  :  0.6505271040959787\n",
      "days  &  VFD  :  0.5996012050990097\n",
      "ventilator weaning = 1  &  VFD  :  0.9105951512701016\n"
     ]
    }
   ],
   "source": [
    "found = []\n",
    "for col1 in data_X: \n",
    "    for col2 in data_X: \n",
    "        corr, corr2 = pearsonr(data_X[col1], data_X[col2])\n",
    "        if ((corr > .5) and (corr < .98)): \n",
    "            if corr not in found: \n",
    "                print(col1, \" & \", col2, \" : \", corr)\n",
    "        found.append(corr)"
   ]
  },
  {
   "cell_type": "markdown",
   "metadata": {},
   "source": [
    "### Standard Statistics for Each Feature"
   ]
  },
  {
   "cell_type": "markdown",
   "metadata": {},
   "source": [
    "(Noteworthy features highlighted and expanded upon in later cells)"
   ]
  },
  {
   "cell_type": "code",
   "execution_count": 74,
   "metadata": {
    "scrolled": true
   },
   "outputs": [
    {
     "name": "stdout",
     "output_type": "stream",
     "text": [
      "\n",
      "column: age\n",
      "feature description: \n",
      "max: 97\n",
      "min: 19\n",
      "range: 78\n",
      "(Measures of Central Tendency)\n",
      "mean: 73\n",
      "median: 76\n",
      "mode: 0    83.0\n",
      "dtype: float64\n",
      "(Measures of Dispersion)\n",
      "variance: 142\n",
      "standard deviation: 11\n",
      "first quartile: 67\n",
      "third quartile: 83\n",
      "inner quartile range: 16\n",
      "number of outliers: 7\n",
      "\n",
      "column: sex\n",
      "feature description: \n",
      "max: 1\n",
      "min: 0\n",
      "range: 1\n",
      "(Measures of Central Tendency)\n",
      "mean: 0\n",
      "median: 0\n",
      "mode: 0    0\n",
      "dtype: int64\n",
      "(Measures of Dispersion)\n",
      "variance: 0\n",
      "standard deviation: 0\n",
      "first quartile: 0\n",
      "third quartile: 1\n",
      "inner quartile range: 1\n",
      "number of outliers: 0\n",
      "\n",
      "column: Alb\n",
      "feature description: \n",
      "max: 4\n",
      "min: 1\n",
      "range: 3\n",
      "(Measures of Central Tendency)\n",
      "mean: 2\n",
      "median: 2\n",
      "mode: 0    3.1\n",
      "dtype: float64\n",
      "(Measures of Dispersion)\n",
      "variance: 0\n",
      "standard deviation: 0\n",
      "first quartile: 2\n",
      "third quartile: 3\n",
      "inner quartile range: 0\n",
      "number of outliers: 91\n",
      "\n",
      "column: PLT\n",
      "feature description: \n",
      "max: 57\n",
      "min: 0\n",
      "range: 57\n",
      "(Measures of Central Tendency)\n",
      "mean: 19\n",
      "median: 18\n",
      "mode: 0    20.1\n",
      "dtype: float64\n",
      "(Measures of Dispersion)\n",
      "variance: 111\n",
      "standard deviation: 10\n",
      "first quartile: 11\n",
      "third quartile: 26\n",
      "inner quartile range: 14\n",
      "number of outliers: 2\n",
      "\n",
      "column: WBC\n",
      "feature description: \n",
      "max: 43200\n",
      "min: 200\n",
      "range: 43000\n",
      "(Measures of Central Tendency)\n",
      "mean: 11010\n",
      "median: 10200\n",
      "mode: 0    2900.0\n",
      "dtype: float64\n",
      "(Measures of Dispersion)\n",
      "variance: 52648202\n",
      "standard deviation: 7255\n",
      "first quartile: 5800\n",
      "third quartile: 14800\n",
      "inner quartile range: 9000\n",
      "number of outliers: 4\n",
      "\n",
      "column: CRP\n",
      "feature description: \n",
      "max: 54\n",
      "min: 0\n",
      "range: 54\n",
      "(Measures of Central Tendency)\n",
      "mean: 17\n",
      "median: 15\n",
      "mode: 0    25.0\n",
      "dtype: float64\n",
      "(Measures of Dispersion)\n",
      "variance: 113\n",
      "standard deviation: 10\n",
      "first quartile: 9\n",
      "third quartile: 25\n",
      "inner quartile range: 15\n",
      "number of outliers: 1\n",
      "\n",
      "column: APACHE II\n",
      "feature description: \n",
      "max: 38\n",
      "min: 10\n",
      "range: 28\n",
      "(Measures of Central Tendency)\n",
      "mean: 22\n",
      "median: 22\n",
      "mode: 0    24.0\n",
      "dtype: float64\n",
      "(Measures of Dispersion)\n",
      "variance: 28\n",
      "standard deviation: 5\n",
      "first quartile: 18\n",
      "third quartile: 25\n",
      "inner quartile range: 7\n",
      "number of outliers: 3\n",
      "\n",
      "column: SOFA\n",
      "feature description: \n",
      "max: 16\n",
      "min: 2\n",
      "range: 14\n",
      "(Measures of Central Tendency)\n",
      "mean: 7\n",
      "median: 7\n",
      "mode: 0    7.0\n",
      "dtype: float64\n",
      "(Measures of Dispersion)\n",
      "variance: 12\n",
      "standard deviation: 3\n",
      "first quartile: 5\n",
      "third quartile: 10\n",
      "inner quartile range: 5\n",
      "number of outliers: 0\n",
      "\n",
      "column: McCabe\n",
      "feature description: \n",
      "max: 3\n",
      "min: 1\n",
      "range: 2\n",
      "(Measures of Central Tendency)\n",
      "mean: 1\n",
      "median: 1\n",
      "mode: 0    1.0\n",
      "dtype: float64\n",
      "(Measures of Dispersion)\n",
      "variance: 0\n",
      "standard deviation: 0\n",
      "first quartile: 1\n",
      "third quartile: 1\n",
      "inner quartile range: 0\n",
      "number of outliers: 23\n",
      "\n",
      "column: PaO2/FiO2\n",
      "feature description: \n",
      "max: 297\n",
      "min: 32\n",
      "range: 265\n",
      "(Measures of Central Tendency)\n",
      "mean: 116\n",
      "median: 107\n",
      "mode: 0      44.0\n",
      "1      58.0\n",
      "2      59.0\n",
      "3      65.3\n",
      "4      65.5\n",
      "5      70.3\n",
      "6      84.1\n",
      "7      84.7\n",
      "8     101.0\n",
      "9     121.0\n",
      "10    133.0\n",
      "11    139.0\n",
      "12    157.0\n",
      "13    194.0\n",
      "14    216.0\n",
      "dtype: float64\n",
      "(Measures of Dispersion)\n",
      "variance: 2596\n",
      "standard deviation: 50\n",
      "first quartile: 75\n",
      "third quartile: 149\n",
      "inner quartile range: 74\n",
      "number of outliers: 3\n",
      "\n",
      "column: LDH\n",
      "feature description: \n",
      "max: 2261\n",
      "min: 122\n",
      "range: 2139\n",
      "(Measures of Central Tendency)\n",
      "mean: 390\n",
      "median: 336\n",
      "mode: 0    272.0\n",
      "1    281.0\n",
      "2    308.0\n",
      "dtype: float64\n",
      "(Measures of Dispersion)\n",
      "variance: 53697\n",
      "standard deviation: 231\n",
      "first quartile: 254\n",
      "third quartile: 461\n",
      "inner quartile range: 207\n",
      "number of outliers: 11\n",
      "\n",
      "column: CT score\n",
      "feature description: \n",
      "max: 436\n",
      "min: 105\n",
      "range: 331\n",
      "(Measures of Central Tendency)\n",
      "mean: 236\n",
      "median: 216\n",
      "mode: 0    171.7\n",
      "1    184.8\n",
      "2    193.4\n",
      "3    206.6\n",
      "4    208.3\n",
      "dtype: float64\n",
      "(Measures of Dispersion)\n",
      "variance: 4449\n",
      "standard deviation: 66\n",
      "first quartile: 184\n",
      "third quartile: 288\n",
      "inner quartile range: 103\n",
      "number of outliers: 0\n",
      "\n",
      "column: PEEP\n",
      "feature description: \n",
      "max: 28\n",
      "min: 5\n",
      "range: 23\n",
      "(Measures of Central Tendency)\n",
      "mean: 10\n",
      "median: 8\n",
      "mode: 0    8.0\n",
      "dtype: float64\n",
      "(Measures of Dispersion)\n",
      "variance: 27\n",
      "standard deviation: 5\n",
      "first quartile: 8\n",
      "third quartile: 10\n",
      "inner quartile range: 2\n",
      "number of outliers: 33\n",
      "\n",
      "column: PIP\n",
      "feature description: \n",
      "max: 450\n",
      "min: 6\n",
      "range: 444\n",
      "(Measures of Central Tendency)\n",
      "mean: 25\n",
      "median: 24\n",
      "mode: 0    25.948052\n",
      "dtype: float64\n",
      "(Measures of Dispersion)\n",
      "variance: 1883\n",
      "standard deviation: 43\n",
      "first quartile: 20\n",
      "third quartile: 25\n",
      "inner quartile range: 5\n",
      "number of outliers: 24\n",
      "\n",
      "column: TV\n",
      "feature description: \n",
      "max: 700\n",
      "min: 14\n",
      "range: 686\n",
      "(Measures of Central Tendency)\n",
      "mean: 428\n",
      "median: 428\n",
      "mode: 0    428.05036\n",
      "dtype: float64\n",
      "(Measures of Dispersion)\n",
      "variance: 7812\n",
      "standard deviation: 88\n",
      "first quartile: 380\n",
      "third quartile: 450\n",
      "inner quartile range: 70\n",
      "number of outliers: 18\n",
      "\n",
      "column: DARDS = 1\n",
      "feature description: \n",
      "max: 1\n",
      "min: 0\n",
      "range: 1\n",
      "(Measures of Central Tendency)\n",
      "mean: 0\n",
      "median: 0\n",
      "mode: 0    0.0\n",
      "dtype: float64\n",
      "(Measures of Dispersion)\n",
      "variance: 0\n",
      "standard deviation: 0\n",
      "first quartile: 0\n",
      "third quartile: 0\n",
      "inner quartile range: 0\n",
      "number of outliers: 27\n"
     ]
    }
   ],
   "source": [
    "for col in data_X:\n",
    "    print('\\ncolumn:', col)\n",
    "    print('feature description:', \"\")\n",
    "    \n",
    "    maxm = data_X[col].max()\n",
    "    minm = data_X[col].min()\n",
    "    print('max:', math.trunc(maxm))\n",
    "    print('min:', math.trunc(minm))\n",
    "    print('range:', math.trunc(maxm-minm))\n",
    "\n",
    "    print(\"(Measures of Central Tendency)\")\n",
    "    print('mean:', math.trunc(data_X[col].mean()))\n",
    "    print('median:', math.trunc(data_X[col].median()))\n",
    "    print('mode:', (data_X[col].mode()))\n",
    "\n",
    "    print(\"(Measures of Dispersion)\")\n",
    "    print('variance:', math.trunc(data_X[col].var()))\n",
    "    print('standard deviation:', math.trunc(data_X[col].std()))\n",
    "    quartiles = data_X[col].quantile([0.25, 0.5, 0.75])\n",
    "    first_q = int(quartiles[0.25])\n",
    "    third_q = int(quartiles[0.75])\n",
    "    iqr = int(quartiles[0.75]-quartiles[0.25])\n",
    "    print('first quartile:', first_q)\n",
    "    print('third quartile:', third_q)\n",
    "    print('inner quartile range:', iqr)\n",
    "    num_out = sum(data_X[col] > (third_q + 1.5*iqr)) + sum(data_X[col] < (first_q - 1.5*iqr))\n",
    "    print('number of outliers:', num_out)"
   ]
  },
  {
   "cell_type": "markdown",
   "metadata": {},
   "source": [
    "### Noteworthy Variables - Univariate Analysis"
   ]
  },
  {
   "cell_type": "code",
   "execution_count": 25,
   "metadata": {},
   "outputs": [
    {
     "name": "stdout",
     "output_type": "stream",
     "text": [
      "Male: 123\n",
      "Female: 74\n"
     ]
    }
   ],
   "source": [
    "### Sex\n",
    "\n",
    "print(\"Male:\", sum(data_X[\"sex\"] == 0))\n",
    "print(\"Female:\", sum(data_X[\"sex\"] == 1))"
   ]
  },
  {
   "cell_type": "code",
   "execution_count": 11,
   "metadata": {},
   "outputs": [
    {
     "name": "stdout",
     "output_type": "stream",
     "text": [
      "AxesSubplot(0.125,0.125;0.775x0.755)\n",
      "first quartile: 67\n",
      "third quartile: 83\n",
      "inner quartile range: 16\n",
      "number of outliers: 7\n"
     ]
    },
    {
     "data": {
      "image/png": "[encoded data removed]",
      "text/plain": [
       "<Figure size 432x288 with 1 Axes>"
      ]
     },
     "metadata": {
      "needs_background": "light"
     },
     "output_type": "display_data"
    }
   ],
   "source": [
    "### Age\n",
    "\n",
    "print(data_X.boxplot('age'))\n",
    "quartiles = data_X['age'].quantile([0.25, 0.5, 0.75])\n",
    "first_q = int(quartiles[0.25])\n",
    "third_q = int(quartiles[0.75])\n",
    "iqr = int(quartiles[0.75]-quartiles[0.25])\n",
    "print('first quartile:', first_q)\n",
    "print('third quartile:', third_q)\n",
    "print('inner quartile range:', iqr)\n",
    "num_out = sum(data_X['age'] > (third_q + 1.5*iqr)) + sum(data_X['age'] < (first_q - 1.5*iqr))\n",
    "print('number of outliers:', num_out)"
   ]
  },
  {
   "cell_type": "code",
   "execution_count": 13,
   "metadata": {},
   "outputs": [
    {
     "name": "stdout",
     "output_type": "stream",
     "text": [
      "AxesSubplot(0.125,0.125;0.775x0.755)\n",
      "first quartile: 2\n",
      "third quartile: 3\n",
      "inner quartile range: 0\n",
      "number of outliers: 91\n"
     ]
    },
    {
     "data": {
      "image/png": "[encoded data removed]",
      "text/plain": [
       "<Figure size 432x288 with 1 Axes>"
      ]
     },
     "metadata": {
      "needs_background": "light"
     },
     "output_type": "display_data"
    }
   ],
   "source": [
    "### Alb\n",
    "\n",
    "print(data_X.boxplot('Alb'))\n",
    "quartiles = data_X['Alb'].quantile([0.25, 0.5, 0.75])\n",
    "first_q = int(quartiles[0.25])\n",
    "third_q = int(quartiles[0.75])\n",
    "iqr = int(quartiles[0.75]-quartiles[0.25])\n",
    "print('first quartile:', first_q)\n",
    "print('third quartile:', third_q)\n",
    "print('inner quartile range:', iqr)\n",
    "num_out = sum(data_X['Alb'] > (third_q + 1.5*iqr)) + sum(data_X['Alb'] < (first_q - 1.5*iqr))\n",
    "print('number of outliers:', num_out)"
   ]
  },
  {
   "cell_type": "code",
   "execution_count": 18,
   "metadata": {
    "scrolled": true
   },
   "outputs": [
    {
     "name": "stdout",
     "output_type": "stream",
     "text": [
      "AxesSubplot(0.125,0.125;0.775x0.755)\n",
      "first quartile: 254\n",
      "third quartile: 461\n",
      "inner quartile range: 207\n",
      "number of outliers: 11\n"
     ]
    },
    {
     "data": {
      "image/png": "[encoded data removed]",
      "text/plain": [
       "<Figure size 432x288 with 1 Axes>"
      ]
     },
     "metadata": {
      "needs_background": "light"
     },
     "output_type": "display_data"
    }
   ],
   "source": [
    "### LDH\n",
    "\n",
    "print(data_X.boxplot('LDH'))\n",
    "quartiles = data_X['LDH'].quantile([0.25, 0.5, 0.75])\n",
    "first_q = int(quartiles[0.25])\n",
    "third_q = int(quartiles[0.75])\n",
    "iqr = int(quartiles[0.75]-quartiles[0.25])\n",
    "print('first quartile:', first_q)\n",
    "print('third quartile:', third_q)\n",
    "print('inner quartile range:', iqr)\n",
    "num_out = sum(data_X['LDH'] > (third_q + 1.5*iqr)) + sum(data_X['LDH'] < (first_q - 1.5*iqr))\n",
    "print('number of outliers:', num_out)"
   ]
  },
  {
   "cell_type": "code",
   "execution_count": 19,
   "metadata": {
    "scrolled": true
   },
   "outputs": [
    {
     "name": "stdout",
     "output_type": "stream",
     "text": [
      "AxesSubplot(0.125,0.125;0.775x0.755)\n",
      "first quartile: 8\n",
      "third quartile: 10\n",
      "inner quartile range: 2\n",
      "number of outliers: 33\n"
     ]
    },
    {
     "data": {
      "image/png": "[encoded data removed]",
      "text/plain": [
       "<Figure size 432x288 with 1 Axes>"
      ]
     },
     "metadata": {
      "needs_background": "light"
     },
     "output_type": "display_data"
    }
   ],
   "source": [
    "### PEEP\n",
    "\n",
    "print(data_X.boxplot('PEEP'))\n",
    "quartiles = data_X['PEEP'].quantile([0.25, 0.5, 0.75])\n",
    "first_q = int(quartiles[0.25])\n",
    "third_q = int(quartiles[0.75])\n",
    "iqr = int(quartiles[0.75]-quartiles[0.25])\n",
    "print('first quartile:', first_q)\n",
    "print('third quartile:', third_q)\n",
    "print('inner quartile range:', iqr)\n",
    "num_out = sum(data_X['PEEP'] > (third_q + 1.5*iqr)) + sum(data_X['PEEP'] < (first_q - 1.5*iqr))\n",
    "print('number of outliers:', num_out)"
   ]
  },
  {
   "cell_type": "code",
   "execution_count": 21,
   "metadata": {
    "scrolled": true
   },
   "outputs": [
    {
     "name": "stdout",
     "output_type": "stream",
     "text": [
      "AxesSubplot(0.125,0.125;0.775x0.755)\n",
      "first quartile: 20\n",
      "third quartile: 25\n",
      "inner quartile range: 5\n",
      "number of outliers: 24\n"
     ]
    },
    {
     "data": {
      "image/png": "[encoded data removed]",
      "text/plain": [
       "<Figure size 432x288 with 1 Axes>"
      ]
     },
     "metadata": {
      "needs_background": "light"
     },
     "output_type": "display_data"
    }
   ],
   "source": [
    "### PIP\n",
    "\n",
    "print(data_X.boxplot('PIP'))\n",
    "quartiles = data_X['PIP'].quantile([0.25, 0.5, 0.75])\n",
    "first_q = int(quartiles[0.25])\n",
    "third_q = int(quartiles[0.75])\n",
    "iqr = int(quartiles[0.75]-quartiles[0.25])\n",
    "print('first quartile:', first_q)\n",
    "print('third quartile:', third_q)\n",
    "print('inner quartile range:', iqr)\n",
    "num_out = sum(data_X['PIP'] > (third_q + 1.5*iqr)) + sum(data_X['PIP'] < (first_q - 1.5*iqr))\n",
    "print('number of outliers:', num_out)\n"
   ]
  },
  {
   "cell_type": "code",
   "execution_count": 23,
   "metadata": {
    "scrolled": true
   },
   "outputs": [
    {
     "name": "stdout",
     "output_type": "stream",
     "text": [
      "AxesSubplot(0.125,0.125;0.775x0.755)\n",
      "first quartile: 380\n",
      "third quartile: 450\n",
      "inner quartile range: 70\n",
      "number of outliers: 18\n"
     ]
    },
    {
     "data": {
      "image/png": "[encoded data removed]",
      "text/plain": [
       "<Figure size 432x288 with 1 Axes>"
      ]
     },
     "metadata": {
      "needs_background": "light"
     },
     "output_type": "display_data"
    }
   ],
   "source": [
    "### TV\n",
    "\n",
    "print(data_X.boxplot('TV'))\n",
    "quartiles = data_X['TV'].quantile([0.25, 0.5, 0.75])\n",
    "first_q = int(quartiles[0.25])\n",
    "third_q = int(quartiles[0.75])\n",
    "iqr = int(quartiles[0.75]-quartiles[0.25])\n",
    "print('first quartile:', first_q)\n",
    "print('third quartile:', third_q)\n",
    "print('inner quartile range:', iqr)\n",
    "num_out = sum(data_X['TV'] > (third_q + 1.5*iqr)) + sum(data_X['TV'] < (first_q - 1.5*iqr))\n",
    "print('number of outliers:', num_out)"
   ]
  },
  {
   "cell_type": "markdown",
   "metadata": {},
   "source": [
    "### Anomaly Detection : fit to data_X or x_train???\n"
   ]
  },
  {
   "cell_type": "code",
   "execution_count": 24,
   "metadata": {},
   "outputs": [],
   "source": [
    "from sklearn.model_selection import train_test_split\n",
    "\n",
    "#split into test and train\n",
    "x_train, x_test, y_train, y_test = train_test_split(data_X, data_Y, test_size = .2)"
   ]
  },
  {
   "cell_type": "code",
   "execution_count": 27,
   "metadata": {},
   "outputs": [
    {
     "name": "stdout",
     "output_type": "stream",
     "text": [
      "[18, 26, 63, 70, 94, 96, 103, 135, 138, 143, 144, 145, 159, 162, 166, 169, 170, 175, 180, 189]\n"
     ]
    },
    {
     "name": "stderr",
     "output_type": "stream",
     "text": [
      "C:\\Users\\tbweb\\Documents\\Anaconda\\lib\\site-packages\\sklearn\\neighbors\\lof.py:236: FutureWarning: default contamination parameter 0.1 will change in version 0.22 to \"auto\". This will change the predict method behavior.\n",
      "  FutureWarning)\n"
     ]
    }
   ],
   "source": [
    "# Relative Density\n",
    "anom = sk.neighbors.LocalOutlierFactor()\n",
    "anom_results = anom.fit_predict(data_X)\n",
    "anom_indices = []\n",
    "for i in range(len(anom_results)): \n",
    "    if anom_results[i] == (-1): \n",
    "        anom_indices.append(i)\n",
    "print(anom_indices)"
   ]
  },
  {
   "cell_type": "code",
   "execution_count": 15,
   "metadata": {},
   "outputs": [
    {
     "name": "stdout",
     "output_type": "stream",
     "text": [
      "[59, 74, 75, 78, 87, 95, 105, 128, 135, 148, 149, 154, 162, 163, 167, 171, 172, 184, 189, 195]\n"
     ]
    },
    {
     "name": "stderr",
     "output_type": "stream",
     "text": [
      "C:\\Users\\tbweb\\Documents\\Anaconda\\lib\\site-packages\\sklearn\\ensemble\\iforest.py:237: FutureWarning: default contamination parameter 0.1 will change in version 0.22 to \"auto\". This will change the predict method behavior.\n",
      "  FutureWarning)\n",
      "C:\\Users\\tbweb\\Documents\\Anaconda\\lib\\site-packages\\sklearn\\ensemble\\iforest.py:247: FutureWarning: behaviour=\"old\" is deprecated and will be removed in version 0.22. Please use behaviour=\"new\", which makes the decision_function change to match other anomaly detection algorithm API.\n",
      "  FutureWarning)\n",
      "C:\\Users\\tbweb\\Documents\\Anaconda\\lib\\site-packages\\sklearn\\ensemble\\iforest.py:415: DeprecationWarning: threshold_ attribute is deprecated in 0.20 and will be removed in 0.22.\n",
      "  \" be removed in 0.22.\", DeprecationWarning)\n"
     ]
    }
   ],
   "source": [
    "# Isolation Forest\n",
    "anom2 = sk.ensemble.IsolationForest()\n",
    "anom2_results = anom2.fit_predict(data_X)\n",
    "anom2_indices = []\n",
    "for i in range(len(anom2_results)): \n",
    "    if anom2_results[i] == (-1): \n",
    "        anom2_indices.append(i)\n",
    "print(anom2_indices)"
   ]
  },
  {
   "cell_type": "code",
   "execution_count": null,
   "metadata": {},
   "outputs": [],
   "source": []
  },
  {
   "cell_type": "code",
   "execution_count": 28,
   "metadata": {},
   "outputs": [],
   "source": [
    "# I'm thinking if indices are in all or both anomaly detections then they should be removed?"
   ]
  }
 ],
 "metadata": {
  "kernelspec": {
   "display_name": "Python 3",
   "language": "python",
   "name": "python3"
  },
  "language_info": {
   "codemirror_mode": {
    "name": "ipython",
    "version": 3
   },
   "file_extension": ".py",
   "mimetype": "text/x-python",
   "name": "python",
   "nbconvert_exporter": "python",
   "pygments_lexer": "ipython3",
   "version": "3.7.4"
  }
 },
 "nbformat": 4,
 "nbformat_minor": 2
}
