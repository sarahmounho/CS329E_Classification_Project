{
 "cells": [
  {
   "cell_type": "markdown",
   "metadata": {},
   "source": [
    "# Decision Tree"
   ]
  },
  {
   "cell_type": "markdown",
   "metadata": {},
   "source": [
    "Last edited: 4/14/2020 3pm"
   ]
  },
  {
   "cell_type": "code",
   "execution_count": 1,
   "metadata": {},
   "outputs": [],
   "source": [
    "import pandas as pd\n",
    "from pandas import Series, DataFrame\n",
    "import numpy as np\n",
    "import matplotlib.pyplot as plt\n",
    "import math\n",
    "\n",
    "import sklearn as sk\n",
    "from sklearn import tree\n",
    "from sklearn.tree import DecisionTreeClassifier\n",
    "from sklearn.preprocessing import StandardScaler\n",
    "from sklearn.model_selection import train_test_split\n",
    "from sklearn.decomposition import PCA\n",
    "\n",
    "import warnings\n",
    "warnings.simplefilter(\"ignore\")\n",
    "import time\n",
    "\n",
    "%matplotlib inline"
   ]
  },
  {
   "cell_type": "code",
   "execution_count": 2,
   "metadata": {},
   "outputs": [
    {
     "name": "stdout",
     "output_type": "stream",
     "text": [
      "0    1.0\n",
      "1    1.0\n",
      "2    1.0\n",
      "3    1.0\n",
      "4    1.0\n",
      "Name: death, dtype: float64\n"
     ]
    },
    {
     "data": {
      "text/html": [
       "<div>\n",
       "<style scoped>\n",
       "    .dataframe tbody tr th:only-of-type {\n",
       "        vertical-align: middle;\n",
       "    }\n",
       "\n",
       "    .dataframe tbody tr th {\n",
       "        vertical-align: top;\n",
       "    }\n",
       "\n",
       "    .dataframe thead th {\n",
       "        text-align: right;\n",
       "    }\n",
       "</style>\n",
       "<table border=\"1\" class=\"dataframe\">\n",
       "  <thead>\n",
       "    <tr style=\"text-align: right;\">\n",
       "      <th></th>\n",
       "      <th>age</th>\n",
       "      <th>sex</th>\n",
       "      <th>Alb</th>\n",
       "      <th>PLT</th>\n",
       "      <th>WBC</th>\n",
       "      <th>CRP</th>\n",
       "      <th>APACHE II</th>\n",
       "      <th>SOFA</th>\n",
       "      <th>McCabe</th>\n",
       "      <th>PaO2/FiO2</th>\n",
       "      <th>LDH</th>\n",
       "      <th>CT score</th>\n",
       "      <th>PEEP</th>\n",
       "      <th>PIP</th>\n",
       "      <th>TV</th>\n",
       "      <th>DARDS = 1</th>\n",
       "    </tr>\n",
       "  </thead>\n",
       "  <tbody>\n",
       "    <tr>\n",
       "      <td>0</td>\n",
       "      <td>79.0</td>\n",
       "      <td>0</td>\n",
       "      <td>2.3</td>\n",
       "      <td>10.8</td>\n",
       "      <td>4000.0</td>\n",
       "      <td>17.8</td>\n",
       "      <td>24.0</td>\n",
       "      <td>8.0</td>\n",
       "      <td>1.0</td>\n",
       "      <td>108.0</td>\n",
       "      <td>339.0</td>\n",
       "      <td>191.6</td>\n",
       "      <td>24.0</td>\n",
       "      <td>25.948052</td>\n",
       "      <td>428.05036</td>\n",
       "      <td>0.0</td>\n",
       "    </tr>\n",
       "    <tr>\n",
       "      <td>1</td>\n",
       "      <td>83.0</td>\n",
       "      <td>0</td>\n",
       "      <td>4.4</td>\n",
       "      <td>13.5</td>\n",
       "      <td>10200.0</td>\n",
       "      <td>8.9</td>\n",
       "      <td>16.0</td>\n",
       "      <td>6.0</td>\n",
       "      <td>1.0</td>\n",
       "      <td>78.0</td>\n",
       "      <td>385.0</td>\n",
       "      <td>213.3</td>\n",
       "      <td>5.0</td>\n",
       "      <td>10.000000</td>\n",
       "      <td>360.00000</td>\n",
       "      <td>0.0</td>\n",
       "    </tr>\n",
       "    <tr>\n",
       "      <td>2</td>\n",
       "      <td>70.0</td>\n",
       "      <td>0</td>\n",
       "      <td>2.7</td>\n",
       "      <td>10.8</td>\n",
       "      <td>5300.0</td>\n",
       "      <td>25.3</td>\n",
       "      <td>22.0</td>\n",
       "      <td>7.0</td>\n",
       "      <td>1.0</td>\n",
       "      <td>70.9</td>\n",
       "      <td>461.0</td>\n",
       "      <td>221.7</td>\n",
       "      <td>18.0</td>\n",
       "      <td>24.000000</td>\n",
       "      <td>525.00000</td>\n",
       "      <td>0.0</td>\n",
       "    </tr>\n",
       "    <tr>\n",
       "      <td>3</td>\n",
       "      <td>61.0</td>\n",
       "      <td>0</td>\n",
       "      <td>3.3</td>\n",
       "      <td>8.8</td>\n",
       "      <td>1800.0</td>\n",
       "      <td>22.2</td>\n",
       "      <td>26.0</td>\n",
       "      <td>7.0</td>\n",
       "      <td>1.0</td>\n",
       "      <td>59.2</td>\n",
       "      <td>227.0</td>\n",
       "      <td>211.6</td>\n",
       "      <td>10.0</td>\n",
       "      <td>24.000000</td>\n",
       "      <td>480.00000</td>\n",
       "      <td>0.0</td>\n",
       "    </tr>\n",
       "    <tr>\n",
       "      <td>4</td>\n",
       "      <td>81.0</td>\n",
       "      <td>0</td>\n",
       "      <td>3.1</td>\n",
       "      <td>26.2</td>\n",
       "      <td>10600.0</td>\n",
       "      <td>17.0</td>\n",
       "      <td>19.0</td>\n",
       "      <td>4.0</td>\n",
       "      <td>1.0</td>\n",
       "      <td>83.6</td>\n",
       "      <td>680.0</td>\n",
       "      <td>234.9</td>\n",
       "      <td>5.0</td>\n",
       "      <td>10.000000</td>\n",
       "      <td>625.00000</td>\n",
       "      <td>0.0</td>\n",
       "    </tr>\n",
       "  </tbody>\n",
       "</table>\n",
       "</div>"
      ],
      "text/plain": [
       "    age  sex  Alb   PLT      WBC   CRP  APACHE II  SOFA  McCabe  PaO2/FiO2  \\\n",
       "0  79.0    0  2.3  10.8   4000.0  17.8       24.0   8.0     1.0      108.0   \n",
       "1  83.0    0  4.4  13.5  10200.0   8.9       16.0   6.0     1.0       78.0   \n",
       "2  70.0    0  2.7  10.8   5300.0  25.3       22.0   7.0     1.0       70.9   \n",
       "3  61.0    0  3.3   8.8   1800.0  22.2       26.0   7.0     1.0       59.2   \n",
       "4  81.0    0  3.1  26.2  10600.0  17.0       19.0   4.0     1.0       83.6   \n",
       "\n",
       "     LDH  CT score  PEEP        PIP         TV  DARDS = 1  \n",
       "0  339.0     191.6  24.0  25.948052  428.05036        0.0  \n",
       "1  385.0     213.3   5.0  10.000000  360.00000        0.0  \n",
       "2  461.0     221.7  18.0  24.000000  525.00000        0.0  \n",
       "3  227.0     211.6  10.0  24.000000  480.00000        0.0  \n",
       "4  680.0     234.9   5.0  10.000000  625.00000        0.0  "
      ]
     },
     "execution_count": 2,
     "metadata": {},
     "output_type": "execute_result"
    }
   ],
   "source": [
    "#Load cleaned data set \n",
    "from utils import intake_data\n",
    "data = intake_data()\n",
    "#adjust variables\n",
    "data.rename(columns = {'death = 1 ': 'death'}, inplace=True)\n",
    "#create X and Y dataframes\n",
    "data_X = data.iloc[:, :16]\n",
    "data_Y = data.iloc[:, 17] #df with class labels\n",
    "print(data_Y.head())\n",
    "data_X.head()"
   ]
  },
  {
   "cell_type": "code",
   "execution_count": 8,
   "metadata": {
    "scrolled": true
   },
   "outputs": [],
   "source": [
    "# run a nested cross-validation \n",
    "dt = DecisionTreeClassifier(criterion = \"entropy\")\n",
    "params = {\"max_depth\":[2,4,6,8,10,12], \"max_features\":[2,4,6,8,10,12,14], \n",
    "          \"min_samples_leaf\":[2,4,6,8,10,12,14,16,18,20]} \n",
    "clf = sk.model_selection.GridSearchCV(dt, param_grid = params, scoring = \"accuracy\", cv = 10)\n",
    "accuracies = sk.model_selection.cross_val_score(clf, data_X, data_Y, cv = 10)"
   ]
  },
  {
   "cell_type": "code",
   "execution_count": 9,
   "metadata": {},
   "outputs": [
    {
     "name": "stdout",
     "output_type": "stream",
     "text": [
      "0.6121052631578948\n"
     ]
    }
   ],
   "source": [
    "# print results \n",
    "\n",
    "print(accuracies.mean())\n",
    "# criterion = \"gini\" : 0.628\n",
    "# criterion = \"entropy\" : 0.612\n",
    "\n",
    "# how to get best params out of classifier??\n",
    "#print(clf.best_params_)"
   ]
  },
  {
   "cell_type": "code",
   "execution_count": 12,
   "metadata": {},
   "outputs": [
    {
     "name": "stdout",
     "output_type": "stream",
     "text": [
      "Training Set Records: 177\n",
      "Testing Set Records: 20\n"
     ]
    },
    {
     "data": {
      "text/plain": [
       "[Text(125.55000000000001, 203.85, 'X[2] <= 1.95\\ngini = 0.455\\nsamples = 197\\nvalue = [128, 69]'),\n",
       " Text(105.85588235294118, 176.67000000000002, 'gini = 0.401\\nsamples = 18\\nvalue = [5, 13]'),\n",
       " Text(145.24411764705883, 176.67000000000002, 'X[10] <= 280.5\\ngini = 0.43\\nsamples = 179\\nvalue = [123, 56]'),\n",
       " Text(59.082352941176474, 149.49, 'X[11] <= 210.75\\ngini = 0.296\\nsamples = 61\\nvalue = [50, 11]'),\n",
       " Text(39.38823529411765, 122.31, 'X[5] <= 22.4\\ngini = 0.087\\nsamples = 44\\nvalue = [42, 2]'),\n",
       " Text(19.694117647058825, 95.13, 'gini = 0.0\\nsamples = 33\\nvalue = [33, 0]'),\n",
       " Text(59.082352941176474, 95.13, 'gini = 0.298\\nsamples = 11\\nvalue = [9, 2]'),\n",
       " Text(78.7764705882353, 122.31, 'gini = 0.498\\nsamples = 17\\nvalue = [8, 9]'),\n",
       " Text(231.40588235294118, 149.49, 'X[15] <= 0.5\\ngini = 0.472\\nsamples = 118\\nvalue = [73, 45]'),\n",
       " Text(167.4, 122.31, 'X[11] <= 234.8\\ngini = 0.491\\nsamples = 97\\nvalue = [55, 42]'),\n",
       " Text(98.47058823529412, 95.13, 'X[4] <= 5500.0\\ngini = 0.426\\nsamples = 52\\nvalue = [36, 16]'),\n",
       " Text(59.082352941176474, 67.94999999999999, 'X[2] <= 2.75\\ngini = 0.48\\nsamples = 20\\nvalue = [8, 12]'),\n",
       " Text(39.38823529411765, 40.77000000000001, 'gini = 0.42\\nsamples = 10\\nvalue = [3, 7]'),\n",
       " Text(78.7764705882353, 40.77000000000001, 'gini = 0.5\\nsamples = 10\\nvalue = [5, 5]'),\n",
       " Text(137.85882352941178, 67.94999999999999, 'X[14] <= 410.0\\ngini = 0.219\\nsamples = 32\\nvalue = [28, 4]'),\n",
       " Text(118.16470588235295, 40.77000000000001, 'gini = 0.42\\nsamples = 10\\nvalue = [7, 3]'),\n",
       " Text(157.5529411764706, 40.77000000000001, 'X[7] <= 6.5\\ngini = 0.087\\nsamples = 22\\nvalue = [21, 1]'),\n",
       " Text(137.85882352941178, 13.590000000000003, 'gini = 0.18\\nsamples = 10\\nvalue = [9, 1]'),\n",
       " Text(177.24705882352941, 13.590000000000003, 'gini = 0.0\\nsamples = 12\\nvalue = [12, 0]'),\n",
       " Text(236.3294117647059, 95.13, 'X[2] <= 3.05\\ngini = 0.488\\nsamples = 45\\nvalue = [19, 26]'),\n",
       " Text(216.63529411764708, 67.94999999999999, 'X[5] <= 19.75\\ngini = 0.496\\nsamples = 33\\nvalue = [18, 15]'),\n",
       " Text(196.94117647058823, 40.77000000000001, 'gini = 0.465\\nsamples = 19\\nvalue = [7, 12]'),\n",
       " Text(236.3294117647059, 40.77000000000001, 'gini = 0.337\\nsamples = 14\\nvalue = [11, 3]'),\n",
       " Text(256.02352941176474, 67.94999999999999, 'gini = 0.153\\nsamples = 12\\nvalue = [1, 11]'),\n",
       " Text(295.4117647058824, 122.31, 'X[3] <= 21.5\\ngini = 0.245\\nsamples = 21\\nvalue = [18, 3]'),\n",
       " Text(275.71764705882356, 95.13, 'gini = 0.42\\nsamples = 10\\nvalue = [7, 3]'),\n",
       " Text(315.1058823529412, 95.13, 'gini = 0.0\\nsamples = 11\\nvalue = [11, 0]')]"
      ]
     },
     "execution_count": 12,
     "metadata": {},
     "output_type": "execute_result"
    },
    {
     "data": {
      "image/png": "[encoded data removed]",
      "text/plain": [
       "<Figure size 432x288 with 1 Axes>"
      ]
     },
     "metadata": {
      "needs_background": "light"
     },
     "output_type": "display_data"
    }
   ],
   "source": [
    "# Run model: do you use a testing set or just use it all because you know the accuracy??\n",
    "\n",
    "# option 1: split into test and train\n",
    "x_train, x_test, y_train, y_test = train_test_split(data_X, data_Y, test_size = .1)\n",
    "print(\"Training Set Records:\", len(x_train))\n",
    "print(\"Testing Set Records:\", len(x_test))\n",
    "\n",
    "\n",
    "# option 2 = run it on all data\n",
    "clf = DecisionTreeClassifier(criterion = \"gini\", \n",
    "                            max_depth = 10, \n",
    "                            max_features = 10, \n",
    "                            min_samples_leaf = 10)\n",
    "tree.plot_tree(clf.fit(data_X, data_Y))"
   ]
  }
 ],
 "metadata": {
  "kernelspec": {
   "display_name": "Python 3",
   "language": "python",
   "name": "python3"
  },
  "language_info": {
   "codemirror_mode": {
    "name": "ipython",
    "version": 3
   },
   "file_extension": ".py",
   "mimetype": "text/x-python",
   "name": "python",
   "nbconvert_exporter": "python",
   "pygments_lexer": "ipython3",
   "version": "3.7.4"
  }
 },
 "nbformat": 4,
 "nbformat_minor": 2
}
