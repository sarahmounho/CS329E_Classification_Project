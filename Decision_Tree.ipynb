{
 "cells": [
  {
   "cell_type": "markdown",
   "metadata": {},
   "source": [
    "# Decision Tree"
   ]
  },
  {
   "cell_type": "markdown",
   "metadata": {},
   "source": [
    "The Decision Tree algorithm is a supervised machine learning algorithm that takes place in two steps: first, starting with the single root node, if all, or an acceptable number, of records in the node belong to a single class or all have the same attributes, the node becomes a leaf node; if the node does not become a leaf node, an attribute and test condition are chosen to split the node into child nodes. These two steps are recursively applied to create the final decision tree. It was determined that the decision tree classifier could be a suitable option for our data because it is computationally inexpensive, easy to interpret, and is resilient to noise, which our data has some of because it is such a small dataset. When running it, we looked for possible data fragmentation, or leaves with too few values, as that might be more likely to happen with such a small number of records. Further, we chose the minimum number of values in a leaf as one of the hyperparameters to watch this. "
   ]
  },
  {
   "cell_type": "code",
   "execution_count": 1,
   "metadata": {},
   "outputs": [],
   "source": [
    "import pandas as pd\n",
    "from pandas import Series, DataFrame\n",
    "import numpy as np\n",
    "import matplotlib.pyplot as plt\n",
    "import math\n",
    "\n",
    "import sklearn as sk\n",
    "from sklearn import tree\n",
    "from sklearn.tree import DecisionTreeClassifier\n",
    "from sklearn.preprocessing import StandardScaler\n",
    "from sklearn.model_selection import train_test_split\n",
    "from sklearn.decomposition import PCA\n",
    "from sklearn.pipeline import Pipeline\n",
    "from sklearn.metrics import accuracy_score\n",
    "\n",
    "import warnings\n",
    "warnings.simplefilter(\"ignore\")\n",
    "import time\n",
    "\n",
    "%matplotlib inline"
   ]
  },
  {
   "cell_type": "markdown",
   "metadata": {},
   "source": [
    "First load the cleaned and imputed dataset from utils.py and display the top of the class labels and features. "
   ]
  },
  {
   "cell_type": "code",
   "execution_count": 14,
   "metadata": {},
   "outputs": [
    {
     "name": "stdout",
     "output_type": "stream",
     "text": [
      "TEST\n",
      "looks like imblearn isn't installed! skipping upsampling: No module named 'imblearn'\n",
      "0    1.0\n",
      "1    1.0\n",
      "2    1.0\n",
      "3    1.0\n",
      "4    1.0\n",
      "Name: death, dtype: float64\n"
     ]
    },
    {
     "data": {
      "text/html": [
       "<div>\n",
       "<style scoped>\n",
       "    .dataframe tbody tr th:only-of-type {\n",
       "        vertical-align: middle;\n",
       "    }\n",
       "\n",
       "    .dataframe tbody tr th {\n",
       "        vertical-align: top;\n",
       "    }\n",
       "\n",
       "    .dataframe thead th {\n",
       "        text-align: right;\n",
       "    }\n",
       "</style>\n",
       "<table border=\"1\" class=\"dataframe\">\n",
       "  <thead>\n",
       "    <tr style=\"text-align: right;\">\n",
       "      <th></th>\n",
       "      <th>age</th>\n",
       "      <th>sex</th>\n",
       "      <th>Alb</th>\n",
       "      <th>PLT</th>\n",
       "      <th>WBC</th>\n",
       "      <th>CRP</th>\n",
       "      <th>APACHE II</th>\n",
       "      <th>SOFA</th>\n",
       "      <th>McCabe</th>\n",
       "      <th>PaO2/FiO2</th>\n",
       "      <th>LDH</th>\n",
       "      <th>CT score</th>\n",
       "      <th>PEEP</th>\n",
       "      <th>PIP</th>\n",
       "      <th>TV</th>\n",
       "      <th>DARDS = 1</th>\n",
       "    </tr>\n",
       "  </thead>\n",
       "  <tbody>\n",
       "    <tr>\n",
       "      <td>0</td>\n",
       "      <td>79.0</td>\n",
       "      <td>0</td>\n",
       "      <td>2.3</td>\n",
       "      <td>10.8</td>\n",
       "      <td>4000.0</td>\n",
       "      <td>17.8</td>\n",
       "      <td>24.0</td>\n",
       "      <td>8.0</td>\n",
       "      <td>1.0</td>\n",
       "      <td>108.0</td>\n",
       "      <td>339.0</td>\n",
       "      <td>191.6</td>\n",
       "      <td>24.0</td>\n",
       "      <td>25.948052</td>\n",
       "      <td>428.05036</td>\n",
       "      <td>0.0</td>\n",
       "    </tr>\n",
       "    <tr>\n",
       "      <td>1</td>\n",
       "      <td>83.0</td>\n",
       "      <td>0</td>\n",
       "      <td>4.4</td>\n",
       "      <td>13.5</td>\n",
       "      <td>10200.0</td>\n",
       "      <td>8.9</td>\n",
       "      <td>16.0</td>\n",
       "      <td>6.0</td>\n",
       "      <td>1.0</td>\n",
       "      <td>78.0</td>\n",
       "      <td>385.0</td>\n",
       "      <td>213.3</td>\n",
       "      <td>5.0</td>\n",
       "      <td>10.000000</td>\n",
       "      <td>360.00000</td>\n",
       "      <td>0.0</td>\n",
       "    </tr>\n",
       "    <tr>\n",
       "      <td>2</td>\n",
       "      <td>70.0</td>\n",
       "      <td>0</td>\n",
       "      <td>2.7</td>\n",
       "      <td>10.8</td>\n",
       "      <td>5300.0</td>\n",
       "      <td>25.3</td>\n",
       "      <td>22.0</td>\n",
       "      <td>7.0</td>\n",
       "      <td>1.0</td>\n",
       "      <td>70.9</td>\n",
       "      <td>461.0</td>\n",
       "      <td>221.7</td>\n",
       "      <td>18.0</td>\n",
       "      <td>24.000000</td>\n",
       "      <td>525.00000</td>\n",
       "      <td>0.0</td>\n",
       "    </tr>\n",
       "    <tr>\n",
       "      <td>3</td>\n",
       "      <td>61.0</td>\n",
       "      <td>0</td>\n",
       "      <td>3.3</td>\n",
       "      <td>8.8</td>\n",
       "      <td>1800.0</td>\n",
       "      <td>22.2</td>\n",
       "      <td>26.0</td>\n",
       "      <td>7.0</td>\n",
       "      <td>1.0</td>\n",
       "      <td>59.2</td>\n",
       "      <td>227.0</td>\n",
       "      <td>211.6</td>\n",
       "      <td>10.0</td>\n",
       "      <td>24.000000</td>\n",
       "      <td>480.00000</td>\n",
       "      <td>0.0</td>\n",
       "    </tr>\n",
       "    <tr>\n",
       "      <td>4</td>\n",
       "      <td>81.0</td>\n",
       "      <td>0</td>\n",
       "      <td>3.1</td>\n",
       "      <td>26.2</td>\n",
       "      <td>10600.0</td>\n",
       "      <td>17.0</td>\n",
       "      <td>19.0</td>\n",
       "      <td>4.0</td>\n",
       "      <td>1.0</td>\n",
       "      <td>83.6</td>\n",
       "      <td>680.0</td>\n",
       "      <td>234.9</td>\n",
       "      <td>5.0</td>\n",
       "      <td>10.000000</td>\n",
       "      <td>625.00000</td>\n",
       "      <td>0.0</td>\n",
       "    </tr>\n",
       "  </tbody>\n",
       "</table>\n",
       "</div>"
      ],
      "text/plain": [
       "    age  sex  Alb   PLT      WBC   CRP  APACHE II  SOFA  McCabe  PaO2/FiO2  \\\n",
       "0  79.0    0  2.3  10.8   4000.0  17.8       24.0   8.0     1.0      108.0   \n",
       "1  83.0    0  4.4  13.5  10200.0   8.9       16.0   6.0     1.0       78.0   \n",
       "2  70.0    0  2.7  10.8   5300.0  25.3       22.0   7.0     1.0       70.9   \n",
       "3  61.0    0  3.3   8.8   1800.0  22.2       26.0   7.0     1.0       59.2   \n",
       "4  81.0    0  3.1  26.2  10600.0  17.0       19.0   4.0     1.0       83.6   \n",
       "\n",
       "     LDH  CT score  PEEP        PIP         TV  DARDS = 1  \n",
       "0  339.0     191.6  24.0  25.948052  428.05036        0.0  \n",
       "1  385.0     213.3   5.0  10.000000  360.00000        0.0  \n",
       "2  461.0     221.7  18.0  24.000000  525.00000        0.0  \n",
       "3  227.0     211.6  10.0  24.000000  480.00000        0.0  \n",
       "4  680.0     234.9   5.0  10.000000  625.00000        0.0  "
      ]
     },
     "execution_count": 14,
     "metadata": {},
     "output_type": "execute_result"
    }
   ],
   "source": [
    "from utils import intake_data\n",
    "data_X, data_Y = intake_data()\n",
    "print(data_Y.head())\n",
    "data_X.head()"
   ]
  },
  {
   "cell_type": "markdown",
   "metadata": {},
   "source": [
    "Second, perform a nested cross-validation to determine the accuracy of a Decision Tree classifier on the dataset. The hyperparamters max_depth, max_features, min_samples_leaf, and criterion were chosen for this validation. The range of tested hyperparameter values was based on typical tested values, and then the ranges were reduced to accomodate the smaller number of records. If, after running the cross-validation with the chosen range of hyperparameter values, the maximum or minimum in the range was chosen, the range was extended, the cross-validation re-run, and the proecess repeated until the chosen values consistently fell on the inside of the range. "
   ]
  },
  {
   "cell_type": "code",
   "execution_count": 16,
   "metadata": {
    "scrolled": true
   },
   "outputs": [
    {
     "name": "stdout",
     "output_type": "stream",
     "text": [
      "Best score: 0.7202\n",
      "Best parameters:\n",
      " max depth: 4 ; max features: 12 ; min samples leaf: 14 ; criterion: entropy\n",
      "Accuracy: 61.0%\n"
     ]
    }
   ],
   "source": [
    "# run a nested cross-validation \n",
    "dt = DecisionTreeClassifier()\n",
    "params = {\"max_depth\":[1,2,3,4,5,6], \"max_features\":[2,4,6,8,10,12,14,16], \n",
    "          \"min_samples_leaf\":[2,4,6,8,10,12,14,16,18,20,22,24], \"criterion\":['gini', 'entropy']} \n",
    "clf_grid_pipe =sk.model_selection.GridSearchCV(dt, param_grid = params, scoring = \"accuracy\", cv = 10)\n",
    "clf_grid_pipe.fit(data_X, data_Y)\n",
    "print('Best score:', round(clf_grid_pipe.best_score_, 4))\n",
    "print('Best parameters:\\n',\n",
    "      'max depth:', clf_grid_pipe.best_params_['max_depth'],\n",
    "      '; max features:', clf_grid_pipe.best_params_['max_features'],\n",
    "      '; min samples leaf:', clf_grid_pipe.best_params_['min_samples_leaf'], \n",
    "      '; criterion:', clf_grid_pipe.best_params_['criterion'])\n",
    "\n",
    "pred_Y = sk.model_selection.cross_val_predict(clf_grid_pipe, data_X, data_Y, cv = 10)\n",
    "\n",
    "print('Accuracy: '+ str(round(accuracy_score(data_Y, pred_Y), 2)*100) + '%')"
   ]
  },
  {
   "cell_type": "markdown",
   "metadata": {},
   "source": [
    "Next, develop the classification report and a confusion matrix for the classifier. "
   ]
  },
  {
   "cell_type": "code",
   "execution_count": 26,
   "metadata": {
    "scrolled": true
   },
   "outputs": [
    {
     "name": "stdout",
     "output_type": "stream",
     "text": [
      "              precision    recall  f1-score   support\n",
      "\n",
      "           0       0.68      0.75      0.71       127\n",
      "           1       0.41      0.33      0.37        66\n",
      "\n",
      "    accuracy                           0.61       193\n",
      "   macro avg       0.55      0.54      0.54       193\n",
      "weighted avg       0.59      0.61      0.60       193\n",
      "\n"
     ]
    },
    {
     "data": {
      "image/png": "[encoded data removed]",
      "text/plain": [
       "<Figure size 432x288 with 2 Axes>"
      ]
     },
     "metadata": {
      "needs_background": "light"
     },
     "output_type": "display_data"
    }
   ],
   "source": [
    "from sklearn.metrics import classification_report\n",
    "from sklearn.metrics import confusion_matrix\n",
    "import seaborn as sn\n",
    "\n",
    "print(classification_report(data_Y, pred_Y, labels = [0,1]))\n",
    "\n",
    "#Create a confusion matrix\n",
    "data = {'Actual': data_Y, 'Predicted': pred_Y}\n",
    "df = pd.DataFrame(data, columns=['Actual', 'Predicted'])\n",
    "df['Predicted'].replace(0, 'Alive', inplace=True)\n",
    "df['Predicted'].replace(1, 'Dead', inplace=True)\n",
    "df['Actual'].replace(0, 'Alive', inplace=True)\n",
    "df['Actual'].replace(1, 'Dead', inplace=True)\n",
    "cm = pd.crosstab(df['Actual'], df['Predicted'], rownames=['Actual'], colnames=['Predicted'])                                    \n",
    "#Print a formatted confusion matrix using a heatmap\n",
    "sn.heatmap(cm, annot=True)\n",
    "plt.title('Confusion Matrix for Random Forest Classifier')\n",
    "plt.show()\n",
    "\n",
    "#print(\"confusion matrix:\\n\", confusion_matrix(data_Y, pred_Y))"
   ]
  },
  {
   "cell_type": "markdown",
   "metadata": {},
   "source": [
    "Finally, run the Decision Tree Classifier on the whole dataset with the chosen best hyperparamters. "
   ]
  },
  {
   "cell_type": "code",
   "execution_count": 25,
   "metadata": {},
   "outputs": [
    {
     "name": "stdout",
     "output_type": "stream",
     "text": [
      "[Text(178.56, 195.696, 'X[11] <= 210.75\\nentropy = 0.927\\nsamples = 193\\nvalue = [127, 66]'), Text(89.28, 152.208, 'X[4] <= 4550.0\\nentropy = 0.695\\nsamples = 91\\nvalue = [74, 17]'), Text(44.64, 108.72, 'X[10] <= 280.5\\nentropy = 0.981\\nsamples = 31\\nvalue = [18, 13]'), Text(22.32, 65.232, 'entropy = 0.592\\nsamples = 14\\nvalue = [12, 2]'), Text(66.96000000000001, 65.232, 'entropy = 0.937\\nsamples = 17\\nvalue = [6, 11]'), Text(133.92000000000002, 108.72, 'X[14] <= 367.5\\nentropy = 0.353\\nsamples = 60\\nvalue = [56, 4]'), Text(111.6, 65.232, 'entropy = 0.787\\nsamples = 17\\nvalue = [13, 4]'), Text(156.24, 65.232, 'entropy = 0.0\\nsamples = 43\\nvalue = [43, 0]'), Text(267.84000000000003, 152.208, 'X[15] <= 0.5\\nentropy = 0.999\\nsamples = 102\\nvalue = [53, 49]'), Text(245.52, 108.72, 'X[4] <= 9900.0\\nentropy = 0.989\\nsamples = 80\\nvalue = [35, 45]'), Text(200.88, 65.232, 'X[4] <= 6850.0\\nentropy = 0.974\\nsamples = 32\\nvalue = [19, 13]'), Text(178.56, 21.744, 'entropy = 0.94\\nsamples = 14\\nvalue = [5, 9]'), Text(223.2, 21.744, 'entropy = 0.764\\nsamples = 18\\nvalue = [14, 4]'), Text(290.16, 65.232, 'X[5] <= 21.5\\nentropy = 0.918\\nsamples = 48\\nvalue = [16, 32]'), Text(267.84000000000003, 21.744, 'entropy = 0.663\\nsamples = 29\\nvalue = [5, 24]'), Text(312.48, 21.744, 'entropy = 0.982\\nsamples = 19\\nvalue = [11, 8]'), Text(290.16, 108.72, 'entropy = 0.684\\nsamples = 22\\nvalue = [18, 4]')]\n"
     ]
    },
    {
     "data": {
      "image/png": "[encoded data removed]",
      "text/plain": [
       "<Figure size 432x288 with 1 Axes>"
      ]
     },
     "metadata": {
      "needs_background": "light"
     },
     "output_type": "display_data"
    }
   ],
   "source": [
    "clf = DecisionTreeClassifier(criterion = \"entropy\", \n",
    "                            max_depth = 4, \n",
    "                            max_features = 12, \n",
    "                            min_samples_leaf = 14)\n",
    "print(tree.plot_tree(clf.fit(data_X, data_Y)))"
   ]
  }
 ],
 "metadata": {
  "kernelspec": {
   "display_name": "Python 3",
   "language": "python",
   "name": "python3"
  },
  "language_info": {
   "codemirror_mode": {
    "name": "ipython",
    "version": 3
   },
   "file_extension": ".py",
   "mimetype": "text/x-python",
   "name": "python",
   "nbconvert_exporter": "python",
   "pygments_lexer": "ipython3",
   "version": "3.7.4"
  }
 },
 "nbformat": 4,
 "nbformat_minor": 2
}
