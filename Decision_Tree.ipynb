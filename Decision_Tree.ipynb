{
 "cells": [
  {
   "cell_type": "markdown",
   "metadata": {},
   "source": [
    "# Decision Tree"
   ]
  },
  {
   "cell_type": "markdown",
   "metadata": {},
   "source": [
    "Last edited: 4/15/2020 2pm Notes: \n",
    "\n",
    "add upsampled data from feature engineering (has library not in anaconda - create new evironment in anaconda navigator, add libraries there, from terminal activate environment, then pip install new upsampling library. have to activate environment every time you open a python notebook; use code in sarah's feature engineering)\n",
    "conda activate 'name of environment\"\n",
    "turn report into pretty graph\n",
    "include summary of what algorithm we're using, what it does, what its strengths and weaknesses are, how we think our data will behave, and what hyperparameters we're trying to optimize \n"
   ]
  },
  {
   "cell_type": "markdown",
   "metadata": {},
   "source": []
  },
  {
   "cell_type": "code",
   "execution_count": 7,
   "metadata": {},
   "outputs": [],
   "source": [
    "import pandas as pd\n",
    "from pandas import Series, DataFrame\n",
    "import numpy as np\n",
    "import matplotlib.pyplot as plt\n",
    "import math\n",
    "\n",
    "import sklearn as sk\n",
    "from sklearn import tree\n",
    "from sklearn.tree import DecisionTreeClassifier\n",
    "from sklearn.preprocessing import StandardScaler\n",
    "from sklearn.model_selection import train_test_split\n",
    "from sklearn.decomposition import PCA\n",
    "from sklearn.pipeline import Pipeline\n",
    "from sklearn.metrics import accuracy_score\n",
    "\n",
    "import warnings\n",
    "warnings.simplefilter(\"ignore\")\n",
    "import time\n",
    "\n",
    "%matplotlib inline"
   ]
  },
  {
   "cell_type": "code",
   "execution_count": 2,
   "metadata": {},
   "outputs": [
    {
     "name": "stdout",
     "output_type": "stream",
     "text": [
      "0    1.0\n",
      "1    1.0\n",
      "2    1.0\n",
      "3    1.0\n",
      "4    1.0\n",
      "Name: death, dtype: float64\n"
     ]
    },
    {
     "data": {
      "text/html": [
       "<div>\n",
       "<style scoped>\n",
       "    .dataframe tbody tr th:only-of-type {\n",
       "        vertical-align: middle;\n",
       "    }\n",
       "\n",
       "    .dataframe tbody tr th {\n",
       "        vertical-align: top;\n",
       "    }\n",
       "\n",
       "    .dataframe thead th {\n",
       "        text-align: right;\n",
       "    }\n",
       "</style>\n",
       "<table border=\"1\" class=\"dataframe\">\n",
       "  <thead>\n",
       "    <tr style=\"text-align: right;\">\n",
       "      <th></th>\n",
       "      <th>age</th>\n",
       "      <th>sex</th>\n",
       "      <th>Alb</th>\n",
       "      <th>PLT</th>\n",
       "      <th>WBC</th>\n",
       "      <th>CRP</th>\n",
       "      <th>APACHE II</th>\n",
       "      <th>SOFA</th>\n",
       "      <th>McCabe</th>\n",
       "      <th>PaO2/FiO2</th>\n",
       "      <th>LDH</th>\n",
       "      <th>CT score</th>\n",
       "      <th>PEEP</th>\n",
       "      <th>PIP</th>\n",
       "      <th>TV</th>\n",
       "      <th>DARDS = 1</th>\n",
       "    </tr>\n",
       "  </thead>\n",
       "  <tbody>\n",
       "    <tr>\n",
       "      <td>0</td>\n",
       "      <td>79.0</td>\n",
       "      <td>0</td>\n",
       "      <td>2.3</td>\n",
       "      <td>10.8</td>\n",
       "      <td>4000.0</td>\n",
       "      <td>17.8</td>\n",
       "      <td>24.0</td>\n",
       "      <td>8.0</td>\n",
       "      <td>1.0</td>\n",
       "      <td>108.0</td>\n",
       "      <td>339.0</td>\n",
       "      <td>191.6</td>\n",
       "      <td>24.0</td>\n",
       "      <td>25.948052</td>\n",
       "      <td>428.05036</td>\n",
       "      <td>0.0</td>\n",
       "    </tr>\n",
       "    <tr>\n",
       "      <td>1</td>\n",
       "      <td>83.0</td>\n",
       "      <td>0</td>\n",
       "      <td>4.4</td>\n",
       "      <td>13.5</td>\n",
       "      <td>10200.0</td>\n",
       "      <td>8.9</td>\n",
       "      <td>16.0</td>\n",
       "      <td>6.0</td>\n",
       "      <td>1.0</td>\n",
       "      <td>78.0</td>\n",
       "      <td>385.0</td>\n",
       "      <td>213.3</td>\n",
       "      <td>5.0</td>\n",
       "      <td>10.000000</td>\n",
       "      <td>360.00000</td>\n",
       "      <td>0.0</td>\n",
       "    </tr>\n",
       "    <tr>\n",
       "      <td>2</td>\n",
       "      <td>70.0</td>\n",
       "      <td>0</td>\n",
       "      <td>2.7</td>\n",
       "      <td>10.8</td>\n",
       "      <td>5300.0</td>\n",
       "      <td>25.3</td>\n",
       "      <td>22.0</td>\n",
       "      <td>7.0</td>\n",
       "      <td>1.0</td>\n",
       "      <td>70.9</td>\n",
       "      <td>461.0</td>\n",
       "      <td>221.7</td>\n",
       "      <td>18.0</td>\n",
       "      <td>24.000000</td>\n",
       "      <td>525.00000</td>\n",
       "      <td>0.0</td>\n",
       "    </tr>\n",
       "    <tr>\n",
       "      <td>3</td>\n",
       "      <td>61.0</td>\n",
       "      <td>0</td>\n",
       "      <td>3.3</td>\n",
       "      <td>8.8</td>\n",
       "      <td>1800.0</td>\n",
       "      <td>22.2</td>\n",
       "      <td>26.0</td>\n",
       "      <td>7.0</td>\n",
       "      <td>1.0</td>\n",
       "      <td>59.2</td>\n",
       "      <td>227.0</td>\n",
       "      <td>211.6</td>\n",
       "      <td>10.0</td>\n",
       "      <td>24.000000</td>\n",
       "      <td>480.00000</td>\n",
       "      <td>0.0</td>\n",
       "    </tr>\n",
       "    <tr>\n",
       "      <td>4</td>\n",
       "      <td>81.0</td>\n",
       "      <td>0</td>\n",
       "      <td>3.1</td>\n",
       "      <td>26.2</td>\n",
       "      <td>10600.0</td>\n",
       "      <td>17.0</td>\n",
       "      <td>19.0</td>\n",
       "      <td>4.0</td>\n",
       "      <td>1.0</td>\n",
       "      <td>83.6</td>\n",
       "      <td>680.0</td>\n",
       "      <td>234.9</td>\n",
       "      <td>5.0</td>\n",
       "      <td>10.000000</td>\n",
       "      <td>625.00000</td>\n",
       "      <td>0.0</td>\n",
       "    </tr>\n",
       "  </tbody>\n",
       "</table>\n",
       "</div>"
      ],
      "text/plain": [
       "    age  sex  Alb   PLT      WBC   CRP  APACHE II  SOFA  McCabe  PaO2/FiO2  \\\n",
       "0  79.0    0  2.3  10.8   4000.0  17.8       24.0   8.0     1.0      108.0   \n",
       "1  83.0    0  4.4  13.5  10200.0   8.9       16.0   6.0     1.0       78.0   \n",
       "2  70.0    0  2.7  10.8   5300.0  25.3       22.0   7.0     1.0       70.9   \n",
       "3  61.0    0  3.3   8.8   1800.0  22.2       26.0   7.0     1.0       59.2   \n",
       "4  81.0    0  3.1  26.2  10600.0  17.0       19.0   4.0     1.0       83.6   \n",
       "\n",
       "     LDH  CT score  PEEP        PIP         TV  DARDS = 1  \n",
       "0  339.0     191.6  24.0  25.948052  428.05036        0.0  \n",
       "1  385.0     213.3   5.0  10.000000  360.00000        0.0  \n",
       "2  461.0     221.7  18.0  24.000000  525.00000        0.0  \n",
       "3  227.0     211.6  10.0  24.000000  480.00000        0.0  \n",
       "4  680.0     234.9   5.0  10.000000  625.00000        0.0  "
      ]
     },
     "execution_count": 2,
     "metadata": {},
     "output_type": "execute_result"
    }
   ],
   "source": [
    "#Load cleaned data set \n",
    "from utils import intake_data\n",
    "data = intake_data()\n",
    "#adjust variables\n",
    "data.rename(columns = {'death = 1 ': 'death'}, inplace=True)\n",
    "#create X and Y dataframes\n",
    "data_X = data.iloc[:, :16]\n",
    "data_Y = data.iloc[:, 17] #df with class labels\n",
    "print(data_Y.head())\n",
    "data_X.head()"
   ]
  },
  {
   "cell_type": "markdown",
   "metadata": {},
   "source": [
    "The following cell is a nested cross-validation to determine the accuracy of a Decision Tree classifier on the dataset. The hyperparamters max_depth, max_features, min_samples_leaf, and criterion were chosen for this validation. The range of tested hyperparameter values was based on the values chosen in the homeworks, and they were reduced to accomodate the smaller number of records. If, after running the cross-validation with the chosen range of hyperparameter values, the maximum or minimum in the range was chosen, the range would be extended, the cross-validation would be re-run, and the proecess would be repeated until the chosen values consistently fell on the inside of the range. "
   ]
  },
  {
   "cell_type": "code",
   "execution_count": 8,
   "metadata": {
    "scrolled": true
   },
   "outputs": [
    {
     "name": "stdout",
     "output_type": "stream",
     "text": [
      "Best score: 0.731\n",
      "Best parameters:\n",
      " max depth: 2 ; max features: 14 ; min samples leaf: 20 ; criterion: entropy\n",
      "Accuracy: 60.0%\n"
     ]
    }
   ],
   "source": [
    "# run a nested cross-validation \n",
    "dt = DecisionTreeClassifier()\n",
    "params = {\"max_depth\":[1,2,3,4,5,6], \"max_features\":[2,4,6,8,10,12,14,16,18,20], \n",
    "          \"min_samples_leaf\":[2,4,6,8,10,12,14,16,18,20,22,24], \"criterion\":['gini', 'entropy']} \n",
    "clf_grid_pipe = sk.model_selection.GridSearchCV(dt, param_grid = params, scoring = \"accuracy\", cv = 10)\n",
    "clf_grid_pipe.fit(data_X, data_Y)\n",
    "print('Best score:', round(clf_grid_pipe.best_score_, 4))\n",
    "print('Best parameters:\\n',\n",
    "      'max depth:', clf_grid_pipe.best_params_['max_depth'],\n",
    "      '; max features:', clf_grid_pipe.best_params_['max_features'],\n",
    "      '; min samples leaf:', clf_grid_pipe.best_params_['min_samples_leaf'], \n",
    "      '; criterion:', clf_grid_pipe.best_params_['criterion'])\n",
    "\n",
    "pred_Y = sk.model_selection.cross_val_predict(clf_grid_pipe, data_X, data_Y, cv = 10)\n",
    "print('Accuracy: '+ str(round(accuracy_score(data_Y, pred_Y), 2)*100) + '%')\n"
   ]
  },
  {
   "cell_type": "code",
   "execution_count": 10,
   "metadata": {},
   "outputs": [
    {
     "name": "stdout",
     "output_type": "stream",
     "text": [
      "Training Set Records: 177\n",
      "Testing Set Records: 20\n",
      "[Text(167.4, 181.2, 'X[11] <= 210.75\\nentropy = 0.934\\nsamples = 197\\nvalue = [128, 69]'), Text(83.7, 108.72, 'X[4] <= 4550.0\\nentropy = 0.695\\nsamples = 91\\nvalue = [74, 17]'), Text(41.85, 36.23999999999998, 'entropy = 0.981\\nsamples = 31\\nvalue = [18, 13]'), Text(125.55000000000001, 36.23999999999998, 'entropy = 0.353\\nsamples = 60\\nvalue = [56, 4]'), Text(251.10000000000002, 108.72, 'X[15] <= 0.5\\nentropy = 1.0\\nsamples = 106\\nvalue = [54, 52]'), Text(209.25, 36.23999999999998, 'entropy = 0.984\\nsamples = 82\\nvalue = [35, 47]'), Text(292.95, 36.23999999999998, 'entropy = 0.738\\nsamples = 24\\nvalue = [19, 5]')]\n"
     ]
    },
    {
     "data": {
      "image/png": "[encoded data removed]",
      "text/plain": [
       "<Figure size 432x288 with 1 Axes>"
      ]
     },
     "metadata": {
      "needs_background": "light"
     },
     "output_type": "display_data"
    }
   ],
   "source": [
    "# option 1: split into test and train\n",
    "x_train, x_test, y_train, y_test = train_test_split(data_X, data_Y, test_size = .1)\n",
    "print(\"Training Set Records:\", len(x_train))\n",
    "print(\"Testing Set Records:\", len(x_test))\n",
    "\n",
    "\n",
    "# option 2 = run it on all data\n",
    "clf = DecisionTreeClassifier(criterion = \"entropy\", \n",
    "                            max_depth = 2, \n",
    "                            max_features = 14, \n",
    "                            min_samples_leaf = 20)\n",
    "print(tree.plot_tree(clf.fit(data_X, data_Y)))"
   ]
  },
  {
   "cell_type": "code",
   "execution_count": 14,
   "metadata": {},
   "outputs": [
    {
     "name": "stdout",
     "output_type": "stream",
     "text": [
      "              precision    recall  f1-score   support\n",
      "\n",
      "           0       0.67      0.77      0.72       128\n",
      "           1       0.41      0.30      0.35        69\n",
      "\n",
      "    accuracy                           0.60       197\n",
      "   macro avg       0.54      0.53      0.53       197\n",
      "weighted avg       0.58      0.60      0.59       197\n",
      "\n"
     ]
    }
   ],
   "source": [
    "# generate reports to get f1 score, and the rest of that stuff\n",
    "from sklearn.metrics import classification_report\n",
    "\n",
    "print(classification_report(data_Y, pred_Y, labels = [0,1]))"
   ]
  },
  {
   "cell_type": "code",
   "execution_count": null,
   "metadata": {},
   "outputs": [],
   "source": []
  }
 ],
 "metadata": {
  "kernelspec": {
   "display_name": "Python 3",
   "language": "python",
   "name": "python3"
  },
  "language_info": {
   "codemirror_mode": {
    "name": "ipython",
    "version": 3
   },
   "file_extension": ".py",
   "mimetype": "text/x-python",
   "name": "python",
   "nbconvert_exporter": "python",
   "pygments_lexer": "ipython3",
   "version": "3.7.4"
  }
 },
 "nbformat": 4,
 "nbformat_minor": 2
}
