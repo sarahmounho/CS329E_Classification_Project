{
 "cells": [
  {
   "cell_type": "markdown",
   "metadata": {},
   "source": [
    "# Decision Tree"
   ]
  },
  {
   "cell_type": "markdown",
   "metadata": {},
   "source": [
    "Last edited: 4/15/2020 2pm Notes: add upsampled data from feature engineering (has library not in anaconda - create new evironment in anaconda navigator, add libraries there, from terminal activate environment, then pip install new upsampling library. have to activate environment every time you open a python notebook; use code in sarah's feature engineering)\n",
    "conda activate 'name of environment\"\n",
    "turn report into pretty graph\n",
    "include summary of what algorithm we're using, what it does, what its strengths and weaknesses are, how we think our data will behave, and what hyperparameters we're trying to optimize \n"
   ]
  },
  {
   "cell_type": "code",
   "execution_count": 2,
   "metadata": {},
   "outputs": [],
   "source": [
    "import pandas as pd\n",
    "from pandas import Series, DataFrame\n",
    "import numpy as np\n",
    "import matplotlib.pyplot as plt\n",
    "import math\n",
    "\n",
    "import sklearn as sk\n",
    "from sklearn import tree\n",
    "from sklearn.tree import DecisionTreeClassifier\n",
    "from sklearn.preprocessing import StandardScaler\n",
    "from sklearn.model_selection import train_test_split\n",
    "from sklearn.decomposition import PCA\n",
    "\n",
    "import warnings\n",
    "warnings.simplefilter(\"ignore\")\n",
    "import time\n",
    "\n",
    "%matplotlib inline"
   ]
  },
  {
   "cell_type": "code",
   "execution_count": 20,
   "metadata": {},
   "outputs": [
    {
     "name": "stdout",
     "output_type": "stream",
     "text": [
      "0    1.0\n",
      "1    1.0\n",
      "2    1.0\n",
      "3    1.0\n",
      "4    1.0\n",
      "Name: death, dtype: float64\n"
     ]
    },
    {
     "data": {
      "text/html": [
       "<div>\n",
       "<style scoped>\n",
       "    .dataframe tbody tr th:only-of-type {\n",
       "        vertical-align: middle;\n",
       "    }\n",
       "\n",
       "    .dataframe tbody tr th {\n",
       "        vertical-align: top;\n",
       "    }\n",
       "\n",
       "    .dataframe thead th {\n",
       "        text-align: right;\n",
       "    }\n",
       "</style>\n",
       "<table border=\"1\" class=\"dataframe\">\n",
       "  <thead>\n",
       "    <tr style=\"text-align: right;\">\n",
       "      <th></th>\n",
       "      <th>APACHE II</th>\n",
       "      <th>Alb</th>\n",
       "      <th>CRP</th>\n",
       "      <th>CT score</th>\n",
       "      <th>DARDS = 1</th>\n",
       "      <th>LDH</th>\n",
       "      <th>McCabe</th>\n",
       "      <th>PEEP</th>\n",
       "      <th>PIP</th>\n",
       "      <th>PLT</th>\n",
       "      <th>PaO2/FiO2</th>\n",
       "      <th>SOFA</th>\n",
       "      <th>TV</th>\n",
       "      <th>VFD</th>\n",
       "      <th>WBC</th>\n",
       "      <th>age</th>\n",
       "      <th>days.1</th>\n",
       "      <th>sex</th>\n",
       "      <th>ventilator weaning = 1</th>\n",
       "    </tr>\n",
       "  </thead>\n",
       "  <tbody>\n",
       "    <tr>\n",
       "      <td>0</td>\n",
       "      <td>24.0</td>\n",
       "      <td>2.3</td>\n",
       "      <td>17.8</td>\n",
       "      <td>191.6</td>\n",
       "      <td>0.0</td>\n",
       "      <td>339.0</td>\n",
       "      <td>1.0</td>\n",
       "      <td>24.0</td>\n",
       "      <td>25.948052</td>\n",
       "      <td>10.8</td>\n",
       "      <td>108.0</td>\n",
       "      <td>8.0</td>\n",
       "      <td>428.05036</td>\n",
       "      <td>NaN</td>\n",
       "      <td>4000.0</td>\n",
       "      <td>79.0</td>\n",
       "      <td>NaN</td>\n",
       "      <td>0.0</td>\n",
       "      <td>NaN</td>\n",
       "    </tr>\n",
       "    <tr>\n",
       "      <td>1</td>\n",
       "      <td>16.0</td>\n",
       "      <td>4.4</td>\n",
       "      <td>8.9</td>\n",
       "      <td>213.3</td>\n",
       "      <td>0.0</td>\n",
       "      <td>385.0</td>\n",
       "      <td>1.0</td>\n",
       "      <td>5.0</td>\n",
       "      <td>10.000000</td>\n",
       "      <td>13.5</td>\n",
       "      <td>78.0</td>\n",
       "      <td>6.0</td>\n",
       "      <td>360.00000</td>\n",
       "      <td>NaN</td>\n",
       "      <td>10200.0</td>\n",
       "      <td>83.0</td>\n",
       "      <td>NaN</td>\n",
       "      <td>0.0</td>\n",
       "      <td>NaN</td>\n",
       "    </tr>\n",
       "    <tr>\n",
       "      <td>2</td>\n",
       "      <td>22.0</td>\n",
       "      <td>2.7</td>\n",
       "      <td>25.3</td>\n",
       "      <td>221.7</td>\n",
       "      <td>0.0</td>\n",
       "      <td>461.0</td>\n",
       "      <td>1.0</td>\n",
       "      <td>18.0</td>\n",
       "      <td>24.000000</td>\n",
       "      <td>10.8</td>\n",
       "      <td>70.9</td>\n",
       "      <td>7.0</td>\n",
       "      <td>525.00000</td>\n",
       "      <td>NaN</td>\n",
       "      <td>5300.0</td>\n",
       "      <td>70.0</td>\n",
       "      <td>NaN</td>\n",
       "      <td>0.0</td>\n",
       "      <td>NaN</td>\n",
       "    </tr>\n",
       "    <tr>\n",
       "      <td>3</td>\n",
       "      <td>26.0</td>\n",
       "      <td>3.3</td>\n",
       "      <td>22.2</td>\n",
       "      <td>211.6</td>\n",
       "      <td>0.0</td>\n",
       "      <td>227.0</td>\n",
       "      <td>1.0</td>\n",
       "      <td>10.0</td>\n",
       "      <td>24.000000</td>\n",
       "      <td>8.8</td>\n",
       "      <td>59.2</td>\n",
       "      <td>7.0</td>\n",
       "      <td>480.00000</td>\n",
       "      <td>NaN</td>\n",
       "      <td>1800.0</td>\n",
       "      <td>61.0</td>\n",
       "      <td>NaN</td>\n",
       "      <td>0.0</td>\n",
       "      <td>NaN</td>\n",
       "    </tr>\n",
       "    <tr>\n",
       "      <td>4</td>\n",
       "      <td>19.0</td>\n",
       "      <td>3.1</td>\n",
       "      <td>17.0</td>\n",
       "      <td>234.9</td>\n",
       "      <td>0.0</td>\n",
       "      <td>680.0</td>\n",
       "      <td>1.0</td>\n",
       "      <td>5.0</td>\n",
       "      <td>10.000000</td>\n",
       "      <td>26.2</td>\n",
       "      <td>83.6</td>\n",
       "      <td>4.0</td>\n",
       "      <td>625.00000</td>\n",
       "      <td>NaN</td>\n",
       "      <td>10600.0</td>\n",
       "      <td>81.0</td>\n",
       "      <td>NaN</td>\n",
       "      <td>0.0</td>\n",
       "      <td>NaN</td>\n",
       "    </tr>\n",
       "  </tbody>\n",
       "</table>\n",
       "</div>"
      ],
      "text/plain": [
       "   APACHE II  Alb   CRP  CT score  DARDS = 1    LDH  McCabe  PEEP        PIP  \\\n",
       "0       24.0  2.3  17.8     191.6        0.0  339.0     1.0  24.0  25.948052   \n",
       "1       16.0  4.4   8.9     213.3        0.0  385.0     1.0   5.0  10.000000   \n",
       "2       22.0  2.7  25.3     221.7        0.0  461.0     1.0  18.0  24.000000   \n",
       "3       26.0  3.3  22.2     211.6        0.0  227.0     1.0  10.0  24.000000   \n",
       "4       19.0  3.1  17.0     234.9        0.0  680.0     1.0   5.0  10.000000   \n",
       "\n",
       "    PLT  PaO2/FiO2  SOFA         TV  VFD       WBC   age  days.1  sex  \\\n",
       "0  10.8      108.0   8.0  428.05036   NaN   4000.0  79.0     NaN  0.0   \n",
       "1  13.5       78.0   6.0  360.00000   NaN  10200.0  83.0     NaN  0.0   \n",
       "2  10.8       70.9   7.0  525.00000   NaN   5300.0  70.0     NaN  0.0   \n",
       "3   8.8       59.2   7.0  480.00000   NaN   1800.0  61.0     NaN  0.0   \n",
       "4  26.2       83.6   4.0  625.00000   NaN  10600.0  81.0     NaN  0.0   \n",
       "\n",
       "   ventilator weaning = 1  \n",
       "0                     NaN  \n",
       "1                     NaN  \n",
       "2                     NaN  \n",
       "3                     NaN  \n",
       "4                     NaN  "
      ]
     },
     "execution_count": 20,
     "metadata": {},
     "output_type": "execute_result"
    }
   ],
   "source": [
    "#Load cleaned data set \n",
    "from utils import intake_data\n",
    "data = intake_data()\n",
    "#adjust variables\n",
    "data.rename(columns = {'death = 1 ': 'death'}, inplace=True)\n",
    "#create X and Y dataframes\n",
    "data_X = data.iloc[:, :16]\n",
    "data_Y = data.iloc[:, 17] #df with class labels\n",
    "print(data_Y.head())\n",
    "data_X.head()"
   ]
  },
  {
   "cell_type": "code",
   "execution_count": null,
   "metadata": {},
   "outputs": [],
   "source": [
    "# add how I chose parameters\n",
    "# add odd numbers to the parameters"
   ]
  },
  {
   "cell_type": "code",
   "execution_count": 13,
   "metadata": {
    "scrolled": true
   },
   "outputs": [],
   "source": [
    "# run a nested cross-validation \n",
    "dt = DecisionTreeClassifier()\n",
    "params = {\"max_depth\":[1,2,3,4,5,6], \"max_features\":[2,4,6,8,10,12,14], \n",
    "          \"min_samples_leaf\":[2,4,6,8,10,12,14,16,18,20], \"criterion\":['gini', 'entropy']} \n",
    "clf = sk.model_selection.GridSearchCV(dt, param_grid = params, scoring = \"accuracy\", cv = 10)\n",
    "#clf.fit(data_X, data_Y)\n",
    "#print(clf.best_params_)\n",
    "accuracies = sk.model_selection.cross_val_predict(clf, data_X, data_Y, cv = 10)"
   ]
  },
  {
   "cell_type": "code",
   "execution_count": 21,
   "metadata": {},
   "outputs": [
    {
     "name": "stdout",
     "output_type": "stream",
     "text": [
      "0.30456852791878175\n"
     ]
    }
   ],
   "source": [
    "# print results \n",
    "\n",
    "print(accuracies.mean())\n",
    "# criterion = \"gini\" : 0.628\n",
    "# criterion = \"entropy\" : 0.612\n",
    "\n",
    "# how to get best params out of classifier??\n",
    "# print(clf.best_params_)"
   ]
  },
  {
   "cell_type": "code",
   "execution_count": 11,
   "metadata": {},
   "outputs": [
    {
     "name": "stdout",
     "output_type": "stream",
     "text": [
      "Training Set Records: 177\n",
      "Testing Set Records: 20\n",
      "[Text(167.4, 181.2, 'X[11] <= 210.75\\ngini = 0.455\\nsamples = 197\\nvalue = [128, 69]'), Text(83.7, 108.72, 'X[7] <= 11.5\\ngini = 0.304\\nsamples = 91\\nvalue = [74, 17]'), Text(41.85, 36.23999999999998, 'gini = 0.161\\nsamples = 68\\nvalue = [62, 6]'), Text(125.55000000000001, 36.23999999999998, 'gini = 0.499\\nsamples = 23\\nvalue = [12, 11]'), Text(251.10000000000002, 108.72, 'X[0] <= 84.5\\ngini = 0.5\\nsamples = 106\\nvalue = [54, 52]'), Text(209.25, 36.23999999999998, 'gini = 0.49\\nsamples = 91\\nvalue = [52, 39]'), Text(292.95, 36.23999999999998, 'gini = 0.231\\nsamples = 15\\nvalue = [2, 13]')]\n"
     ]
    },
    {
     "data": {
      "image/png": "[encoded data removed]",
      "text/plain": [
       "<Figure size 432x288 with 1 Axes>"
      ]
     },
     "metadata": {
      "needs_background": "light"
     },
     "output_type": "display_data"
    }
   ],
   "source": [
    "# Run model: do you use a testing set or just use it all because you know the accuracy??\n",
    "\n",
    "# option 1: split into test and train\n",
    "x_train, x_test, y_train, y_test = train_test_split(data_X, data_Y, test_size = .1)\n",
    "print(\"Training Set Records:\", len(x_train))\n",
    "print(\"Testing Set Records:\", len(x_test))\n",
    "\n",
    "\n",
    "# option 2 = run it on all data\n",
    "clf = DecisionTreeClassifier(criterion = \"gini\", \n",
    "                            max_depth = 2, \n",
    "                            max_features = 14, \n",
    "                            min_samples_leaf = 2)\n",
    "print(tree.plot_tree(clf.fit(data_X, data_Y)))"
   ]
  },
  {
   "cell_type": "code",
   "execution_count": 24,
   "metadata": {},
   "outputs": [
    {
     "ename": "NameError",
     "evalue": "name 'y_pred' is not defined",
     "output_type": "error",
     "traceback": [
      "\u001b[1;31m---------------------------------------------------------------------------\u001b[0m",
      "\u001b[1;31mNameError\u001b[0m                                 Traceback (most recent call last)",
      "\u001b[1;32m<ipython-input-24-8854297f9ffc>\u001b[0m in \u001b[0;36m<module>\u001b[1;34m\u001b[0m\n\u001b[0;32m      1\u001b[0m \u001b[1;31m# generate reports to get f1 score, and the rest of that stuff\u001b[0m\u001b[1;33m\u001b[0m\u001b[1;33m\u001b[0m\u001b[1;33m\u001b[0m\u001b[0m\n\u001b[0;32m      2\u001b[0m \u001b[1;32mfrom\u001b[0m \u001b[0msklearn\u001b[0m\u001b[1;33m.\u001b[0m\u001b[0mmetrics\u001b[0m \u001b[1;32mimport\u001b[0m \u001b[0mclassification_report\u001b[0m\u001b[1;33m\u001b[0m\u001b[1;33m\u001b[0m\u001b[0m\n\u001b[1;32m----> 3\u001b[1;33m \u001b[0mprint\u001b[0m\u001b[1;33m(\u001b[0m\u001b[0mclassification_report\u001b[0m\u001b[1;33m(\u001b[0m\u001b[0mdata_Y\u001b[0m\u001b[1;33m,\u001b[0m \u001b[0my_pred\u001b[0m\u001b[1;33m,\u001b[0m \u001b[0mlabels\u001b[0m \u001b[1;33m=\u001b[0m \u001b[1;33m[\u001b[0m\u001b[1;36m0\u001b[0m\u001b[1;33m,\u001b[0m\u001b[1;36m1\u001b[0m\u001b[1;33m]\u001b[0m\u001b[1;33m)\u001b[0m\u001b[1;33m)\u001b[0m\u001b[1;33m\u001b[0m\u001b[1;33m\u001b[0m\u001b[0m\n\u001b[0m",
      "\u001b[1;31mNameError\u001b[0m: name 'y_pred' is not defined"
     ]
    }
   ],
   "source": [
    "# generate reports to get f1 score, and the rest of that stuff\n",
    "from sklearn.metrics import classification_report\n",
    "print(classification_report(data_Y, y_pred, labels = [0,1]))"
   ]
  },
  {
   "cell_type": "code",
   "execution_count": null,
   "metadata": {},
   "outputs": [],
   "source": []
  }
 ],
 "metadata": {
  "kernelspec": {
   "display_name": "Python 3",
   "language": "python",
   "name": "python3"
  },
  "language_info": {
   "codemirror_mode": {
    "name": "ipython",
    "version": 3
   },
   "file_extension": ".py",
   "mimetype": "text/x-python",
   "name": "python",
   "nbconvert_exporter": "python",
   "pygments_lexer": "ipython3",
   "version": "3.7.4"
  }
 },
 "nbformat": 4,
 "nbformat_minor": 2
}
