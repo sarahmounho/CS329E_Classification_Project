{
 "cells": [
  {
   "cell_type": "markdown",
   "metadata": {},
   "source": [
    "# Decision Tree"
   ]
  },
  {
   "cell_type": "markdown",
   "metadata": {},
   "source": [
    "Last edited: 4/14/2020 3pm"
   ]
  },
  {
   "cell_type": "code",
   "execution_count": 51,
   "metadata": {},
   "outputs": [],
   "source": [
    "import pandas as pd\n",
    "from pandas import Series, DataFrame\n",
    "import numpy as np\n",
    "import matplotlib.pyplot as plt\n",
    "import math\n",
    "\n",
    "import sklearn as sk\n",
    "from sklearn.tree import DecisionTreeClassifier\n",
    "from sklearn import tree\n",
    "from sklearn.preprocessing import StandardScaler\n",
    "from sklearn.model_selection import train_test_split\n",
    "from sklearn.decomposition import PCA\n",
    "\n",
    "import warnings\n",
    "warnings.simplefilter(\"ignore\")\n",
    "import time\n",
    "\n",
    "%matplotlib inline"
   ]
  },
  {
   "cell_type": "code",
   "execution_count": 52,
   "metadata": {},
   "outputs": [
    {
     "name": "stdout",
     "output_type": "stream",
     "text": [
      "0    1.0\n",
      "1    1.0\n",
      "2    1.0\n",
      "3    1.0\n",
      "4    1.0\n",
      "Name: death, dtype: float64\n"
     ]
    },
    {
     "data": {
      "text/html": [
       "<div>\n",
       "<style scoped>\n",
       "    .dataframe tbody tr th:only-of-type {\n",
       "        vertical-align: middle;\n",
       "    }\n",
       "\n",
       "    .dataframe tbody tr th {\n",
       "        vertical-align: top;\n",
       "    }\n",
       "\n",
       "    .dataframe thead th {\n",
       "        text-align: right;\n",
       "    }\n",
       "</style>\n",
       "<table border=\"1\" class=\"dataframe\">\n",
       "  <thead>\n",
       "    <tr style=\"text-align: right;\">\n",
       "      <th></th>\n",
       "      <th>age</th>\n",
       "      <th>sex</th>\n",
       "      <th>Alb</th>\n",
       "      <th>PLT</th>\n",
       "      <th>WBC</th>\n",
       "      <th>CRP</th>\n",
       "      <th>APACHE II</th>\n",
       "      <th>SOFA</th>\n",
       "      <th>McCabe</th>\n",
       "      <th>PaO2/FiO2</th>\n",
       "      <th>LDH</th>\n",
       "      <th>CT score</th>\n",
       "      <th>PEEP</th>\n",
       "      <th>PIP</th>\n",
       "      <th>TV</th>\n",
       "      <th>DARDS = 1</th>\n",
       "    </tr>\n",
       "  </thead>\n",
       "  <tbody>\n",
       "    <tr>\n",
       "      <td>0</td>\n",
       "      <td>79.0</td>\n",
       "      <td>0</td>\n",
       "      <td>2.3</td>\n",
       "      <td>10.8</td>\n",
       "      <td>4000.0</td>\n",
       "      <td>17.8</td>\n",
       "      <td>24.0</td>\n",
       "      <td>8.0</td>\n",
       "      <td>1.0</td>\n",
       "      <td>108.0</td>\n",
       "      <td>339.0</td>\n",
       "      <td>191.6</td>\n",
       "      <td>24.0</td>\n",
       "      <td>25.948052</td>\n",
       "      <td>428.05036</td>\n",
       "      <td>0.0</td>\n",
       "    </tr>\n",
       "    <tr>\n",
       "      <td>1</td>\n",
       "      <td>83.0</td>\n",
       "      <td>0</td>\n",
       "      <td>4.4</td>\n",
       "      <td>13.5</td>\n",
       "      <td>10200.0</td>\n",
       "      <td>8.9</td>\n",
       "      <td>16.0</td>\n",
       "      <td>6.0</td>\n",
       "      <td>1.0</td>\n",
       "      <td>78.0</td>\n",
       "      <td>385.0</td>\n",
       "      <td>213.3</td>\n",
       "      <td>5.0</td>\n",
       "      <td>10.000000</td>\n",
       "      <td>360.00000</td>\n",
       "      <td>0.0</td>\n",
       "    </tr>\n",
       "    <tr>\n",
       "      <td>2</td>\n",
       "      <td>70.0</td>\n",
       "      <td>0</td>\n",
       "      <td>2.7</td>\n",
       "      <td>10.8</td>\n",
       "      <td>5300.0</td>\n",
       "      <td>25.3</td>\n",
       "      <td>22.0</td>\n",
       "      <td>7.0</td>\n",
       "      <td>1.0</td>\n",
       "      <td>70.9</td>\n",
       "      <td>461.0</td>\n",
       "      <td>221.7</td>\n",
       "      <td>18.0</td>\n",
       "      <td>24.000000</td>\n",
       "      <td>525.00000</td>\n",
       "      <td>0.0</td>\n",
       "    </tr>\n",
       "    <tr>\n",
       "      <td>3</td>\n",
       "      <td>61.0</td>\n",
       "      <td>0</td>\n",
       "      <td>3.3</td>\n",
       "      <td>8.8</td>\n",
       "      <td>1800.0</td>\n",
       "      <td>22.2</td>\n",
       "      <td>26.0</td>\n",
       "      <td>7.0</td>\n",
       "      <td>1.0</td>\n",
       "      <td>59.2</td>\n",
       "      <td>227.0</td>\n",
       "      <td>211.6</td>\n",
       "      <td>10.0</td>\n",
       "      <td>24.000000</td>\n",
       "      <td>480.00000</td>\n",
       "      <td>0.0</td>\n",
       "    </tr>\n",
       "    <tr>\n",
       "      <td>4</td>\n",
       "      <td>81.0</td>\n",
       "      <td>0</td>\n",
       "      <td>3.1</td>\n",
       "      <td>26.2</td>\n",
       "      <td>10600.0</td>\n",
       "      <td>17.0</td>\n",
       "      <td>19.0</td>\n",
       "      <td>4.0</td>\n",
       "      <td>1.0</td>\n",
       "      <td>83.6</td>\n",
       "      <td>680.0</td>\n",
       "      <td>234.9</td>\n",
       "      <td>5.0</td>\n",
       "      <td>10.000000</td>\n",
       "      <td>625.00000</td>\n",
       "      <td>0.0</td>\n",
       "    </tr>\n",
       "  </tbody>\n",
       "</table>\n",
       "</div>"
      ],
      "text/plain": [
       "    age  sex  Alb   PLT      WBC   CRP  APACHE II  SOFA  McCabe  PaO2/FiO2  \\\n",
       "0  79.0    0  2.3  10.8   4000.0  17.8       24.0   8.0     1.0      108.0   \n",
       "1  83.0    0  4.4  13.5  10200.0   8.9       16.0   6.0     1.0       78.0   \n",
       "2  70.0    0  2.7  10.8   5300.0  25.3       22.0   7.0     1.0       70.9   \n",
       "3  61.0    0  3.3   8.8   1800.0  22.2       26.0   7.0     1.0       59.2   \n",
       "4  81.0    0  3.1  26.2  10600.0  17.0       19.0   4.0     1.0       83.6   \n",
       "\n",
       "     LDH  CT score  PEEP        PIP         TV  DARDS = 1  \n",
       "0  339.0     191.6  24.0  25.948052  428.05036        0.0  \n",
       "1  385.0     213.3   5.0  10.000000  360.00000        0.0  \n",
       "2  461.0     221.7  18.0  24.000000  525.00000        0.0  \n",
       "3  227.0     211.6  10.0  24.000000  480.00000        0.0  \n",
       "4  680.0     234.9   5.0  10.000000  625.00000        0.0  "
      ]
     },
     "execution_count": 52,
     "metadata": {},
     "output_type": "execute_result"
    }
   ],
   "source": [
    "#Load cleaned data set (this cell taken from Feature_Engineering)\n",
    "from utils import intake_data\n",
    "data = intake_data()\n",
    "#adjust variables\n",
    "data.rename(columns = {'death = 1 ': 'death'}, inplace=True)\n",
    "#create X and Y dataframes\n",
    "data_X = data.iloc[:, :16]\n",
    "data_Y = data.iloc[:, 17] #df with class labels\n",
    "print(data_Y.head())\n",
    "data_X.head()"
   ]
  },
  {
   "cell_type": "code",
   "execution_count": 64,
   "metadata": {
    "scrolled": true
   },
   "outputs": [],
   "source": [
    "# Nested loops (hopefully)\n",
    "dt = DecisionTreeClassifier()\n",
    "params = {\"max_depth\":[2,4,6,8,10,12], \"max_features\":[2,4,6,8,10,12,14], \n",
    "          \"min_samples_leaf\":[2,4,6,8,10,12,14,16,18,20]} \n",
    "clf = sk.model_selection.GridSearchCV(dt, param_grid = params, scoring = \"accuracy\", cv = 10)\n",
    "accuracies = sk.model_selection.cross_val_score(clf, data_X, data_Y, cv = 10)"
   ]
  },
  {
   "cell_type": "code",
   "execution_count": 67,
   "metadata": {},
   "outputs": [
    {
     "name": "stdout",
     "output_type": "stream",
     "text": [
      "0.629298245614035\n"
     ]
    }
   ],
   "source": [
    "# how to get best params out of classifier??\n",
    "print(accuracies.mean())"
   ]
  },
  {
   "cell_type": "code",
   "execution_count": null,
   "metadata": {},
   "outputs": [],
   "source": [
    "# Run model\n",
    "x_train, x_test, y_train, y_test = train_test_split(data_X, data_, test_size = .2)\n",
    "print(\"Training Set Records:\", len(x_train))\n",
    "print(\"Testing Set Records:\", len(x_test))"
   ]
  },
  {
   "cell_type": "code",
   "execution_count": 35,
   "metadata": {},
   "outputs": [
    {
     "data": {
      "text/plain": [
       "0.675"
      ]
     },
     "execution_count": 35,
     "metadata": {},
     "output_type": "execute_result"
    }
   ],
   "source": []
  },
  {
   "cell_type": "code",
   "execution_count": null,
   "metadata": {},
   "outputs": [],
   "source": []
  }
 ],
 "metadata": {
  "kernelspec": {
   "display_name": "Python 3",
   "language": "python",
   "name": "python3"
  },
  "language_info": {
   "codemirror_mode": {
    "name": "ipython",
    "version": 3
   },
   "file_extension": ".py",
   "mimetype": "text/x-python",
   "name": "python",
   "nbconvert_exporter": "python",
   "pygments_lexer": "ipython3",
   "version": "3.7.4"
  }
 },
 "nbformat": 4,
 "nbformat_minor": 2
}
