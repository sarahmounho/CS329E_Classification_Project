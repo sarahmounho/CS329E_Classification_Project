{
 "cells": [
  {
   "cell_type": "code",
   "execution_count": 1,
   "metadata": {},
   "outputs": [],
   "source": [
    "from utils import intake_data"
   ]
  },
  {
   "cell_type": "markdown",
   "metadata": {},
   "source": [
    "## Importing and Scale Data\n",
    "\n",
    "Removed 3 features: days, ventilator weaning, ventilator free days"
   ]
  },
  {
   "cell_type": "code",
   "execution_count": 2,
   "metadata": {},
   "outputs": [],
   "source": [
    "data_pre = intake_data()\n",
    "data_x = data_pre.drop([\"death\",\"days.1\",\"ventilator weaning = 1\", \"VFD \",\"days\"], axis=1)\n",
    "data_y = data_pre[\"death\"]"
   ]
  },
  {
   "cell_type": "markdown",
   "metadata": {},
   "source": [
    "Scaled using MinMaxScaler() because that's what we used in assignment 2"
   ]
  },
  {
   "cell_type": "code",
   "execution_count": 5,
   "metadata": {},
   "outputs": [
    {
     "data": {
      "text/plain": [
       "MinMaxScaler(copy=True, feature_range=(0, 1))"
      ]
     },
     "execution_count": 5,
     "metadata": {},
     "output_type": "execute_result"
    }
   ],
   "source": [
    "x_mm = data_x \n",
    "y_mm = data_y \n",
    "from sklearn.preprocessing import MinMaxScaler \n",
    "scale = MinMaxScaler()\n",
    "scale.fit(x_mm)"
   ]
  },
  {
   "cell_type": "markdown",
   "metadata": {},
   "source": [
    "## Finding best parameters\n",
    "\n",
    "Finding best number of n neighbors:"
   ]
  },
  {
   "cell_type": "code",
   "execution_count": 7,
   "metadata": {},
   "outputs": [
    {
     "data": {
      "text/plain": [
       "{'n_neighbors': 2}"
      ]
     },
     "execution_count": 7,
     "metadata": {},
     "output_type": "execute_result"
    }
   ],
   "source": [
    "from sklearn.model_selection import GridSearchCV\n",
    "from sklearn.neighbors import KNeighborsClassifier\n",
    "param_list = []\n",
    "for i in range(1,31): \n",
    "    param_list.append(i)\n",
    "parameters = {'n_neighbors':param_list}\n",
    "gs = GridSearchCV(KNeighborsClassifier(), parameters, cv = 10)\n",
    "gs_results = gs.fit(x_mm,y_mm)\n",
    "gs.best_params_"
   ]
  },
  {
   "cell_type": "markdown",
   "metadata": {},
   "source": [
    "Running cross validation loop with n = 2"
   ]
  },
  {
   "cell_type": "code",
   "execution_count": 14,
   "metadata": {},
   "outputs": [
    {
     "name": "stdout",
     "output_type": "stream",
     "text": [
      "              precision    recall  f1-score   support\n",
      "\n",
      "         0.0       0.67      0.95      0.79       128\n",
      "         1.0       0.59      0.14      0.23        69\n",
      "\n",
      "    accuracy                           0.66       197\n",
      "   macro avg       0.63      0.55      0.51       197\n",
      "weighted avg       0.64      0.66      0.59       197\n",
      "\n"
     ]
    }
   ],
   "source": [
    "from sklearn.metrics import confusion_matrix \n",
    "from sklearn.metrics import classification_report\n",
    "from sklearn.model_selection import cross_val_predict\n",
    "from sklearn.model_selection import cross_val_score\n",
    "\n",
    "my_model = KNeighborsClassifier(n_neighbors = 2)\n",
    "my_model.fit(x_mm, y_mm)\n",
    "cross_val_score(my_model, x_mm, y_mm, cv = 10)\n",
    "y_predict = cross_val_predict(my_model, x_mm, y_mm, cv=10)\n",
    "print(classification_report(y_mm, y_predict))"
   ]
  },
  {
   "cell_type": "code",
   "execution_count": 17,
   "metadata": {},
   "outputs": [
    {
     "name": "stdout",
     "output_type": "stream",
     "text": [
      "              precision    recall  f1-score   support\n",
      "\n",
      "         0.0       0.65      0.96      0.78       128\n",
      "         1.0       0.44      0.06      0.10        69\n",
      "\n",
      "    accuracy                           0.64       197\n",
      "   macro avg       0.55      0.51      0.44       197\n",
      "weighted avg       0.58      0.64      0.54       197\n",
      "\n"
     ]
    }
   ],
   "source": [
    "cross_val_score(gs, x_mm, y_mm, cv=10)\n",
    "y_predict = cross_val_predict(gs, x_mm, y_mm, cv=10)\n",
    "print(classification_report(y_mm, y_predict))"
   ]
  },
  {
   "cell_type": "markdown",
   "metadata": {},
   "source": [
    "Performing PCA dimensionality reduction"
   ]
  },
  {
   "cell_type": "code",
   "execution_count": 22,
   "metadata": {},
   "outputs": [
    {
     "name": "stdout",
     "output_type": "stream",
     "text": [
      "0.7111538461538461\n",
      "{'knn__n_neighbors': 9, 'pca__n_components': 6}\n"
     ]
    }
   ],
   "source": [
    "# Define a pipeline to search for the best combination of \n",
    "# PCA dimensions and n_neighbors.\n",
    "\n",
    "from sklearn.decomposition import PCA\n",
    "from sklearn.pipeline import Pipeline\n",
    "import warnings\n",
    "warnings.filterwarnings('ignore')\n",
    "\n",
    "#crate a scaler\n",
    "scaler = MinMaxScaler()\n",
    "\n",
    "#create a PCA\n",
    "pca = PCA()\n",
    "\n",
    "#create a KNN classifier\n",
    "knn = KNeighborsClassifier()\n",
    "\n",
    "#create a pipeline that does scaling, then PCA, then KNN\n",
    "pipe = Pipeline(steps=[('scaler', scaler), ('pca', pca), ('knn', knn)])\n",
    "\n",
    "#Set up the parameters you want to tune for each of your pipeline steps\n",
    "#Parameters of pipelines can be set using ‘__’ separated parameter names:\n",
    "param_grid = {\n",
    "    'pca__n_components': list(range(1, 19)), #find how many principal componenet to keep\n",
    "    'knn__n_neighbors': list(range(1, 30)),  #find the best value of k\n",
    "}\n",
    "\n",
    "# pass the pipeline and the parameters into a GridSearchCV with a 5-fold cross validation\n",
    "gs = GridSearchCV(pipe, param_grid, cv=5)\n",
    "# call fit() on the GridSearchCV and pass in the unscaled data (X_values, Y_values)\n",
    "x = data_x\n",
    "y = data_y\n",
    "gs.fit(x,y)\n",
    "# print out the best_score_ and best_params_ from the GridSearchCV\n",
    "print(gs.best_score_)\n",
    "print(gs.best_params_)"
   ]
  },
  {
   "cell_type": "markdown",
   "metadata": {},
   "source": [
    "## Finding final accuracy score"
   ]
  },
  {
   "cell_type": "code",
   "execution_count": 23,
   "metadata": {},
   "outputs": [
    {
     "data": {
      "text/plain": [
       "0.6598984771573604"
      ]
     },
     "execution_count": 23,
     "metadata": {},
     "output_type": "execute_result"
    }
   ],
   "source": [
    "from sklearn.metrics import accuracy_score\n",
    "cross_val_score(gs, x, y, cv=5)\n",
    "y_predict = cross_val_predict(gs, x, y, cv=5)\n",
    "accuracy_score(y, y_predict)"
   ]
  },
  {
   "cell_type": "code",
   "execution_count": null,
   "metadata": {},
   "outputs": [],
   "source": []
  }
 ],
 "metadata": {
  "kernelspec": {
   "display_name": "Python 3",
   "language": "python",
   "name": "python3"
  },
  "language_info": {
   "codemirror_mode": {
    "name": "ipython",
    "version": 3
   },
   "file_extension": ".py",
   "mimetype": "text/x-python",
   "name": "python",
   "nbconvert_exporter": "python",
   "pygments_lexer": "ipython3",
   "version": "3.8.2"
  }
 },
 "nbformat": 4,
 "nbformat_minor": 4
}
