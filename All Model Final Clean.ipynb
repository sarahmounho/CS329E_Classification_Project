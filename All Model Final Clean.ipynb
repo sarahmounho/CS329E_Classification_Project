{
 "cells": [
  {
   "cell_type": "markdown",
   "metadata": {},
   "source": [
    "# Libraries"
   ]
  },
  {
   "cell_type": "code",
   "execution_count": 3,
   "metadata": {},
   "outputs": [
    {
     "name": "stderr",
     "output_type": "stream",
     "text": [
      "\n",
      "Bad key \"text.kerning_factor\" on line 4 in\n",
      "C:\\Users\\sarah\\Anaconda3\\envs\\CS329E_Project\\lib\\site-packages\\matplotlib\\mpl-data\\stylelib\\_classic_test_patch.mplstyle.\n",
      "You probably need to get an updated matplotlibrc file from\n",
      "https://github.com/matplotlib/matplotlib/blob/v3.1.2/matplotlibrc.template\n",
      "or from the matplotlib source distribution\n"
     ]
    }
   ],
   "source": [
    "import pandas as pd\n",
    "from pandas import Series, DataFrame\n",
    "import numpy as np\n",
    "import matplotlib.pyplot as plt\n",
    "import math\n",
    "\n",
    "import sklearn as sk\n",
    "from sklearn import tree\n",
    "from sklearn.tree import DecisionTreeClassifier\n",
    "from sklearn.preprocessing import StandardScaler\n",
    "from sklearn.model_selection import train_test_split, cross_val_score, cross_val_predict, GridSearchCV\n",
    "from sklearn.decomposition import PCA\n",
    "from sklearn.pipeline import Pipeline\n",
    "from sklearn.metrics import accuracy_score, classification_report, confusion_matrix\n",
    "from sklearn.ensemble import RandomForestClassifier as RFC, AdaBoostClassifier as ABC\n",
    "from sklearn.neighbors import KNeighborsClassifier\n",
    "from sklearn.neural_network import MLPClassifier\n",
    "from sklearn.svm import SVC\n",
    "from sklearn.naive_bayes import GaussianNB\n",
    "\n",
    "import seaborn as sn\n",
    "\n",
    "import warnings\n",
    "warnings.simplefilter(\"ignore\")\n",
    "import time\n",
    "\n",
    "from utils import intake_data\n",
    "\n",
    "CONFUSION_MATRICES = {}\n",
    "\n",
    "%matplotlib inline"
   ]
  },
  {
   "cell_type": "markdown",
   "metadata": {},
   "source": [
    "# Graphing Methods"
   ]
  },
  {
   "cell_type": "code",
   "execution_count": 4,
   "metadata": {},
   "outputs": [],
   "source": [
    "#Confusion Matrix Function\n",
    "#Create a confusion matrix\n",
    "#Inputs:\n",
    "#Y_Actual = Actual (true) labels\n",
    "#Y_Predicted = Predicted labels from a classifier\n",
    "#classifier = Name of classifier as a string for plt title\n",
    "def create_cm (Y_Actual, Y_Predicted, classifier=None):\n",
    "    try: \n",
    "        import seaborn as sn\n",
    "    except:\n",
    "        print('create_cm(Y_Actual, Y_Predicted, classifier) has a dependency on the library seaborn.')\n",
    "        print('This library was not found, please install and try again.')\n",
    "        return()\n",
    "    if type(classifier) != str:\n",
    "        print('Please input the name of the classifier for plt title as a str')\n",
    "        return()\n",
    "\n",
    "            \n",
    "    data = {'Actual': Y_Actual, 'Predicted':Y_Predicted}\n",
    "    df = pd.DataFrame(data, columns=['Actual', 'Predicted'])\n",
    "    df['Predicted'].replace(0, 'Alive', inplace=True)\n",
    "    df['Predicted'].replace(1, 'Dead', inplace=True)\n",
    "    df['Actual'].replace(0, 'Alive', inplace=True)\n",
    "    df['Actual'].replace(1, 'Dead', inplace=True)\n",
    "    cm = pd.crosstab(df['Actual'], df['Predicted'],\n",
    "                     rownames=['Actual'], colnames=['Predicted'])                                    \n",
    "    #Print a formatted confusion matrix using a heatmap\n",
    "    sn.heatmap(cm, annot=True)\n",
    "    plt_title = 'Confusion Matrix for ' + classifier\n",
    "    plt.title(plt_title)\n",
    "    plt.show()"
   ]
  },
  {
   "cell_type": "code",
   "execution_count": 5,
   "metadata": {},
   "outputs": [],
   "source": [
    "# report = the return value from sklearn.classification_report()\n",
    "def report_plot(report, bar_width = .3):\n",
    "    lines = report.split('\\n')\n",
    "\n",
    "    classes = []\n",
    "    data = []\n",
    "    support = []\n",
    "    class_names = []\n",
    "    for line in lines[2 : (len(lines) - 4)]:\n",
    "        t = line.strip().split()\n",
    "        if len(t) < 2: continue\n",
    "        classes.append(t[0])\n",
    "        v = [float(x) for x in t[1: len(t) - 1]]\n",
    "        support.append(int(t[-1]))\n",
    "        class_names.append(t[0])\n",
    "        data.append(v)\n",
    "    prec = [data[0][0]] + [data[1][0]]\n",
    "    recall = [data[0][1]] + [data[1][1]]\n",
    "    fscore = [data[0][2]] + [data[1][2]]\n",
    "    \n",
    "    pos1 = [a * (bar_width*4) for a in range(2)]\n",
    "    pos2 = [a + bar_width for a in pos1]\n",
    "    pos3 = [a + bar_width for a in pos2]\n",
    "    plt.bar(pos1, prec, width = bar_width, label=\"accuracy\")\n",
    "    plt.bar(pos2, recall, width = bar_width, label=\"recall\")\n",
    "    plt.bar(pos3, fscore, width = bar_width, label=\"f-score\")\n",
    "    plt.xlabel(\"class\")\n",
    "    plt.xticks([a + bar_width + (a * .5 * bar_width) for a in range(2)],[\"survival\",\"death\"])\n",
    "    plt.legend()"
   ]
  },
  {
   "cell_type": "code",
   "execution_count": 6,
   "metadata": {},
   "outputs": [],
   "source": [
    "def generate_final_report(classifier_runner, graph_title=\"\"):\n",
    "    data_x, data_y = intake_data()\n",
    "    pred_y = classifier_runner(data_x, data_y)\n",
    "    \n",
    "    create_cm(data_y, pred_y, graph_title)\n",
    "    report_plot(classification_report(data_y, pred_y))"
   ]
  },
  {
   "cell_type": "markdown",
   "metadata": {},
   "source": [
    "# Naive Bayes"
   ]
  },
  {
   "cell_type": "code",
   "execution_count": 6,
   "metadata": {},
   "outputs": [
    {
     "data": {
      "text/plain": [
       "''"
      ]
     },
     "execution_count": 6,
     "metadata": {},
     "output_type": "execute_result"
    }
   ],
   "source": [
    "def naive_bayes_runner(data_x, data_y):\n",
    "    clf = GaussianNB()\n",
    "    clf.fit(data_x, data_y)\n",
    "    y_predict = cross_val_predict(clf, data_x, data_y, cv = 10)\n",
    "    avg_acc = accuracy_score(data_y, y_predict)\n",
    "    return y_predict\n",
    ";"
   ]
  },
  {
   "cell_type": "code",
   "execution_count": 7,
   "metadata": {},
   "outputs": [
    {
     "data": {
      "image/png": "[encoded data removed]",
      "text/plain": [
       "<Figure size 432x288 with 2 Axes>"
      ]
     },
     "metadata": {
      "needs_background": "light"
     },
     "output_type": "display_data"
    },
    {
     "data": {
      "image/png": "[encoded data removed]",
      "text/plain": [
       "<Figure size 432x288 with 1 Axes>"
      ]
     },
     "metadata": {
      "needs_background": "light"
     },
     "output_type": "display_data"
    }
   ],
   "source": [
    "generate_final_report(naive_bayes_runner,\"Naive Bayes\")"
   ]
  },
  {
   "cell_type": "markdown",
   "metadata": {},
   "source": [
    "# Decision Tree"
   ]
  },
  {
   "cell_type": "markdown",
   "metadata": {},
   "source": [
    "The Decision Tree algorithm is a supervised machine learning algorithm that takes place in two steps: First, starting with the single root node, if all, or an acceptable number, of records in the node belong to a single class or all have the same attributes, the node becomes a leaf node; if the node does not become a leaf node, an attribute and test condition are chosen to split the node into child nodes. These two steps are recursively applied to create the final decision tree. It was determined that the decision tree classifier could be a suitable option for our data because it is computationally inexpensive, easy to interpret, and is resilient to noise, which our data has some of because it is such a small dataset. When running it, we looked for possible data fragmentation, or leaves with too few values, as that might be more likely to happen with such a small number of records. Further, we chose the minimum number of values in a leaf as one of the hyperparameters to watch this. \n",
    "\n",
    "***Hyperparameters:***  \n",
    "If, after running the cross-validation with the chosen range of hyperparameter values, the maximum or minimum in the range was chosen, the range was extended, the cross-validation re-run, and the proecess repeated until the chosen values consistently fell on the inside of the range.  \n",
    "  \n",
    "*max_depth*-  The maximum depth of the tree.  \n",
    "  \n",
    "*max_features*-  The number of features to consider when looking for best split. \n",
    "  \n",
    "*min_samples_leaf*- The minimum samples required to be a leaf node. \n",
    "  \n",
    "*criterion*- The function to measure the quality of a split.   \n",
    "  \n",
    " "
   ]
  },
  {
   "cell_type": "code",
   "execution_count": 10,
   "metadata": {},
   "outputs": [
    {
     "data": {
      "text/plain": [
       "''"
      ]
     },
     "execution_count": 10,
     "metadata": {},
     "output_type": "execute_result"
    }
   ],
   "source": [
    "def decision_tree_runner(dtree_data_X, dtree_data_Y):    \n",
    "    # run a nested cross-validation \n",
    "    dt = DecisionTreeClassifier()\n",
    "    params = {\n",
    "        \"max_depth\":[1,2,3,4,5,6], \n",
    "        \"max_features\":[2,4,6,8,10,12,14,16], \n",
    "        \"min_samples_leaf\":[2,4,6,8,10,12,14,16,18,20,22,24], \n",
    "        \"criterion\":['gini', 'entropy']\n",
    "    } \n",
    "    clf_grid_pipe = sk.model_selection.GridSearchCV(dt, param_grid = params, scoring = \"accuracy\", cv = 10)\n",
    "    clf_grid_pipe.fit(dtree_data_X, dtree_data_Y)\n",
    "    print('Best parameters:\\n',\n",
    "          'max_depth:', clf_grid_pipe.best_params_['max_depth'],'\\n',\n",
    "          'max_features:', clf_grid_pipe.best_params_['max_features'],'\\n',\n",
    "          'min_samples_leaf:', clf_grid_pipe.best_params_['min_samples_leaf'],'\\n', \n",
    "          'criterion:', clf_grid_pipe.best_params_['criterion'])\n",
    "\n",
    "    pred_Y = sk.model_selection.cross_val_predict(clf_grid_pipe, dtree_data_X, dtree_data_Y, cv = 10)\n",
    "    return pred_Y\n",
    ";"
   ]
  },
  {
   "cell_type": "code",
   "execution_count": 11,
   "metadata": {},
   "outputs": [
    {
     "name": "stdout",
     "output_type": "stream",
     "text": [
      "Best parameters:\n",
      " max depth: 2 \n",
      " max features: 14 \n",
      " min samples leaf: 6 \n",
      " criterion: entropy\n"
     ]
    },
    {
     "data": {
      "image/png": "[encoded data removed]",
      "text/plain": [
       "<Figure size 432x288 with 2 Axes>"
      ]
     },
     "metadata": {
      "needs_background": "light"
     },
     "output_type": "display_data"
    },
    {
     "data": {
      "image/png": "[encoded data removed]",
      "text/plain": [
       "<Figure size 432x288 with 1 Axes>"
      ]
     },
     "metadata": {
      "needs_background": "light"
     },
     "output_type": "display_data"
    }
   ],
   "source": [
    "generate_final_report(decision_tree_runner,\"Decision Tree Classifier\")"
   ]
  },
  {
   "cell_type": "markdown",
   "metadata": {},
   "source": [
    "## K Nearest Neighbor"
   ]
  },
  {
   "cell_type": "markdown",
   "metadata": {},
   "source": [
    "###### K Nearest Neighbors\n",
    "K nearest neighbors is a supervised learning algorithm that stores all available cases and classifies new cases based on a similarity measure (e.g. distance functions) \n",
    "\n",
    "###### Hyperparameters\n",
    "\n",
    "The following is straight from scikit-learn documentation:\n",
    "\n",
    "***n_neighbors*** int, optional (default = 5)\n",
    "Number of neighbors to use by default for kneighbors queries.\n",
    "\n",
    "***weightsstr*** optional (default = ‘uniform’)\n",
    "weight function used in prediction.\n",
    "For uniform weights, all points in each neighborhood are weighted equally.\n",
    "\n",
    "***metricstring***  default ‘minkowski’\n",
    "The distance metric to use for the tree. The default metric is minkowski, and with p=2 is equivalent to the standard Euclidean metric."
   ]
  },
  {
   "cell_type": "code",
   "execution_count": 62,
   "metadata": {},
   "outputs": [
    {
     "data": {
      "text/plain": [
       "'  '"
      ]
     },
     "execution_count": 62,
     "metadata": {},
     "output_type": "execute_result"
    }
   ],
   "source": [
    "def knn_runner(data_x, data_y):\n",
    "    knn = KNeighborsClassifier()\n",
    "    feat_cols = None\n",
    "    try:\n",
    "        from mlxtend.feature_selection import SequentialFeatureSelector as sfs\n",
    "        sfs = sfs(knn, k_features=14, forward=True, floating=False,\n",
    "              verbose=2, scoring='accuracy', cv=5)\n",
    "        sfs.fit(data_x, data_y)\n",
    "        feat_cols = list(sfs.k_feature_idx_)\n",
    "    except Exception as e:\n",
    "        print(f\"mlxtend required for sequential feature selection, {str(e)}\")\n",
    "    if feat_cols:\n",
    "        #Removed features\n",
    "        all_feat = list(range(0, 16))\n",
    "        set_removed = list(set(all_feat) - set(feat_cols))\n",
    "        print('Features removed:')\n",
    "        removed = list(data_x.iloc[:, set_removed].columns)\n",
    "        if len(removed)> 0:\n",
    "            for i in range(len(removed)-1):\n",
    "                print (str(removed[i])+',',end=' ')\n",
    "            print(str(removed[-1]))\n",
    "            print()\n",
    "        else:\n",
    "            print('None')\n",
    "\n",
    "        print('Features selected:')\n",
    "        kept = list(data_x.iloc[:, feat_cols].columns)\n",
    "        if len(kept)> 0:\n",
    "            for i in range(len(kept)-1):\n",
    "                print (str(kept[i])+',',end=' ')\n",
    "            print(str(kept[-1]))\n",
    "            print()\n",
    "        else:\n",
    "            print('None')\n",
    "        data_x = data_x.iloc[:, feat_cols]\n",
    "\n",
    "    \n",
    "    scaler = StandardScaler()\n",
    "\n",
    "    #create a new KNN classifier\n",
    "    knn = KNeighborsClassifier()\n",
    "\n",
    "    #create a pipeline that does scaling, then KNN\n",
    "    pipe = Pipeline(steps=[('scaler', scaler),('knn', knn)])\n",
    "\n",
    "    #Set up the parameters you want to tune for each of your pipeline steps\n",
    "    #Parameters of pipelines can be set using ‘__’ separated parameter names:\n",
    "    param_grid = {\n",
    "        'knn__n_neighbors': list(range(1, 30)),  #find the best value of k\n",
    "    }\n",
    "\n",
    "    # pass the pipeline and the parameters into a GridSearchCV with a 5-fold cross validation\n",
    "    gs = GridSearchCV(pipe, param_grid, cv=5)\n",
    "    # call fit() on the GridSearchCV and pass in the unscaled data (X_values, Y_values)\n",
    "    gs.fit(data_x, data_y)\n",
    "    # print out the best_score_ and best_params_ from the GridSearchCV\n",
    "    print(\"Best parameters:\\n\", \n",
    "          'n_neighbors:', gs.best_params_['knn__n_neighbors'])\n",
    "\n",
    "    #Printing final accuracy\n",
    "    cross_val_score(gs, data_x, data_y, cv=5)\n",
    "    y_predict = cross_val_predict(gs, data_x, data_y, cv=5)\n",
    "    avg_acc = accuracy_score(data_y, y_predict)\n",
    "    return y_predict\n",
    ";   \n",
    "    \n",
    "    "
   ]
  },
  {
   "cell_type": "code",
   "execution_count": 63,
   "metadata": {},
   "outputs": [
    {
     "name": "stderr",
     "output_type": "stream",
     "text": [
      "[Parallel(n_jobs=1)]: Using backend SequentialBackend with 1 concurrent workers.\n",
      "[Parallel(n_jobs=1)]: Done   1 out of   1 | elapsed:    0.0s remaining:    0.0s\n",
      "[Parallel(n_jobs=1)]: Done  16 out of  16 | elapsed:    0.6s finished\n",
      "\n",
      "[2020-04-18 19:45:07] Features: 1/14 -- score: 0.6337254901960784[Parallel(n_jobs=1)]: Using backend SequentialBackend with 1 concurrent workers.\n",
      "[Parallel(n_jobs=1)]: Done   1 out of   1 | elapsed:    0.0s remaining:    0.0s\n",
      "[Parallel(n_jobs=1)]: Done  15 out of  15 | elapsed:    0.3s finished\n",
      "\n",
      "[2020-04-18 19:45:07] Features: 2/14 -- score: 0.6578823529411764[Parallel(n_jobs=1)]: Using backend SequentialBackend with 1 concurrent workers.\n",
      "[Parallel(n_jobs=1)]: Done   1 out of   1 | elapsed:    0.0s remaining:    0.0s\n",
      "[Parallel(n_jobs=1)]: Done  14 out of  14 | elapsed:    0.2s finished\n",
      "\n",
      "[2020-04-18 19:45:08] Features: 3/14 -- score: 0.6658039215686274[Parallel(n_jobs=1)]: Using backend SequentialBackend with 1 concurrent workers.\n",
      "[Parallel(n_jobs=1)]: Done   1 out of   1 | elapsed:    0.0s remaining:    0.0s\n",
      "[Parallel(n_jobs=1)]: Done  13 out of  13 | elapsed:    0.2s finished\n",
      "\n",
      "[2020-04-18 19:45:08] Features: 4/14 -- score: 0.6108235294117647[Parallel(n_jobs=1)]: Using backend SequentialBackend with 1 concurrent workers.\n",
      "[Parallel(n_jobs=1)]: Done   1 out of   1 | elapsed:    0.0s remaining:    0.0s\n",
      "[Parallel(n_jobs=1)]: Done  12 out of  12 | elapsed:    0.2s finished\n",
      "\n",
      "[2020-04-18 19:45:08] Features: 5/14 -- score: 0.5947450980392157[Parallel(n_jobs=1)]: Using backend SequentialBackend with 1 concurrent workers.\n",
      "[Parallel(n_jobs=1)]: Done   1 out of   1 | elapsed:    0.0s remaining:    0.0s\n",
      "[Parallel(n_jobs=1)]: Done  11 out of  11 | elapsed:    0.1s finished\n",
      "\n",
      "[2020-04-18 19:45:08] Features: 6/14 -- score: 0.6028235294117646[Parallel(n_jobs=1)]: Using backend SequentialBackend with 1 concurrent workers.\n",
      "[Parallel(n_jobs=1)]: Done   1 out of   1 | elapsed:    0.0s remaining:    0.0s\n",
      "[Parallel(n_jobs=1)]: Done  10 out of  10 | elapsed:    0.1s finished\n",
      "\n",
      "[2020-04-18 19:45:09] Features: 7/14 -- score: 0.6341176470588236[Parallel(n_jobs=1)]: Using backend SequentialBackend with 1 concurrent workers.\n",
      "[Parallel(n_jobs=1)]: Done   1 out of   1 | elapsed:    0.0s remaining:    0.0s\n",
      "[Parallel(n_jobs=1)]: Done   9 out of   9 | elapsed:    0.1s finished\n",
      "\n",
      "[2020-04-18 19:45:09] Features: 8/14 -- score: 0.6619607843137254[Parallel(n_jobs=1)]: Using backend SequentialBackend with 1 concurrent workers.\n",
      "[Parallel(n_jobs=1)]: Done   1 out of   1 | elapsed:    0.0s remaining:    0.0s\n",
      "[Parallel(n_jobs=1)]: Done   8 out of   8 | elapsed:    0.1s finished\n",
      "\n",
      "[2020-04-18 19:45:09] Features: 9/14 -- score: 0.6733333333333332[Parallel(n_jobs=1)]: Using backend SequentialBackend with 1 concurrent workers.\n",
      "[Parallel(n_jobs=1)]: Done   1 out of   1 | elapsed:    0.0s remaining:    0.0s\n",
      "[Parallel(n_jobs=1)]: Done   7 out of   7 | elapsed:    0.1s finished\n",
      "\n",
      "[2020-04-18 19:45:09] Features: 10/14 -- score: 0.6733333333333332[Parallel(n_jobs=1)]: Using backend SequentialBackend with 1 concurrent workers.\n",
      "[Parallel(n_jobs=1)]: Done   1 out of   1 | elapsed:    0.0s remaining:    0.0s\n",
      "[Parallel(n_jobs=1)]: Done   6 out of   6 | elapsed:    0.0s finished\n",
      "\n",
      "[2020-04-18 19:45:09] Features: 11/14 -- score: 0.6691764705882353[Parallel(n_jobs=1)]: Using backend SequentialBackend with 1 concurrent workers.\n",
      "[Parallel(n_jobs=1)]: Done   1 out of   1 | elapsed:    0.0s remaining:    0.0s\n",
      "[Parallel(n_jobs=1)]: Done   5 out of   5 | elapsed:    0.0s finished\n",
      "\n",
      "[2020-04-18 19:45:09] Features: 12/14 -- score: 0.6417254901960785[Parallel(n_jobs=1)]: Using backend SequentialBackend with 1 concurrent workers.\n",
      "[Parallel(n_jobs=1)]: Done   1 out of   1 | elapsed:    0.0s remaining:    0.0s\n",
      "[Parallel(n_jobs=1)]: Done   4 out of   4 | elapsed:    0.0s finished\n",
      "\n",
      "[2020-04-18 19:45:10] Features: 13/14 -- score: 0.6063529411764707[Parallel(n_jobs=1)]: Using backend SequentialBackend with 1 concurrent workers.\n",
      "[Parallel(n_jobs=1)]: Done   1 out of   1 | elapsed:    0.0s remaining:    0.0s\n",
      "[Parallel(n_jobs=1)]: Done   3 out of   3 | elapsed:    0.0s finished\n",
      "\n",
      "[2020-04-18 19:45:10] Features: 14/14 -- score: 0.6258039215686274"
     ]
    },
    {
     "name": "stdout",
     "output_type": "stream",
     "text": [
      "Features removed:\n",
      "PaO2/FiO2, WBC\n",
      "\n",
      "Features selected:\n",
      "age, sex, Alb, PLT, CRP, APACHE II, SOFA, McCabe, LDH, CT score, PEEP, PIP, TV, DARDS = 1\n",
      "\n",
      "Best parameters:\n",
      " n_neighbors: 1\n"
     ]
    },
    {
     "data": {
      "image/png": "[encoded data removed]",
      "text/plain": [
       "<Figure size 432x288 with 2 Axes>"
      ]
     },
     "metadata": {
      "needs_background": "light"
     },
     "output_type": "display_data"
    },
    {
     "data": {
      "image/png": "[encoded data removed]",
      "text/plain": [
       "<Figure size 432x288 with 1 Axes>"
      ]
     },
     "metadata": {
      "needs_background": "light"
     },
     "output_type": "display_data"
    }
   ],
   "source": [
    "generate_final_report(knn_runner, \"K Nearest Neighbors Classifier\")"
   ]
  },
  {
   "cell_type": "markdown",
   "metadata": {},
   "source": [
    "# Random Forest Classifier"
   ]
  },
  {
   "cell_type": "markdown",
   "metadata": {},
   "source": [
    "Random Forests are an extension of bagged decision trees. They randomly select a subset of the input features for candidate splits to test. The feature with the best gain is selected from the subset. This process is repeated many times. The class label is then decided based on the most frequent classification from the trees. The samples are drawn with replacement.   \n",
    "\n",
    "***Hyperparameters:***  \n",
    "  \n",
    "*max_depth*- The maximum depth of the tree. The range of values tested for max_depth are: [1, 10, 20, 30, 40, 50]  \n",
    "  \n",
    "*min_samples_leaf*- The minimum number of samples required to be a leaf node. The tree will not be split if less than min_samples_leaf is left in either the left or right branch. The range of values tested for min_samples_leafe are: [1, 2,  3, 4, 5, 6, 7, 8, 9, 10, 11, 12, 13, 14, 15].  \n",
    "  \n",
    "*max_features*- The number of features to consider when looking for the best split. Consider sqrt(n_features) and log2(n_features).  \n",
    "  \n"
   ]
  },
  {
   "cell_type": "code",
   "execution_count": 16,
   "metadata": {},
   "outputs": [],
   "source": [
    "def random_forest_runner(data_X, data_Y):\n",
    "    #Create a random forest classifier\n",
    "    rfc = RFC()\n",
    "    #params \n",
    "    max_depth_lst = list(range(1, 51, 9))\n",
    "    min_leaf_lst = list(range(1, 15))\n",
    "    param_grid = {'max_depth': max_depth_lst,\n",
    "                  'min_samples_leaf': min_leaf_lst,\n",
    "                  'max_features': ['sqrt', 'log2']    \n",
    "    }\n",
    "    #grid search for best max depth, min samples per leaf and max features\n",
    "    clf = GridSearchCV(rfc, param_grid, cv=5)\n",
    "    #fit model to output best hyperparameters\n",
    "    clf.fit(data_X, data_Y)\n",
    "    print('Best parameters:\\n'+\n",
    "          'max_depth:', clf.best_params_['max_depth'], '\\n'+\n",
    "          'min_samples_leaf:', clf.best_params_['min_samples_leaf'], '\\n'+\n",
    "          'max_features:', clf.best_params_['max_features'])\n",
    "    #cross validation\n",
    "    Y_pred = cross_val_predict(clf, data_X, data_Y, cv=5)\n",
    "    avg_acc = accuracy_score(data_Y, Y_pred)\n",
    "    return Y_pred\n",
    ";"
   ]
  },
  {
   "cell_type": "code",
   "execution_count": 17,
   "metadata": {},
   "outputs": [
    {
     "name": "stdout",
     "output_type": "stream",
     "text": [
      "Best parameters:\n",
      "max_depth: 37 \n",
      "min_samples_leaf: 1 \n",
      "max_features: log2\n"
     ]
    },
    {
     "data": {
      "image/png": "[encoded data removed]",
      "text/plain": [
       "<Figure size 432x288 with 2 Axes>"
      ]
     },
     "metadata": {
      "needs_background": "light"
     },
     "output_type": "display_data"
    },
    {
     "data": {
      "image/png": "[encoded data removed]",
      "text/plain": [
       "<Figure size 432x288 with 1 Axes>"
      ]
     },
     "metadata": {
      "needs_background": "light"
     },
     "output_type": "display_data"
    }
   ],
   "source": [
    "generate_final_report(random_forest_runner, \"Random Forest Classifier\")"
   ]
  },
  {
   "cell_type": "markdown",
   "metadata": {},
   "source": [
    "# Neural Network"
   ]
  },
  {
   "cell_type": "markdown",
   "metadata": {},
   "source": [
    "sklearn's `MLPClassifier` is a multi-layer perceptron. Input is transformed through an arbitrary number of intermediate \"hidden layers\" before reaching the output layer.\n",
    "\n",
    "***Hyperparameters:***\n",
    "\n",
    "*Hidden layer sizes:* this represents the size and shape of the hidden layers. we're testing between 1 and 8 layers with anywhere between 5 and 30 neurons per layer. These parameters provided the best balance between performance and training time.\n",
    "\n",
    "*Activation function:* this is the activation function applied to the output of every neuron- here either logistic, tanh, or relu- all standard options.\n",
    "\n",
    "*Solver:* this is the function used to optimize the weights in the neurons. adam is a stochastic-gradient descent based solver, and lbfgs is \"an optimizer in the family of quasi-Newton methods\" ([source, the MLPClassifer docs](https://scikit-learn.org/stable/modules/generated/sklearn.neural_network.MLPClassifier.html))\n",
    "\n",
    "*n_components:* this is the number of components that PCA will reduce the data to."
   ]
  },
  {
   "cell_type": "code",
   "execution_count": 67,
   "metadata": {},
   "outputs": [
    {
     "data": {
      "text/plain": [
       "''"
      ]
     },
     "execution_count": 67,
     "metadata": {},
     "output_type": "execute_result"
    }
   ],
   "source": [
    "def neural_network_runner(x_smote, y_smote):    \n",
    "    scaler = StandardScaler()\n",
    "    perceptron = MLPClassifier()\n",
    "    pca = PCA()\n",
    "\n",
    "    steps = [(\"scaler\",scaler),(\"pca\",pca), (\"nn\",perceptron)]\n",
    "    perceptron_pipeline = Pipeline(steps=steps)\n",
    "    \n",
    "    hidden_layer_sizes = []\n",
    "    for layer_size in range(5,35,5):\n",
    "        for layer_num in range(1,9):\n",
    "            hidden_layer_sizes.append((layer_size,) * layer_num)\n",
    "            \n",
    "    params_grid = {\n",
    "        \"nn__hidden_layer_sizes\":hidden_layer_sizes,\n",
    "        \"nn__activation\":[\"logistic\",\"tanh\",\"relu\"],\n",
    "        \"nn__solver\":[\"lbfgs\",\"adam\"],\n",
    "        'pca__n_components' :list(range(1, 20)),\n",
    "    }\n",
    "\n",
    "    grid_search = GridSearchCV(perceptron_pipeline, params_grid)\n",
    "    grid_search.fit(x_smote, y_smote)\n",
    "    parameter_str = f\"\"\"Best parameters:\\n\n",
    "        hidden_layer_sizes: {grid_search.best_params_['nn__hidden_layer_sizes']}\\n\n",
    "        activation_function: {grid_search.best_params_['nn__activation']}\\n\n",
    "        solver: {grid_search.best_params_['nn__solver']}\\n\n",
    "        number of PCA components: {grid_search.best_params_['pca__n_components']}\\n\n",
    "    \"\"\"\n",
    "    print(parameter_str)\n",
    "    y_pred = cross_val_predict(grid_search, x_smote, y_smote, cv=5)\n",
    "    avg_acc = accuracy_score(y_smote, y_pred)\n",
    "    return y_pred\n",
    ";"
   ]
  },
  {
   "cell_type": "code",
   "execution_count": null,
   "metadata": {},
   "outputs": [],
   "source": [
    "%%time\n",
    "generate_final_report(neural_network_runner,\"Neural Network\")"
   ]
  },
  {
   "cell_type": "markdown",
   "metadata": {},
   "source": [
    "# SVM"
   ]
  },
  {
   "cell_type": "markdown",
   "metadata": {},
   "source": [
    "SVM is a classification algorithm based on seperating data using vectors in n-dimensional space.\n",
    "\n",
    "***Hyperparameters:***\n",
    "\n",
    "*kernel:* This controls what kernel is used to process & separate the data. We allowed the pipeline to try every option to see which is the most performant on our data.\n",
    "\n",
    "*class_weight:* the SVM also can take in a weight matrix that determines how hard it penalizes mistakes relative to every class. we gave it five options on a spectrum between placing emphasis on each class to see which would be the most performant.\n",
    "\n",
    "*n_components:* this is the number of components that PCA will reduce the data to."
   ]
  },
  {
   "cell_type": "code",
   "execution_count": 9,
   "metadata": {},
   "outputs": [
    {
     "data": {
      "text/plain": [
       "''"
      ]
     },
     "execution_count": 9,
     "metadata": {},
     "output_type": "execute_result"
    }
   ],
   "source": [
    "def svm_runner(data_x, data_y):\n",
    "    pca = PCA()\n",
    "    scaler = StandardScaler()\n",
    "    svc = SVC()\n",
    "\n",
    "    steps = [(\"scaler\", scaler), (\"pca\",pca), (\"svc\", svc)]\n",
    "\n",
    "    pipeline = Pipeline(steps=steps)\n",
    "\n",
    "    class_weight_options = [\n",
    "        {0:.5,1:.5}, # penalizing mistakes involving the classes the same\n",
    "        {0:.6,1:.4}, # slight emphasis on class 0\n",
    "        {0:.4,1:.6}, # slight emphasis on class 1\n",
    "        {0:.1,1:.9}, # heavy emphasis on class 1\n",
    "        {0:.9,1:.1}  # heavy emphasis on class 0\n",
    "    ]\n",
    "\n",
    "\n",
    "    param_grid = {\n",
    "        'svc__kernel': ['linear', 'rbf', 'poly', 'sigmoid'],\n",
    "        'svc__class_weight':class_weight_options,\n",
    "        'pca__n_components' :list(range(1, 20)),\n",
    "    }\n",
    "\n",
    "    grid_search = GridSearchCV(pipeline, param_grid)\n",
    "    grid_search.fit(data_x, data_y)\n",
    "    \n",
    "    parameter_str = f\"\"\"Best parameters:\\n\n",
    "        svc__kernel: {grid_search.best_params_['svc__kernel']}\\n\n",
    "        svc__class_weight: {grid_search.best_params_['svc__class_weight']}\\n\n",
    "        number of PCA components: {grid_search.best_params_['pca__n_components']}\\n\n",
    "    \"\"\"\n",
    "    print(parameter_str)\n",
    "    pred_y = cross_val_predict(grid_search, data_x, data_y, cv=10)\n",
    "    avg_acc = accuracy_score(data_y, pred_y)\n",
    "    return pred_y\n",
    ";"
   ]
  },
  {
   "cell_type": "code",
   "execution_count": 10,
   "metadata": {},
   "outputs": [
    {
     "name": "stdout",
     "output_type": "stream",
     "text": [
      "Best parameters:\n",
      "\n",
      "        svc__kernel: rbf\n",
      "\n",
      "        svc__class_weight: {0: 0.5, 1: 0.5}\n",
      "\n",
      "        number of PCA components: 10\n",
      "\n",
      "    \n"
     ]
    },
    {
     "data": {
      "image/png": "[encoded data removed]",
      "text/plain": [
       "<Figure size 432x288 with 2 Axes>"
      ]
     },
     "metadata": {
      "needs_background": "light"
     },
     "output_type": "display_data"
    },
    {
     "data": {
      "image/png": "[encoded data removed]",
      "text/plain": [
       "<Figure size 432x288 with 1 Axes>"
      ]
     },
     "metadata": {
      "needs_background": "light"
     },
     "output_type": "display_data"
    }
   ],
   "source": [
    "generate_final_report(svm_runner,\"Support Vector Machine\")"
   ]
  },
  {
   "cell_type": "markdown",
   "metadata": {},
   "source": [
    "# AdaBoost"
   ]
  },
  {
   "cell_type": "markdown",
   "metadata": {},
   "source": [
    "###### Boosting\n",
    "  \n",
    "AdaBoostClassifier is an ensemble classifier that iteratively changes the distribution of the training data. The base classifiers focus on hard to classify examples by assigning a weight to each example and updating that weight at the end of each boosting rund. The weight is then used as a sampling dsitribution to draw a set of bootstrap samples. The base estimator is a DecisionTreeClassifier(max_depth=1).  \n",
    "  \n",
    "***Hyperparameters:***  \n",
    "  \n",
    "*number of estimators*- The maximum number of estimators before the boosting is terminated."
   ]
  },
  {
   "cell_type": "code",
   "execution_count": 65,
   "metadata": {},
   "outputs": [
    {
     "data": {
      "text/plain": [
       "''"
      ]
     },
     "execution_count": 65,
     "metadata": {},
     "output_type": "execute_result"
    }
   ],
   "source": [
    "def ada_boost_runner(data_X, data_Y):\n",
    "    #create an AdaBoostClassifier\n",
    "    abc = ABC()\n",
    "    #params\n",
    "    est_lst = list(range(5, 200, 5))\n",
    "    param_grid = {'n_estimators': est_lst}\n",
    "    #grid search for best n_estimators\n",
    "    clf = GridSearchCV(abc, param_grid, cv=5)\n",
    "    #cross validation\n",
    "    Y_pred = cross_val_predict(clf, data_X, data_Y, cv=5)\n",
    "    #fit model to output best hyperparameters\n",
    "    clf.fit(data_X, data_Y)\n",
    "    print('Best parameters:\\n'+\n",
    "          'n_estimators:', clf.best_params_['n_estimators'])\n",
    "    \n",
    "    avg_acc = accuracy_score(data_Y, Y_pred)    \n",
    "    return Y_pred\n",
    ";\n"
   ]
  },
  {
   "cell_type": "code",
   "execution_count": 66,
   "metadata": {},
   "outputs": [
    {
     "name": "stdout",
     "output_type": "stream",
     "text": [
      "Best parameters:\n",
      "n_estimators: 105\n"
     ]
    },
    {
     "data": {
      "image/png": "[encoded data removed]",
      "text/plain": [
       "<Figure size 432x288 with 2 Axes>"
      ]
     },
     "metadata": {
      "needs_background": "light"
     },
     "output_type": "display_data"
    },
    {
     "data": {
      "image/png": "[encoded data removed]",
      "text/plain": [
       "<Figure size 432x288 with 1 Axes>"
      ]
     },
     "metadata": {
      "needs_background": "light"
     },
     "output_type": "display_data"
    }
   ],
   "source": [
    "generate_final_report(ada_boost_runner, \"AdaBoost\")"
   ]
  },
  {
   "cell_type": "code",
   "execution_count": null,
   "metadata": {},
   "outputs": [],
   "source": []
  }
 ],
 "metadata": {
  "kernelspec": {
   "display_name": "Python 3",
   "language": "python",
   "name": "python3"
  },
  "language_info": {
   "codemirror_mode": {
    "name": "ipython",
    "version": 3
   },
   "file_extension": ".py",
   "mimetype": "text/x-python",
   "name": "python",
   "nbconvert_exporter": "python",
   "pygments_lexer": "ipython3",
   "version": "3.7.7"
  }
 },
 "nbformat": 4,
 "nbformat_minor": 2
}
