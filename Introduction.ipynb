{
 "cells": [
  {
   "cell_type": "markdown",
   "metadata": {},
   "source": [
    "# Introduction"
   ]
  },
  {
   "cell_type": "markdown",
   "metadata": {},
   "source": [
    "### Summary of Dataset"
   ]
  },
  {
   "cell_type": "markdown",
   "metadata": {},
   "source": [
    "The official title of the dataset used in this machine learning project is \"Clinical characteristics and prognosis of drug-associated acute respiratory distress syndrome compared with non-drug-associated acute respiratory distress syndrome: a single-centre retrospective study in Japan.\" \n",
    "\n",
    "Where did we find this dataset?\n",
    "What did they find in their analysis?\n",
    "What we're going to be doing differently "
   ]
  },
  {
   "cell_type": "markdown",
   "metadata": {},
   "source": [
    "### Definition of Variables"
   ]
  },
  {
   "cell_type": "markdown",
   "metadata": {},
   "source": [
    "Give a short background definition on each of the variables"
   ]
  },
  {
   "cell_type": "markdown",
   "metadata": {},
   "source": [
    "age - "
   ]
  },
  {
   "cell_type": "markdown",
   "metadata": {},
   "source": [
    "sex - "
   ]
  },
  {
   "cell_type": "markdown",
   "metadata": {},
   "source": [
    "Alb - "
   ]
  },
  {
   "cell_type": "markdown",
   "metadata": {},
   "source": [
    "PLT - "
   ]
  },
  {
   "cell_type": "markdown",
   "metadata": {},
   "source": [
    "WBC - "
   ]
  },
  {
   "cell_type": "markdown",
   "metadata": {},
   "source": [
    "CRP - "
   ]
  },
  {
   "cell_type": "markdown",
   "metadata": {},
   "source": [
    "APACHE II - "
   ]
  },
  {
   "cell_type": "markdown",
   "metadata": {},
   "source": [
    "SOFA - "
   ]
  },
  {
   "cell_type": "markdown",
   "metadata": {},
   "source": [
    "McCabe - "
   ]
  },
  {
   "cell_type": "markdown",
   "metadata": {},
   "source": [
    "PaO2/FiO2 - "
   ]
  },
  {
   "cell_type": "markdown",
   "metadata": {},
   "source": [
    "LDH - "
   ]
  },
  {
   "cell_type": "markdown",
   "metadata": {},
   "source": [
    "CT score - "
   ]
  },
  {
   "cell_type": "markdown",
   "metadata": {},
   "source": [
    "PEEP - "
   ]
  },
  {
   "cell_type": "markdown",
   "metadata": {},
   "source": [
    "PIP - "
   ]
  },
  {
   "cell_type": "markdown",
   "metadata": {},
   "source": [
    "TV - "
   ]
  },
  {
   "cell_type": "markdown",
   "metadata": {},
   "source": [
    "DARDS = 1 - "
   ]
  },
  {
   "cell_type": "markdown",
   "metadata": {},
   "source": [
    "days - "
   ]
  },
  {
   "cell_type": "markdown",
   "metadata": {},
   "source": [
    "death = 1 - "
   ]
  },
  {
   "cell_type": "markdown",
   "metadata": {},
   "source": [
    "days.1 - "
   ]
  },
  {
   "cell_type": "markdown",
   "metadata": {},
   "source": [
    "ventilator weaning = 1 - "
   ]
  },
  {
   "cell_type": "markdown",
   "metadata": {},
   "source": [
    "VFD - "
   ]
  }
 ],
 "metadata": {
  "kernelspec": {
   "display_name": "Python 3",
   "language": "python",
   "name": "python3"
  },
  "language_info": {
   "codemirror_mode": {
    "name": "ipython",
    "version": 3
   },
   "file_extension": ".py",
   "mimetype": "text/x-python",
   "name": "python",
   "nbconvert_exporter": "python",
   "pygments_lexer": "ipython3",
   "version": "3.7.4"
  }
 },
 "nbformat": 4,
 "nbformat_minor": 2
}
