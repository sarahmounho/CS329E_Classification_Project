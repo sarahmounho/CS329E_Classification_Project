{
 "cells": [
  {
   "cell_type": "markdown",
   "metadata": {},
   "source": [
    "# Introduction  \n",
    "  \n",
    "A machine-learning model is proposed to predict 28-day mortality in patients with Acute Respiratory Distress Syndrome (ARDS)."
   ]
  },
  {
   "cell_type": "markdown",
   "metadata": {},
   "source": [
    "### Acute Respiratory Distress Syndrome (ARDS) Background  \n",
    "  \n",
    "Acute respiratory distress syndrome (ARDS) affects ~228,900<sup>1</sup> people in the United States each year. Individuals with ARDS experience life-threatening symptoms due to poor oxygenation<sup>2</sup>. ARDS has a 43%<sup>1</sup> mortality rate. Treatment is indirect and involves supportive ventilation, prone positioning and sedation to prevent movement, allowing the lungs to heal<sup>3</sup>. Some ventilatory treatments may exacerbate the lung injury. \n",
    "  \n",
    "\n",
    "Research has identified features to monitor to reduce lung damage including: Positive end-expiratory pressure (PEEP) and tidal volume (TV)<sup>1</sup>. Machine-learning provides the opportunity to combine the influence of many features for a comprehensive view of patient response. This may lead to the prediction of treatment response faster and/or more accurately.  \n",
    "  \n",
    "Due to the high and quick mortality of ARDS even with medical care, there is an identified need for the application of a machine-learning model to predict treatment response and mortality."
   ]
  },
  {
   "cell_type": "markdown",
   "metadata": {},
   "source": [
    "### Dataset Summary  \n",
    "  \n",
    "A retrospective study from a teaching hospital in Japan (n=197) studied differences between drug-associated ARDS (n=27) and non-drug-associated ARDS (n=170)<sup>4</sup>. The study was published in the British Journal of Medicine (BMJ) and the dataset was open-source and published by Dryad. The focus of the original study was to report the prognosis of drug-associated ARDS compared to non-drug associated ARDS. The conclusion of the study was more severe lung damage was observed in drug-associated ARDS patients But, ventilator weaning and prognosis was better than for non-drug associated ARDS patients. The proposed project focuses on creating a model that accurately predicts prognosis of all ARDS patients for use in treatment decisions."
   ]
  },
  {
   "cell_type": "markdown",
   "metadata": {},
   "source": [
    "### Feature Summary   \n",
    "  \n",
    "#### **Demographic Features**  \n",
    "  \n",
    "***Age***- (Years). Patient age at time of study.  \n",
    "  \n",
    "***Sex***- (Male/Female). Patient biological sex.  \n",
    "  \n",
    "#### **Blood Test Features**  \n",
    "  \n",
    "***Alb***- Albumin (g/dL). Albumin is a protein produced by the liver that prevents fluid from leaking out of the blood stream and assists in transporting hormones, vitamins and enzymes throughout the body. Low levels may indicate poor functioning liver or kidneys.  \n",
    "  \n",
    "***PLT***- Platelet count (per mm<sup>3</sup>). Platelets circulate in the blood stream and respond to damaged blood vessels. ARDS patients may have a low platelet count.  \n",
    "  \n",
    "***WBC***- White cell count (per mm<sup>3</sup>). White blood cells are a part of the immune system and help fight infections. Elevated counts may indicate underlying infection. Repressed counts may indicate an inability to fight infection.  \n",
    "  \n",
    "***CRP***- C reactive protein (mg/dL). CRP is a protein produced by the liver that causes inflammation. CRP levels in the blood may detect inflammation in acute diseases and monitor the severity of chronic diseases.  \n",
    "  \n",
    "***LDH***- Lactate dehydrogenase (IU/L). LDH is an enzyme that is released when there is tissue damage. High levels indicate tissue disease or injury.  \n",
    "  \n",
    "#### **ICU Scoring Systems**  \n",
    "  \n",
    "***APACHE II***- Acute Physiology And Chronic Health Evaluation II is used to enumerate the severity-of-disease. APACHE II is calculated at the beginning of ICU admission to assess patient mortality risk.  \n",
    "  \n",
    "***SOFA***- Sequential Organ Failure Assessment quantifies the number and severity of failed organs. The score is calculated on admission and updated every 24 hours.  \n",
    "  \n",
    "***McCabe***- (1/2/3). The McCabe score classifies patients into 3 categories: 1) non-fatal, 2) ultimately fatal and 3) rapidly fatal. This is a subjective score of the severity of underlying conditions.  \n",
    "  \n",
    "#### **Respiratory Tests and Ventilation**- \n",
    "  \n",
    "***PaO<sub>2</sub>/FiO<sub>2</sub>***- The ratio of arterial oxygen partial pressure (PaO<sub>2</sub> in mmHg) to fractional inspired oxygen (FiO<sub>2</sub>) is an clinical indicator of hypoxemia (low-levels of arterial oxygen). Low levels can be an indicator of poor circulation and is an indicator of ARDS severity.  \n",
    "  \n",
    "***CT score***- A high-resolution CT score which indicates the degree of fibroproliferative lesions in the lungs. Fibroproliferation is the excessive accumulation of connective tissue and deterioration of tissue structure and function.  \n",
    "  \n",
    "***PEEP***- Positive End-Expiratory Pressure (cmH<sub>2</sub>). The positive pressure remaining in the airways after exhalation in patients under mechanical ventilation. PEEP is maintained to improve gas exchange during mechanical ventilation by decreasing the shunting of blood through the lungs. PEEP often lowers the necessary level of oxygen needed.  \n",
    "  \n",
    "\n",
    "***PIP***- Peak Inspiratory Pressure (cmH<sub>2</sub>). The pressure in the chest after inhalation. PIP increases with airway resistance and is elevated in ARDS patients.  \n",
    "  \n",
    "***TV***- Tidal Volume (mL). The volume of air moved between inhalation and exhalation. Ventilatory-induced lung injury has been found with high tidal volume in ARDS patients.  \n",
    "  \n",
    "***ventilator weaning = 1***- (0/1). The patient was able taken off of the ventilator (ventilator weaning = 1) or the patient remained on the ventilator for the duration of the 28-day study (ventilator weaning = 0).  \n",
    "  \n",
    "***VFD***- Ventilator-free days (days). The number of days that the patient was not using a ventilator.  \n",
    "  \n",
    "\n",
    "#### **Disease Cause**  \n",
    "  \n",
    "***DARDS = 1***- (0/1). ARDS may be caused by infectious diseases like pneumonia and sepsis. Some molecular target drugs have been found to also cause ARDS. The cause of ARDS drug-associated  (DARDS=1) or non-drug-associated ARDS (DARDS=0) may lead to different treatment response and clinical outcome.  \n",
    "  \n",
    "#### **Class Label**  \n",
    "  \n",
    "***death = 1***- (0/1). Whether the patient succumbed to the disease over the 28-day period. Alive after the 28-day period (death=0), Dead before the 28-day period (death=1).  \n",
    "  \n",
    "#### **Inferred Features**  \n",
    "The journal article does not explicitly detail the following variables. However, educated inferences are possible to determine their meaning.\n",
    "  \n",
    "***days***-  Days alive (days). All patients who died have values less than 28 days. All patients who survived have values equal to 28 days.\n",
    "  \n",
    "***days.1***- Days on incubator (days). The days.1 feature + VFD feature = 28 days, the length of the study. \n"
   ]
  },
  {
   "cell_type": "code",
   "execution_count": null,
   "metadata": {},
   "outputs": [],
   "source": []
  }
 ],
 "metadata": {
  "kernelspec": {
   "display_name": "Python 3",
   "language": "python",
   "name": "python3"
  },
  "language_info": {
   "codemirror_mode": {
    "name": "ipython",
    "version": 3
   },
   "file_extension": ".py",
   "mimetype": "text/x-python",
   "name": "python",
   "nbconvert_exporter": "python",
   "pygments_lexer": "ipython3",
   "version": "3.7.4"
  }
 },
 "nbformat": 4,
 "nbformat_minor": 2
}
